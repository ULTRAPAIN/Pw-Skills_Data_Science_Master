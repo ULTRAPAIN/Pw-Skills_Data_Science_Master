{
 "cells": [
  {
   "cell_type": "code",
   "execution_count": 2,
   "id": "77f70457-7004-440e-8273-37ec23d43494",
   "metadata": {
    "tags": []
   },
   "outputs": [],
   "source": [
    "list=[\"apple\",\"banana\",\"chickoo\",\"strawberry\"]\n",
    "list.append(\"yo\")"
   ]
  },
  {
   "cell_type": "code",
   "execution_count": 3,
   "id": "6157ab49-ea72-41c3-b4ff-8675a4db9bf0",
   "metadata": {},
   "outputs": [
    {
     "name": "stdout",
     "output_type": "stream",
     "text": [
      "['apple', 'banana', 'chickoo', 'strawberry', 'yo']\n"
     ]
    }
   ],
   "source": [
    "print(list)"
   ]
  },
  {
   "cell_type": "code",
   "execution_count": 4,
   "id": "3fcf91a1-aadc-41f3-94f0-0091fb8030e5",
   "metadata": {},
   "outputs": [
    {
     "data": {
      "text/plain": [
       "\"['apple', 'banana', 'chickoo', 'strawberry', 'yo']fruits\""
      ]
     },
     "execution_count": 4,
     "metadata": {},
     "output_type": "execute_result"
    }
   ],
   "source": [
    "str(list)+\"fruits\""
   ]
  },
  {
   "cell_type": "code",
   "execution_count": 13,
   "id": "1bb8c7c2-8596-4826-a466-de06e4b969f2",
   "metadata": {},
   "outputs": [
    {
     "name": "stdout",
     "output_type": "stream",
     "text": [
      "['apple', 'banana', 'chickoo', 'strawberry', 'yo', [1, 2, 3], [1, 2, 3], [1, 2, 3, 'D', 'a', 's', 's', 'u'], [1, 2, 3]]\n"
     ]
    }
   ],
   "source": [
    "# we can add lsit with another list  example\n",
    "list1=[1,2,3]\n",
    "list.append(list1)\n",
    "print(list)"
   ]
  },
  {
   "cell_type": "code",
   "execution_count": 10,
   "id": "69fe25e7-e909-49fc-b7b0-dcd2b59afc60",
   "metadata": {},
   "outputs": [
    {
     "data": {
      "text/plain": [
       "1"
      ]
     },
     "execution_count": 10,
     "metadata": {},
     "output_type": "execute_result"
    }
   ],
   "source": [
    "list[-1][0]"
   ]
  },
  {
   "cell_type": "code",
   "execution_count": 11,
   "id": "6c05b7b3-43f1-4c5e-ad43-2a415785a758",
   "metadata": {},
   "outputs": [
    {
     "name": "stdout",
     "output_type": "stream",
     "text": [
      "[1, 2, 3, 'D', 'a', 's', 's', 'u']\n"
     ]
    }
   ],
   "source": [
    "#extend functions breaks the string in to individual parts and append to last part\n",
    "list1.extend(\"Dassu\")\n",
    "print(list1)"
   ]
  },
  {
   "cell_type": "code",
   "execution_count": 14,
   "id": "b2f483c7-fe81-4718-8922-61ad65454ee9",
   "metadata": {},
   "outputs": [],
   "source": [
    "#insert function inserts anything inside list , its a function of list\n",
    "list1.insert(3,\"dassu\")\n"
   ]
  },
  {
   "cell_type": "code",
   "execution_count": 15,
   "id": "a6fcfb7d-6f59-476e-91af-ef6d25795e5e",
   "metadata": {},
   "outputs": [
    {
     "name": "stdout",
     "output_type": "stream",
     "text": [
      "[1, 2, 3, 'dassu']\n"
     ]
    }
   ],
   "source": [
    "print(list1)"
   ]
  },
  {
   "cell_type": "code",
   "execution_count": 20,
   "id": "0575137b-753b-4e64-ace7-01b9aaf7ff52",
   "metadata": {},
   "outputs": [],
   "source": [
    "list1.remove(2)"
   ]
  },
  {
   "cell_type": "code",
   "execution_count": 21,
   "id": "0515c075-3a47-49f3-8104-59782210880f",
   "metadata": {},
   "outputs": [
    {
     "name": "stdout",
     "output_type": "stream",
     "text": [
      "[1, 3]\n"
     ]
    }
   ],
   "source": [
    "print(list1)"
   ]
  },
  {
   "cell_type": "code",
   "execution_count": 22,
   "id": "bdb325a0-7475-4b13-b869-b7e574cf2f08",
   "metadata": {},
   "outputs": [
    {
     "name": "stdout",
     "output_type": "stream",
     "text": [
      "[1, 2, 3, 4, 5, [5, 6, 7]]\n"
     ]
    }
   ],
   "source": [
    "l1=[1,2,3,4,5]\n",
    "l2=[5,6,7]\n",
    "l1.append(l2)\n",
    "print(l1)\n"
   ]
  },
  {
   "cell_type": "code",
   "execution_count": 23,
   "id": "a49d013b-2b07-46bc-9b04-675fa9ca32ae",
   "metadata": {},
   "outputs": [],
   "source": [
    "l1[5].remove(5)"
   ]
  },
  {
   "cell_type": "code",
   "execution_count": 24,
   "id": "fe682692-474b-47bd-a655-d07b4e4615a5",
   "metadata": {},
   "outputs": [
    {
     "data": {
      "text/plain": [
       "[1, 2, 3, 4, 5, [6, 7]]"
      ]
     },
     "execution_count": 24,
     "metadata": {},
     "output_type": "execute_result"
    }
   ],
   "source": [
    "l1"
   ]
  },
  {
   "cell_type": "code",
   "execution_count": 25,
   "id": "7a870a6f-c078-4283-8642-270f4f64eaaa",
   "metadata": {},
   "outputs": [],
   "source": [
    "#SORT FUNCTION WORKS ON INTEGERS AND SORT STRING IN ALPHABETICAL ORDER \n",
    "# TO SORT FUNCTION IN REVERSE ORDER THEN SORT (REVERSE=TERUE)"
   ]
  },
  {
   "cell_type": "code",
   "execution_count": 27,
   "id": "64f1e28e-22d5-419e-bbf6-b7e501f1a6ac",
   "metadata": {},
   "outputs": [
    {
     "data": {
      "text/plain": [
       "[6, 7]"
      ]
     },
     "execution_count": 27,
     "metadata": {},
     "output_type": "execute_result"
    }
   ],
   "source": [
    "l1.pop(5)"
   ]
  },
  {
   "cell_type": "code",
   "execution_count": 28,
   "id": "0f8aac19-0ad1-41ff-8ef0-1e37b5477031",
   "metadata": {},
   "outputs": [],
   "source": [
    "l1.sort()"
   ]
  },
  {
   "cell_type": "code",
   "execution_count": 29,
   "id": "319c21de-9700-4686-b892-79d852848484",
   "metadata": {},
   "outputs": [
    {
     "data": {
      "text/plain": [
       "[1, 2, 3, 4, 5]"
      ]
     },
     "execution_count": 29,
     "metadata": {},
     "output_type": "execute_result"
    }
   ],
   "source": [
    "l1"
   ]
  },
  {
   "cell_type": "code",
   "execution_count": 30,
   "id": "17a3a2c6-87a9-4af7-8956-283a74376ffa",
   "metadata": {},
   "outputs": [],
   "source": [
    "l1.sort(reverse=True)"
   ]
  },
  {
   "cell_type": "code",
   "execution_count": 31,
   "id": "0ccf2129-233a-4b00-a2f1-90eebb1372f3",
   "metadata": {},
   "outputs": [
    {
     "data": {
      "text/plain": [
       "[5, 4, 3, 2, 1]"
      ]
     },
     "execution_count": 31,
     "metadata": {},
     "output_type": "execute_result"
    }
   ],
   "source": [
    "l1"
   ]
  },
  {
   "cell_type": "code",
   "execution_count": 32,
   "id": "446e120c-e51f-4cc7-9296-5fc9d1d348ee",
   "metadata": {},
   "outputs": [
    {
     "data": {
      "text/plain": [
       "1"
      ]
     },
     "execution_count": 32,
     "metadata": {},
     "output_type": "execute_result"
    }
   ],
   "source": [
    "#index function is used to find the index\n",
    "l1.index(4)"
   ]
  },
  {
   "cell_type": "code",
   "execution_count": 33,
   "id": "28ed7401-dbd3-4a23-8fda-4bdf3d46950b",
   "metadata": {},
   "outputs": [
    {
     "data": {
      "text/plain": [
       "1"
      ]
     },
     "execution_count": 33,
     "metadata": {},
     "output_type": "execute_result"
    }
   ],
   "source": [
    "l1.count(4)"
   ]
  },
  {
   "cell_type": "code",
   "execution_count": 34,
   "id": "2e94ff04-999e-4923-b029-b597ddc0f043",
   "metadata": {},
   "outputs": [],
   "source": [
    "l1[0]=\"dassu\""
   ]
  },
  {
   "cell_type": "code",
   "execution_count": 35,
   "id": "908c8112-7d8d-47d2-a756-3fa7662a65f3",
   "metadata": {},
   "outputs": [
    {
     "data": {
      "text/plain": [
       "['dassu', 4, 3, 2, 1]"
      ]
     },
     "execution_count": 35,
     "metadata": {},
     "output_type": "execute_result"
    }
   ],
   "source": [
    "l1"
   ]
  },
  {
   "cell_type": "code",
   "execution_count": 37,
   "id": "38a98596-accb-481a-bb76-bec7bfff6017",
   "metadata": {},
   "outputs": [],
   "source": [
    "# string does not  support mutability means we can update the string according to index\n",
    "# #"
   ]
  },
  {
   "cell_type": "code",
   "execution_count": 38,
   "id": "7e8db1eb-fff3-42ed-937b-cbca6be1bf8b",
   "metadata": {},
   "outputs": [],
   "source": [
    "s=l1[0]"
   ]
  },
  {
   "cell_type": "code",
   "execution_count": 39,
   "id": "84b6747a-2dfe-4827-8056-47fdedf3f949",
   "metadata": {},
   "outputs": [
    {
     "data": {
      "text/plain": [
       "'dassu'"
      ]
     },
     "execution_count": 39,
     "metadata": {},
     "output_type": "execute_result"
    }
   ],
   "source": [
    "s\n"
   ]
  },
  {
   "cell_type": "code",
   "execution_count": 41,
   "id": "4da34e6d-494c-48df-9640-c25c8b185543",
   "metadata": {},
   "outputs": [
    {
     "data": {
      "text/plain": [
       "'daddu'"
      ]
     },
     "execution_count": 41,
     "metadata": {},
     "output_type": "execute_result"
    }
   ],
   "source": [
    "s.replace(\"s\",\"d\",2)"
   ]
  },
  {
   "cell_type": "code",
   "execution_count": 42,
   "id": "48ca13ad-d499-4f01-9e62-4a118e1beca0",
   "metadata": {},
   "outputs": [
    {
     "data": {
      "text/plain": [
       "([3, 4, 5], 8, 7, 6, 5, 4, 3, 2, 1)"
      ]
     },
     "execution_count": 42,
     "metadata": {},
     "output_type": "execute_result"
    }
   ],
   "source": [
    "# in tuple we can do in reverse order \n",
    "t=(1,2,3,4,5,6,7,8,[3,4,5])\n",
    "t[::-1]"
   ]
  },
  {
   "cell_type": "code",
   "execution_count": 43,
   "id": "613bf896-96af-4694-ade9-6490b5811b36",
   "metadata": {},
   "outputs": [
    {
     "data": {
      "text/plain": [
       "1"
      ]
     },
     "execution_count": 43,
     "metadata": {},
     "output_type": "execute_result"
    }
   ],
   "source": [
    "t.count([3,4,5])"
   ]
  },
  {
   "cell_type": "code",
   "execution_count": 45,
   "id": "6fa716ef-69a5-4233-b621-7552f9ba7e8b",
   "metadata": {},
   "outputs": [
    {
     "data": {
      "text/plain": [
       "7"
      ]
     },
     "execution_count": 45,
     "metadata": {},
     "output_type": "execute_result"
    }
   ],
   "source": [
    "t.index(8)"
   ]
  },
  {
   "cell_type": "code",
   "execution_count": 46,
   "id": "f71f197a-9231-49fc-aea9-cec492564999",
   "metadata": {},
   "outputs": [],
   "source": [
    "# set keeps unique data and remove the duplicate data\n"
   ]
  },
  {
   "cell_type": "markdown",
   "id": "b9a35a56-5e1d-48ed-9dbd-87a9c0045bb0",
   "metadata": {},
   "source": [
    "fibonacci series"
   ]
  },
  {
   "cell_type": "code",
   "execution_count": 5,
   "id": "c6b7d714-7b69-4e66-93c7-e0084ce163cb",
   "metadata": {},
   "outputs": [
    {
     "name": "stdin",
     "output_type": "stream",
     "text": [
      "Enter your Number of element you are looking for 10\n"
     ]
    },
    {
     "name": "stdout",
     "output_type": "stream",
     "text": [
      "0\n",
      "1\n",
      "1\n",
      "2\n",
      "3\n",
      "5\n",
      "8\n",
      "13\n",
      "21\n",
      "34\n"
     ]
    }
   ],
   "source": [
    "n= int(input(\"Enter your Number of element you are looking for\"))\n",
    "counter = 0\n",
    "a,b=0,1\n",
    "while counter<n:\n",
    "    print(a)\n",
    "    c=a+b\n",
    "    a=b\n",
    "    b=c\n",
    "    counter=counter+1\n"
   ]
  },
  {
   "cell_type": "code",
   "execution_count": 8,
   "id": "19d9b5c5-4140-40b2-8486-30244c8c7931",
   "metadata": {},
   "outputs": [
    {
     "name": "stdout",
     "output_type": "stream",
     "text": [
      "0\n",
      "1\n",
      "1\n",
      "2\n",
      "3\n",
      "5\n",
      "8\n",
      "13\n",
      "21\n",
      "34\n",
      "55\n"
     ]
    }
   ],
   "source": [
    "a,b=0,1\n",
    "for i in range(11):\n",
    "    print(a)\n",
    "    c=a+b\n",
    "    a=b\n",
    "    b=c"
   ]
  },
  {
   "cell_type": "code",
   "execution_count": 10,
   "id": "a54be6ba-0163-48ae-995b-cae1ad7cc798",
   "metadata": {},
   "outputs": [
    {
     "name": "stdin",
     "output_type": "stream",
     "text": [
      "Enter your string for reversal dassu\n"
     ]
    },
    {
     "data": {
      "text/plain": [
       "'ussad'"
      ]
     },
     "execution_count": 10,
     "metadata": {},
     "output_type": "execute_result"
    }
   ],
   "source": [
    "word=input(\"Enter your string for reversal\")\n",
    "rev=\"\"\n",
    "length=len(word)\n",
    "c=0\n",
    "while length>0:\n",
    "    rev=rev+word[length-1]\n",
    "    length=length-1\n",
    "rev"
   ]
  },
  {
   "cell_type": "code",
   "execution_count": null,
   "id": "4ec038ea-63ae-4ca8-82c8-b4be90cbe918",
   "metadata": {},
   "outputs": [
    {
     "name": "stdin",
     "output_type": "stream",
     "text": [
      "Enter the number up to which you want table 10\n"
     ]
    }
   ],
   "source": [
    "def table1(i):\n",
    "    [i \"*\"c = c*i for c in range(1,11)]\n",
    "   \n",
    "        \n",
    "n=int(input(\"Enter the number up to which you want table\"))\n",
    "i=1\n",
    "while i<=n:\n",
    "    table1(i)\n",
    "    i=i+1\n",
    "\n",
    "    "
   ]
  },
  {
   "cell_type": "code",
   "execution_count": 20,
   "id": "93300953-c81a-41ad-9486-66ef0ea91333",
   "metadata": {},
   "outputs": [
    {
     "data": {
      "text/plain": [
       "[1, 4, 9, 16, 25]"
      ]
     },
     "execution_count": 20,
     "metadata": {},
     "output_type": "execute_result"
    }
   ],
   "source": [
    "l=[1,2,3,4,5]\n",
    "l1=[]\n",
    "for i in l:\n",
    "    l1.append(i**2)\n",
    "l1"
   ]
  },
  {
   "cell_type": "code",
   "execution_count": 39,
   "id": "86e18c62-931a-4410-9f4b-2631860d5979",
   "metadata": {},
   "outputs": [],
   "source": [
    "d={\"key1\" :1 ,\"Key2\" :2,\"key3\" :3,\"key4\" :4}"
   ]
  },
  {
   "cell_type": "code",
   "execution_count": 41,
   "id": "9eccf764-689e-4066-a6de-deb1c7138850",
   "metadata": {},
   "outputs": [
    {
     "data": {
      "text/plain": [
       "{'key1': 1, 'Key2': 4, 'key3': 9, 'key4': 16}"
      ]
     },
     "execution_count": 41,
     "metadata": {},
     "output_type": "execute_result"
    }
   ],
   "source": [
    "{ k:v**2for k ,v in d.items()}"
   ]
  },
  {
   "cell_type": "code",
   "execution_count": 42,
   "id": "62f734eb-4179-4643-8ec8-3f0534c6b4dc",
   "metadata": {},
   "outputs": [
    {
     "data": {
      "text/plain": [
       "{'key1': 1, 'Key2': 2, 'key3': 3, 'key4': 4}"
      ]
     },
     "execution_count": 42,
     "metadata": {},
     "output_type": "execute_result"
    }
   ],
   "source": [
    "d"
   ]
  },
  {
   "cell_type": "code",
   "execution_count": 43,
   "id": "9f4a0738-14f6-4a73-9a87-bbee4bfb63b6",
   "metadata": {},
   "outputs": [
    {
     "data": {
      "text/plain": [
       "{'Key2': 2, 'key3': 3, 'key4': 4}"
      ]
     },
     "execution_count": 43,
     "metadata": {},
     "output_type": "execute_result"
    }
   ],
   "source": [
    "{k :v for k,v in d.items() if v>1}"
   ]
  },
  {
   "cell_type": "code",
   "execution_count": 44,
   "id": "8042bee9-fb9a-4357-9247-395ff6951a11",
   "metadata": {},
   "outputs": [],
   "source": [
    "# functions \n",
    "def test1(*args):\n",
    "    return args"
   ]
  },
  {
   "cell_type": "code",
   "execution_count": 45,
   "id": "e9b5c045-b4ad-478e-9f73-a7132d6292ae",
   "metadata": {},
   "outputs": [
    {
     "data": {
      "text/plain": [
       "tuple"
      ]
     },
     "execution_count": 45,
     "metadata": {},
     "output_type": "execute_result"
    }
   ],
   "source": [
    "type(test1())"
   ]
  },
  {
   "cell_type": "code",
   "execution_count": 49,
   "id": "0fc1023e-4a94-421c-a3ec-b15ac8f7f23e",
   "metadata": {},
   "outputs": [],
   "source": [
    "def test2(**kargs):\n",
    "    return kargs"
   ]
  },
  {
   "cell_type": "code",
   "execution_count": 50,
   "id": "778d22c4-d63e-4e70-841b-af0a8d999a8d",
   "metadata": {},
   "outputs": [
    {
     "data": {
      "text/plain": [
       "dict"
      ]
     },
     "execution_count": 50,
     "metadata": {},
     "output_type": "execute_result"
    }
   ],
   "source": [
    "type(test2())"
   ]
  },
  {
   "cell_type": "code",
   "execution_count": 53,
   "id": "a017cc0c-716c-42b6-8d75-6f01d250316a",
   "metadata": {},
   "outputs": [
    {
     "data": {
      "text/plain": [
       "(1, 2, 3, 4, 5, [12, 3, 2, 1, 4], {'a': 'b'})"
      ]
     },
     "execution_count": 53,
     "metadata": {},
     "output_type": "execute_result"
    }
   ],
   "source": [
    "test1(1,2,3,4,5,[12,3,2,1,4],{\"a\":\"b\"})"
   ]
  },
  {
   "cell_type": "code",
   "execution_count": 56,
   "id": "ac675fad-76f0-49f5-9882-d6826c0b2b3a",
   "metadata": {},
   "outputs": [
    {
     "name": "stdout",
     "output_type": "stream",
     "text": [
      "0\n",
      "1\n",
      "1\n",
      "2\n",
      "3\n",
      "5\n",
      "8\n",
      "13\n",
      "21\n",
      "34\n"
     ]
    }
   ],
   "source": [
    "def fibonacci():\n",
    "    a,b=0,1\n",
    "    for i in range(1,11):\n",
    "        print(a)\n",
    "        c=a+b\n",
    "        a=b\n",
    "        b=c\n",
    "fibonacci()\n",
    "    \n",
    "    "
   ]
  },
  {
   "cell_type": "code",
   "execution_count": null,
   "id": "7b2d4479-1ddd-4f7c-875e-25ad166251bf",
   "metadata": {},
   "outputs": [],
   "source": []
  }
 ],
 "metadata": {
  "kernelspec": {
   "display_name": "Python 3 (ipykernel)",
   "language": "python",
   "name": "python3"
  },
  "language_info": {
   "codemirror_mode": {
    "name": "ipython",
    "version": 3
   },
   "file_extension": ".py",
   "mimetype": "text/x-python",
   "name": "python",
   "nbconvert_exporter": "python",
   "pygments_lexer": "ipython3",
   "version": "3.10.8"
  }
 },
 "nbformat": 4,
 "nbformat_minor": 5
}
