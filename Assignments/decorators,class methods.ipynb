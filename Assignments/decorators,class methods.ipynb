{
 "cells": [
  {
   "cell_type": "code",
   "execution_count": 5,
   "id": "794d4423-543f-4360-b7b7-7d648fc9cf35",
   "metadata": {},
   "outputs": [],
   "source": [
    "def test():\n",
    "    print(\"This is the start of my function\")\n",
    "    print(\"This is my fun to test\")\n",
    "    print(\"This is my end of the function\")\n"
   ]
  },
  {
   "cell_type": "code",
   "execution_count": 6,
   "id": "41b40b44-8bee-49ff-b522-dab2f77346e2",
   "metadata": {},
   "outputs": [
    {
     "name": "stdout",
     "output_type": "stream",
     "text": [
      "This is the start of my function\n",
      "This is my fun to test\n",
      "This is my end of the function\n"
     ]
    }
   ],
   "source": [
    "test()"
   ]
  },
  {
   "cell_type": "code",
   "execution_count": 17,
   "id": "c4feea84-216d-4be5-b462-d654b379caa2",
   "metadata": {},
   "outputs": [],
   "source": [
    "def deco(func):\n",
    "    def inner_dec():\n",
    "        print(\"This is the start of my function\")\n",
    "        func()\n",
    "        print(\"This is my end of the function\")\n",
    "    return inner_dec"
   ]
  },
  {
   "cell_type": "code",
   "execution_count": 18,
   "id": "4f18f9dd-a855-4e50-93f9-85da1c5737d8",
   "metadata": {},
   "outputs": [],
   "source": [
    "@deco\n",
    "def test1():\n",
    "    print(6+7)"
   ]
  },
  {
   "cell_type": "code",
   "execution_count": 19,
   "id": "15da500c-1d61-4d27-9543-d4e698444f5a",
   "metadata": {},
   "outputs": [
    {
     "name": "stdout",
     "output_type": "stream",
     "text": [
      "This is the start of my function\n",
      "13\n",
      "This is my end of the function\n"
     ]
    }
   ],
   "source": [
    "test1()"
   ]
  },
  {
   "cell_type": "code",
   "execution_count": 1,
   "id": "ecebbe61-d522-48f8-bdeb-72dc6b34399b",
   "metadata": {},
   "outputs": [],
   "source": [
    "import time\n",
    "\n",
    "def timer_test(func):\n",
    "    def timer_test_inner():\n",
    "        start = time.time()\n",
    "        func()\n",
    "        end = time.time()\n",
    "        print(end - start)\n",
    "    return timer_test_inner\n"
   ]
  },
  {
   "cell_type": "code",
   "execution_count": null,
   "id": "a6d71721-afff-4beb-9aa6-62ae7cb863a7",
   "metadata": {},
   "outputs": [],
   "source": [
    "@timer_test\n",
    "def test2():\n",
    "    print(45+78)\n"
   ]
  },
  {
   "cell_type": "code",
   "execution_count": 12,
   "id": "32969590-3acb-4c6f-9d32-5638293da47d",
   "metadata": {},
   "outputs": [
    {
     "name": "stdout",
     "output_type": "stream",
     "text": [
      "123\n",
      "4.5299530029296875e-05\n"
     ]
    }
   ],
   "source": [
    "test2()\n"
   ]
  },
  {
   "cell_type": "code",
   "execution_count": 17,
   "id": "7b00c01b-b2e3-4691-8828-ffbf96126ac9",
   "metadata": {},
   "outputs": [],
   "source": [
    "@timer_test\n",
    "def test3():\n",
    "    for i in range(10):\n",
    "        pass\n"
   ]
  },
  {
   "cell_type": "code",
   "execution_count": 18,
   "id": "ec8b4823-cfd9-450a-9045-154ed2c149c8",
   "metadata": {},
   "outputs": [
    {
     "name": "stdout",
     "output_type": "stream",
     "text": [
      "1.6689300537109375e-06\n"
     ]
    }
   ],
   "source": [
    "test3()\n"
   ]
  },
  {
   "cell_type": "code",
   "execution_count": 19,
   "id": "d05283fa-4e6f-472f-9b13-98e72a4133ea",
   "metadata": {},
   "outputs": [],
   "source": [
    "#class methods"
   ]
  },
  {
   "cell_type": "code",
   "execution_count": 30,
   "id": "2f6947f1-8ae5-4268-90ad-5207c177ac2a",
   "metadata": {},
   "outputs": [],
   "source": [
    "class pwskills:\n",
    "    def __init__(self,name ,email):\n",
    "        self.name = name\n",
    "        self.email = email\n",
    "    def student_details(self):\n",
    "        print(self.name ,self.email)\n"
   ]
  },
  {
   "cell_type": "code",
   "execution_count": 31,
   "id": "bd9aa565-a4e9-4db8-8903-b104feb4384d",
   "metadata": {},
   "outputs": [],
   "source": [
    "pw =pwskills(\"mohan\",\"mohan@gmail.com\")"
   ]
  },
  {
   "cell_type": "code",
   "execution_count": 32,
   "id": "a5891bbf-a832-496e-b6d3-f249a49fcc56",
   "metadata": {},
   "outputs": [
    {
     "data": {
      "text/plain": [
       "'mohan@gmail.com'"
      ]
     },
     "execution_count": 32,
     "metadata": {},
     "output_type": "execute_result"
    }
   ],
   "source": [
    "pw.email"
   ]
  },
  {
   "cell_type": "code",
   "execution_count": 33,
   "id": "ec422785-b323-4f65-b5db-6b8cfa23e281",
   "metadata": {},
   "outputs": [
    {
     "data": {
      "text/plain": [
       "'mohan'"
      ]
     },
     "execution_count": 33,
     "metadata": {},
     "output_type": "execute_result"
    }
   ],
   "source": [
    "pw.name"
   ]
  },
  {
   "cell_type": "code",
   "execution_count": 34,
   "id": "4a5994db-155c-4456-b8c0-1e61be17fed9",
   "metadata": {},
   "outputs": [
    {
     "name": "stdout",
     "output_type": "stream",
     "text": [
      "mohan mohan@gmail.com\n"
     ]
    }
   ],
   "source": [
    "pw.student_details()"
   ]
  },
  {
   "cell_type": "code",
   "execution_count": 36,
   "id": "6bdd3236-c507-44c0-a79c-bf478deb8608",
   "metadata": {},
   "outputs": [],
   "source": [
    "class pwskills1:\n",
    "    def __init__(self,name ,email):\n",
    "        self.name = name\n",
    "        self.email = email\n",
    "        \n",
    "    @classmethod   #this is a default decorator\n",
    "    def details(cls ,name ,email):\n",
    "        return cls(name,email)\n",
    "        \n",
    "        \n",
    "    def student_details(self):\n",
    "        print(self.name ,self.email)\n"
   ]
  },
  {
   "cell_type": "code",
   "execution_count": 40,
   "id": "a7d5b348-1264-46eb-975d-864cfc641703",
   "metadata": {},
   "outputs": [],
   "source": [
    "pw1=pwskills1.details(\"dassu\",\"dashrathq23123@gmail.com\")"
   ]
  },
  {
   "cell_type": "code",
   "execution_count": 41,
   "id": "a4bfa9a1-e7eb-4ba1-990a-32c6c239e26b",
   "metadata": {},
   "outputs": [
    {
     "data": {
      "text/plain": [
       "'dassu'"
      ]
     },
     "execution_count": 41,
     "metadata": {},
     "output_type": "execute_result"
    }
   ],
   "source": [
    "pw1.name"
   ]
  },
  {
   "cell_type": "code",
   "execution_count": 42,
   "id": "bf47cf5a-8463-4119-854f-6fa03258e0aa",
   "metadata": {},
   "outputs": [
    {
     "data": {
      "text/plain": [
       "'dashrathq23123@gmail.com'"
      ]
     },
     "execution_count": 42,
     "metadata": {},
     "output_type": "execute_result"
    }
   ],
   "source": [
    "pw1.email"
   ]
  },
  {
   "cell_type": "code",
   "execution_count": 43,
   "id": "ad225bca-7c9f-4f48-b105-82d9b23b9bd5",
   "metadata": {},
   "outputs": [
    {
     "name": "stdout",
     "output_type": "stream",
     "text": [
      "dassu dashrathq23123@gmail.com\n"
     ]
    }
   ],
   "source": [
    "pw1.student_details()"
   ]
  },
  {
   "cell_type": "code",
   "execution_count": 44,
   "id": "b91a2113-babd-40ea-a158-80f86624deee",
   "metadata": {},
   "outputs": [
    {
     "data": {
      "text/plain": [
       "__main__.pwskills1"
      ]
     },
     "execution_count": 44,
     "metadata": {},
     "output_type": "execute_result"
    }
   ],
   "source": [
    "type(pw1)"
   ]
  },
  {
   "cell_type": "code",
   "execution_count": 56,
   "id": "e8c8a7cd-cef6-4278-8891-d5377cebfcf7",
   "metadata": {},
   "outputs": [],
   "source": [
    "class pwskills2:\n",
    "    \n",
    "    mobild_num =987668958\n",
    "    \n",
    "    def __init__(self,name ,email):\n",
    "        self.name = name\n",
    "        self.email = email\n",
    "        \n",
    "    @classmethod   \n",
    "    def change_number(cls,mobile):\n",
    "        pwskills2.mobild_num= mobile\n",
    "        \n",
    "    @classmethod   #this is a default decorator\n",
    "    def details(cls ,name ,email):\n",
    "        return cls(name,email)\n",
    "        \n",
    "    \n",
    "    def student_details(self):\n",
    "        print(self.name ,self.email)\n",
    "     \n"
   ]
  },
  {
   "cell_type": "code",
   "execution_count": 57,
   "id": "8cd2c5a6-9eb4-4c45-b321-56d08f4650e1",
   "metadata": {},
   "outputs": [
    {
     "data": {
      "text/plain": [
       "987668958"
      ]
     },
     "execution_count": 57,
     "metadata": {},
     "output_type": "execute_result"
    }
   ],
   "source": [
    "pwskills2.mobild_num"
   ]
  },
  {
   "cell_type": "code",
   "execution_count": 58,
   "id": "374a11c3-71e0-4c52-ba54-4dc66ee54d04",
   "metadata": {},
   "outputs": [],
   "source": [
    "pwskills2.change_number(544688654)\n"
   ]
  },
  {
   "cell_type": "code",
   "execution_count": 59,
   "id": "0836fff5-da97-41a1-bd32-17eb4b3962ef",
   "metadata": {},
   "outputs": [
    {
     "data": {
      "text/plain": [
       "544688654"
      ]
     },
     "execution_count": 59,
     "metadata": {},
     "output_type": "execute_result"
    }
   ],
   "source": [
    "pwskills2.mobild_num"
   ]
  },
  {
   "cell_type": "code",
   "execution_count": 60,
   "id": "bbff69b3-c6b0-4c2f-bdb1-ce92f4050f64",
   "metadata": {},
   "outputs": [],
   "source": [
    "pw2=pwskills2(\"dassu\",\"dashrathpatel1323122@GMAIL.COM\")"
   ]
  },
  {
   "cell_type": "code",
   "execution_count": 62,
   "id": "34f77895-f3e1-4821-93e4-5a2a1d79efd3",
   "metadata": {},
   "outputs": [
    {
     "name": "stdout",
     "output_type": "stream",
     "text": [
      "dassu dashrathpatel1323122@GMAIL.COM\n"
     ]
    }
   ],
   "source": [
    "pw2.student_details()"
   ]
  },
  {
   "cell_type": "code",
   "execution_count": 66,
   "id": "9afb5b7f-75d7-4b58-994a-c53ba4a5ed70",
   "metadata": {},
   "outputs": [],
   "source": [
    "def course_details(cls,course_name):\n",
    "    print(\"course name is \",course_name)"
   ]
  },
  {
   "cell_type": "code",
   "execution_count": 67,
   "id": "d5ed4733-b6c4-408a-b99f-676de820baae",
   "metadata": {},
   "outputs": [],
   "source": [
    "pwskills2.course_details = classmethod(course_details)"
   ]
  },
  {
   "cell_type": "code",
   "execution_count": 69,
   "id": "e9c44327-7eaa-40ec-8666-0d254df485e1",
   "metadata": {},
   "outputs": [
    {
     "name": "stdout",
     "output_type": "stream",
     "text": [
      "course name is  data scinence master\n"
     ]
    }
   ],
   "source": [
    "pwskills2.course_details(\"data scinence master\")"
   ]
  },
  {
   "cell_type": "code",
   "execution_count": 70,
   "id": "703c39c0-7752-4e30-9b62-0a2ce51982d2",
   "metadata": {},
   "outputs": [],
   "source": [
    "def mentor(cls,mentor):\n",
    "    print(mentor)\n"
   ]
  },
  {
   "cell_type": "code",
   "execution_count": 71,
   "id": "e039fe5f-3354-433a-b86a-e2b9828b99ac",
   "metadata": {},
   "outputs": [],
   "source": [
    "pwskills2.mentor =classmethod(mentor)"
   ]
  },
  {
   "cell_type": "code",
   "execution_count": 72,
   "id": "33d2dc75-5d94-47ce-8309-75209c7ec2e9",
   "metadata": {},
   "outputs": [
    {
     "name": "stdout",
     "output_type": "stream",
     "text": [
      "1\n"
     ]
    }
   ],
   "source": [
    "pwskills2.mentor(1)"
   ]
  },
  {
   "cell_type": "code",
   "execution_count": 73,
   "id": "d2a2eddf-61dd-4853-9d2d-46a91966c0d1",
   "metadata": {},
   "outputs": [],
   "source": [
    "del pwskills2.change_number"
   ]
  },
  {
   "cell_type": "code",
   "execution_count": 75,
   "id": "94ab5b29-4826-4e22-aa0f-dff115d39656",
   "metadata": {},
   "outputs": [],
   "source": [
    "delattr(pwskills2,\"mentor\")"
   ]
  },
  {
   "cell_type": "code",
   "execution_count": 1,
   "id": "5cb15a34-0d2c-4f70-87b7-744af3e099cb",
   "metadata": {},
   "outputs": [],
   "source": [
    "class pwskills1:\n",
    "    def student_details(self,name,mail_id,number):\n",
    "        print(name,mail_id,number)\n",
    "    \n",
    "    @staticmethod\n",
    "    def mentor_class(list_mentor):\n",
    "        print(list_mentor)\n",
    "    \n",
    "    def mentor(slef,mentor_list):\n",
    "        print(mentor_list)"
   ]
  },
  {
   "cell_type": "code",
   "execution_count": 2,
   "id": "a8f63a49-d4ef-4df1-9038-15dbe9e0712f",
   "metadata": {},
   "outputs": [
    {
     "name": "stdout",
     "output_type": "stream",
     "text": [
      "['sudh', 'krish']\n"
     ]
    }
   ],
   "source": [
    "pwskills1.mentor_class([\"sudh\",\"krish\"])"
   ]
  },
  {
   "cell_type": "code",
   "execution_count": 3,
   "id": "dfdc4013-d13e-4a34-aa0e-e4e5b4c2143e",
   "metadata": {},
   "outputs": [],
   "source": [
    "stu1=pwskills1()"
   ]
  },
  {
   "cell_type": "code",
   "execution_count": 4,
   "id": "a18686da-23b4-4351-a08a-257799e0c706",
   "metadata": {},
   "outputs": [
    {
     "name": "stdout",
     "output_type": "stream",
     "text": [
      "['SUDH', 'KRISH']\n"
     ]
    }
   ],
   "source": [
    "stu1.mentor([\"SUDH\",\"KRISH\"])"
   ]
  },
  {
   "cell_type": "code",
   "execution_count": 6,
   "id": "ada01cf2-26c5-4460-9b3d-3be3d6563c63",
   "metadata": {},
   "outputs": [],
   "source": [
    "class pwskills2:\n",
    "    def student_details(self,name,mail_id,number):\n",
    "        print(name,mail_id,number)\n",
    "        \n",
    "    @staticmethod\n",
    "    def mentor_maild_id([\"sudh@gmail.com\",\"krish@gmail.com\"])\n",
    "    print(list_mentor)\n",
    "    \n",
    "    @staticmethod\n",
    "    def mentor_class(list_mentor):\n",
    "        print(list_mentor)\n",
    "        \n",
    "    @classmethod    \n",
    "    def class_name(cls):\n",
    "        cls.mentor_class([\"sudh\",\"krish\"])\n",
    "    \n",
    "    @classmethod\n",
    "    def class_name (cls):\n",
    "        cls.mentor_class()\n",
    "        \n",
    "    def mentor(self,mentor_list):\n",
    "        print(mentor_list)"
   ]
  },
  {
   "cell_type": "code",
   "execution_count": 9,
   "id": "b080a4bd-9e4f-41cf-b1bc-dc579f76d0d6",
   "metadata": {},
   "outputs": [
    {
     "ename": "TypeError",
     "evalue": "pwskills2.class_name() takes 1 positional argument but 2 were given",
     "output_type": "error",
     "traceback": [
      "\u001b[0;31m---------------------------------------------------------------------------\u001b[0m",
      "\u001b[0;31mTypeError\u001b[0m                                 Traceback (most recent call last)",
      "Cell \u001b[0;32mIn[9], line 1\u001b[0m\n\u001b[0;32m----> 1\u001b[0m \u001b[43mpwskills2\u001b[49m\u001b[38;5;241;43m.\u001b[39;49m\u001b[43mclass_name\u001b[49m\u001b[43m(\u001b[49m\u001b[38;5;124;43m\"\u001b[39;49m\u001b[38;5;124;43msudh\u001b[39;49m\u001b[38;5;124;43m\"\u001b[39;49m\u001b[43m)\u001b[49m\n",
      "\u001b[0;31mTypeError\u001b[0m: pwskills2.class_name() takes 1 positional argument but 2 were given"
     ]
    }
   ],
   "source": []
  },
  {
   "cell_type": "code",
   "execution_count": 10,
   "id": "aab1162c-a504-4f23-a003-e1d3574cc68c",
   "metadata": {},
   "outputs": [],
   "source": [
    "#spatial(magic or dunder )"
   ]
  },
  {
   "cell_type": "code",
   "execution_count": 11,
   "id": "8d171733-5b58-42e0-b365-50b5e0d8fd20",
   "metadata": {},
   "outputs": [
    {
     "data": {
      "text/plain": [
       "['__abs__',\n",
       " '__add__',\n",
       " '__and__',\n",
       " '__bool__',\n",
       " '__ceil__',\n",
       " '__class__',\n",
       " '__delattr__',\n",
       " '__dir__',\n",
       " '__divmod__',\n",
       " '__doc__',\n",
       " '__eq__',\n",
       " '__float__',\n",
       " '__floor__',\n",
       " '__floordiv__',\n",
       " '__format__',\n",
       " '__ge__',\n",
       " '__getattribute__',\n",
       " '__getnewargs__',\n",
       " '__gt__',\n",
       " '__hash__',\n",
       " '__index__',\n",
       " '__init__',\n",
       " '__init_subclass__',\n",
       " '__int__',\n",
       " '__invert__',\n",
       " '__le__',\n",
       " '__lshift__',\n",
       " '__lt__',\n",
       " '__mod__',\n",
       " '__mul__',\n",
       " '__ne__',\n",
       " '__neg__',\n",
       " '__new__',\n",
       " '__or__',\n",
       " '__pos__',\n",
       " '__pow__',\n",
       " '__radd__',\n",
       " '__rand__',\n",
       " '__rdivmod__',\n",
       " '__reduce__',\n",
       " '__reduce_ex__',\n",
       " '__repr__',\n",
       " '__rfloordiv__',\n",
       " '__rlshift__',\n",
       " '__rmod__',\n",
       " '__rmul__',\n",
       " '__ror__',\n",
       " '__round__',\n",
       " '__rpow__',\n",
       " '__rrshift__',\n",
       " '__rshift__',\n",
       " '__rsub__',\n",
       " '__rtruediv__',\n",
       " '__rxor__',\n",
       " '__setattr__',\n",
       " '__sizeof__',\n",
       " '__str__',\n",
       " '__sub__',\n",
       " '__subclasshook__',\n",
       " '__truediv__',\n",
       " '__trunc__',\n",
       " '__xor__',\n",
       " 'as_integer_ratio',\n",
       " 'bit_count',\n",
       " 'bit_length',\n",
       " 'conjugate',\n",
       " 'denominator',\n",
       " 'from_bytes',\n",
       " 'imag',\n",
       " 'numerator',\n",
       " 'real',\n",
       " 'to_bytes']"
      ]
     },
     "execution_count": 11,
     "metadata": {},
     "output_type": "execute_result"
    }
   ],
   "source": [
    "dir(int)"
   ]
  },
  {
   "cell_type": "code",
   "execution_count": 12,
   "id": "42176d17-4615-430b-ba02-a4766277495a",
   "metadata": {},
   "outputs": [
    {
     "data": {
      "text/plain": [
       "['__add__',\n",
       " '__class__',\n",
       " '__contains__',\n",
       " '__delattr__',\n",
       " '__dir__',\n",
       " '__doc__',\n",
       " '__eq__',\n",
       " '__format__',\n",
       " '__ge__',\n",
       " '__getattribute__',\n",
       " '__getitem__',\n",
       " '__getnewargs__',\n",
       " '__gt__',\n",
       " '__hash__',\n",
       " '__init__',\n",
       " '__init_subclass__',\n",
       " '__iter__',\n",
       " '__le__',\n",
       " '__len__',\n",
       " '__lt__',\n",
       " '__mod__',\n",
       " '__mul__',\n",
       " '__ne__',\n",
       " '__new__',\n",
       " '__reduce__',\n",
       " '__reduce_ex__',\n",
       " '__repr__',\n",
       " '__rmod__',\n",
       " '__rmul__',\n",
       " '__setattr__',\n",
       " '__sizeof__',\n",
       " '__str__',\n",
       " '__subclasshook__',\n",
       " 'capitalize',\n",
       " 'casefold',\n",
       " 'center',\n",
       " 'count',\n",
       " 'encode',\n",
       " 'endswith',\n",
       " 'expandtabs',\n",
       " 'find',\n",
       " 'format',\n",
       " 'format_map',\n",
       " 'index',\n",
       " 'isalnum',\n",
       " 'isalpha',\n",
       " 'isascii',\n",
       " 'isdecimal',\n",
       " 'isdigit',\n",
       " 'isidentifier',\n",
       " 'islower',\n",
       " 'isnumeric',\n",
       " 'isprintable',\n",
       " 'isspace',\n",
       " 'istitle',\n",
       " 'isupper',\n",
       " 'join',\n",
       " 'ljust',\n",
       " 'lower',\n",
       " 'lstrip',\n",
       " 'maketrans',\n",
       " 'partition',\n",
       " 'removeprefix',\n",
       " 'removesuffix',\n",
       " 'replace',\n",
       " 'rfind',\n",
       " 'rindex',\n",
       " 'rjust',\n",
       " 'rpartition',\n",
       " 'rsplit',\n",
       " 'rstrip',\n",
       " 'split',\n",
       " 'splitlines',\n",
       " 'startswith',\n",
       " 'strip',\n",
       " 'swapcase',\n",
       " 'title',\n",
       " 'translate',\n",
       " 'upper',\n",
       " 'zfill']"
      ]
     },
     "execution_count": 12,
     "metadata": {},
     "output_type": "execute_result"
    }
   ],
   "source": [
    "dir(str)"
   ]
  },
  {
   "cell_type": "code",
   "execution_count": 13,
   "id": "d1712866-0b25-4ccc-a8b8-5c54e04202b3",
   "metadata": {},
   "outputs": [
    {
     "data": {
      "text/plain": [
       "105"
      ]
     },
     "execution_count": 13,
     "metadata": {},
     "output_type": "execute_result"
    }
   ],
   "source": [
    "a=100\n",
    "a+5"
   ]
  },
  {
   "cell_type": "code",
   "execution_count": 14,
   "id": "ff8f859e-75c3-4209-a119-2bd459d36f60",
   "metadata": {},
   "outputs": [
    {
     "data": {
      "text/plain": [
       "105"
      ]
     },
     "execution_count": 14,
     "metadata": {},
     "output_type": "execute_result"
    }
   ],
   "source": [
    "a.__add__(5) #this underscore function present here is nothing but dunder"
   ]
  },
  {
   "cell_type": "code",
   "execution_count": 6,
   "id": "adbc67ec-e72a-4e3f-b372-3ceca8ae1af9",
   "metadata": {},
   "outputs": [],
   "source": [
    "class pwskills:\n",
    "    \n",
    "    def __new__(cls):\n",
    "        print(\"this is my new\")\n",
    "    \n",
    "    def __init__(self):\n",
    "        print(\"this is my init\")\n",
    "        self.mobile_number=5515465465\n",
    "        "
   ]
  },
  {
   "cell_type": "code",
   "execution_count": 7,
   "id": "f266a0da-8607-4576-b367-0a8fad87be9a",
   "metadata": {},
   "outputs": [
    {
     "name": "stdout",
     "output_type": "stream",
     "text": [
      "this is my new\n"
     ]
    }
   ],
   "source": [
    "pw=pwskills()"
   ]
  },
  {
   "cell_type": "code",
   "execution_count": 5,
   "id": "982afb50-f99c-4d07-ab1e-2d860f5b2159",
   "metadata": {},
   "outputs": [
    {
     "data": {
      "text/plain": [
       "5515465465"
      ]
     },
     "execution_count": 5,
     "metadata": {},
     "output_type": "execute_result"
    }
   ],
   "source": [
    "pw.mobile_number"
   ]
  },
  {
   "cell_type": "code",
   "execution_count": 13,
   "id": "95bf4226-1967-4afd-8507-d8469953ad5c",
   "metadata": {},
   "outputs": [],
   "source": [
    "class pwskills:\n",
    "    \n",
    "    \n",
    "    def __init__(self):\n",
    "       \n",
    "    \n",
    "        self.mobile_number=5515465465\n",
    "    \n",
    "    def __str__(self):\n",
    "        return \"this is my magic of str\""
   ]
  },
  {
   "cell_type": "code",
   "execution_count": 14,
   "id": "22e9e467-5a41-46ef-9337-1609d0eeccf9",
   "metadata": {},
   "outputs": [],
   "source": [
    "pw1=pwskills()"
   ]
  },
  {
   "cell_type": "code",
   "execution_count": 15,
   "id": "3443dde3-8e60-448c-8031-033d32fe5ad4",
   "metadata": {},
   "outputs": [
    {
     "data": {
      "text/plain": [
       "<__main__.pwskills at 0x7fb45abde650>"
      ]
     },
     "execution_count": 15,
     "metadata": {},
     "output_type": "execute_result"
    }
   ],
   "source": [
    "pw1"
   ]
  },
  {
   "cell_type": "code",
   "execution_count": 16,
   "id": "af717558-3832-4ecd-9922-2895258fa96d",
   "metadata": {},
   "outputs": [
    {
     "name": "stdout",
     "output_type": "stream",
     "text": [
      "this is my magic of str\n"
     ]
    }
   ],
   "source": [
    "print(pw1)"
   ]
  },
  {
   "cell_type": "code",
   "execution_count": 17,
   "id": "23b3e76d-707e-4f35-b9d5-7e451c2a4279",
   "metadata": {},
   "outputs": [],
   "source": [
    "#property decorators."
   ]
  },
  {
   "cell_type": "code",
   "execution_count": 15,
   "id": "efc2086f-ddf3-4bcb-aaa8-07acc3192d58",
   "metadata": {},
   "outputs": [],
   "source": [
    "class pwskills:\n",
    "    def __init__(self,course_price,course_name):\n",
    "        self.__course_price = course_price\n",
    "        self.course_name=course_name\n",
    "        \n",
    "    @property\n",
    "    def course_price_access(self):\n",
    "        return self.__course_price\n",
    "    \n",
    "    @course_price_access.setter\n",
    "    def  course_price_sett(self ,price):\n",
    "        if price<=3500:\n",
    "            pass\n",
    "        else:\n",
    "            self.__course_price=price\n",
    "        \n",
    "    @course_price_access.deleter\n",
    "    def delete_course_price(self):\n",
    "        del self.__course_price"
   ]
  },
  {
   "cell_type": "code",
   "execution_count": 3,
   "id": "898761b2-c8a5-4b3d-83c0-261e8c5e3cb9",
   "metadata": {},
   "outputs": [],
   "source": [
    "pw=pwskills(10000,\"data science\")"
   ]
  },
  {
   "cell_type": "code",
   "execution_count": 5,
   "id": "dabec8a3-0b6e-4898-a159-b5dc6a5e03eb",
   "metadata": {},
   "outputs": [
    {
     "data": {
      "text/plain": [
       "10000"
      ]
     },
     "execution_count": 5,
     "metadata": {},
     "output_type": "execute_result"
    }
   ],
   "source": [
    "pw.course_price_access"
   ]
  },
  {
   "cell_type": "code",
   "execution_count": 11,
   "id": "534a6876-d15f-4824-8027-ced16d3fe9a7",
   "metadata": {},
   "outputs": [
    {
     "data": {
      "text/plain": [
       "10000"
      ]
     },
     "execution_count": 11,
     "metadata": {},
     "output_type": "execute_result"
    }
   ],
   "source": [
    "pw.course_price_access"
   ]
  },
  {
   "cell_type": "code",
   "execution_count": 16,
   "id": "1ff4283c-0c44-4863-ba7b-1a68c22cdb78",
   "metadata": {},
   "outputs": [],
   "source": [
    "pw.course_price_set=4500"
   ]
  },
  {
   "cell_type": "code",
   "execution_count": 17,
   "id": "cb45b665-c1fd-459c-b52d-bb1cee345059",
   "metadata": {},
   "outputs": [
    {
     "data": {
      "text/plain": [
       "4500"
      ]
     },
     "execution_count": 17,
     "metadata": {},
     "output_type": "execute_result"
    }
   ],
   "source": [
    "pw.course_price_access"
   ]
  },
  {
   "cell_type": "code",
   "execution_count": 18,
   "id": "26c6ea55-52b2-49d8-a3f1-e8bcc2036ae1",
   "metadata": {},
   "outputs": [],
   "source": [
    "del pw.delete_course_price"
   ]
  },
  {
   "cell_type": "code",
   "execution_count": 19,
   "id": "616e90fb-a42d-4c9c-bca2-16e1cc65836d",
   "metadata": {},
   "outputs": [
    {
     "ename": "AttributeError",
     "evalue": "'pwskills' object has no attribute '_pwskills__course_price'",
     "output_type": "error",
     "traceback": [
      "\u001b[0;31m---------------------------------------------------------------------------\u001b[0m",
      "\u001b[0;31mAttributeError\u001b[0m                            Traceback (most recent call last)",
      "Cell \u001b[0;32mIn[19], line 1\u001b[0m\n\u001b[0;32m----> 1\u001b[0m \u001b[43mpw\u001b[49m\u001b[38;5;241;43m.\u001b[39;49m\u001b[43mcourse_price_access\u001b[49m\n",
      "Cell \u001b[0;32mIn[12], line 8\u001b[0m, in \u001b[0;36mpwskills.course_price_access\u001b[0;34m(self)\u001b[0m\n\u001b[1;32m      6\u001b[0m \u001b[38;5;129m@property\u001b[39m\n\u001b[1;32m      7\u001b[0m \u001b[38;5;28;01mdef\u001b[39;00m \u001b[38;5;21mcourse_price_access\u001b[39m(\u001b[38;5;28mself\u001b[39m):\n\u001b[0;32m----> 8\u001b[0m     \u001b[38;5;28;01mreturn\u001b[39;00m \u001b[38;5;28;43mself\u001b[39;49m\u001b[38;5;241;43m.\u001b[39;49m\u001b[43m__course_price\u001b[49m\n",
      "\u001b[0;31mAttributeError\u001b[0m: 'pwskills' object has no attribute '_pwskills__course_price'"
     ]
    }
   ],
   "source": [
    "pw.course_price_access"
   ]
  },
  {
   "cell_type": "code",
   "execution_count": null,
   "id": "4a55bf94-0cd4-45ba-8d8f-88dcebb66e7a",
   "metadata": {},
   "outputs": [],
   "source": []
  }
 ],
 "metadata": {
  "kernelspec": {
   "display_name": "Python 3 (ipykernel)",
   "language": "python",
   "name": "python3"
  },
  "language_info": {
   "codemirror_mode": {
    "name": "ipython",
    "version": 3
   },
   "file_extension": ".py",
   "mimetype": "text/x-python",
   "name": "python",
   "nbconvert_exporter": "python",
   "pygments_lexer": "ipython3",
   "version": "3.10.8"
  }
 },
 "nbformat": 4,
 "nbformat_minor": 5
}
