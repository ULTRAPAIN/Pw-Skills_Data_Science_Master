{
 "cells": [
  {
   "cell_type": "markdown",
   "metadata": {},
   "source": [
    "Q1. What is MongoDB? Explain non-relational databases in short. In which scenarios it is preferred to use\n",
    "MongoDB over SQL databases?"
   ]
  },
  {
   "attachments": {},
   "cell_type": "markdown",
   "metadata": {},
   "source": [
    "MongoDB is a popular open-source NoSQL document-based database management system. It stores data in a flexible, document-based format using a JSON-like structure, which allows for dynamic and complex data to be easily represented and manipulated. MongoDB is designed to scale horizontally across distributed clusters of commodity hardware, making it a good choice for applications that require high availability, scalability, and performance.\n",
    "\n",
    "Non-relational databases, such as MongoDB, are designed to handle unstructured, semi-structured, or rapidly changing data that cannot be easily represented in a traditional relational database model. Non-relational databases use a variety of data models, such as document-based, key-value, column-family, or graph-based models, and offer flexible schema designs that allow data to be added, modified, or removed without requiring a predefined schema or data type.\n",
    "\n",
    "In general, non-relational databases are preferred over SQL databases in scenarios where:\n",
    "\n",
    "The data is unstructured or semi-structured, and cannot be easily represented in a relational model.\n",
    "\n",
    "The data needs to be scaled horizontally across distributed clusters of commodity hardware.\n",
    "\n",
    "The application requires high availability and fault tolerance, with no single point of failure.\n",
    "\n",
    "The application requires high write throughput and low latency for handling large volumes of data.\n",
    "\n",
    "The application requires a flexible and dynamic schema design that can adapt to changing requirements and data types.\n",
    "\n",
    "MongoDB is often preferred over SQL databases in scenarios where the application requires a flexible and dynamic schema design, real-time data processing, and high scalability and performance. MongoDB supports rich query capabilities, indexing, and aggregation functions that enable complex data processing and analytics. It also provides a wide range of features, such as auto-sharding, replication, and load balancing, which make it well-suited for handling large-scale distributed data environments. However, it is important to note that MongoDB may sacrifice some data consistency for performance and scalability, and may require careful application design to ensure data integrity and security."
   ]
  },
  {
   "attachments": {},
   "cell_type": "markdown",
   "metadata": {},
   "source": [
    "Q2. State and Explain the features of MongoDB."
   ]
  },
  {
   "attachments": {},
   "cell_type": "markdown",
   "metadata": {},
   "source": [
    "MongoDB is a popular open-source NoSQL document-based database management system that offers a wide range of features for efficient and flexible data management. Here are some of the key features of MongoDB:\n",
    "\n",
    "Document-based data model: MongoDB stores data in a flexible, document-based format using a JSON-like structure, which allows for dynamic and complex data to be easily represented and manipulated. The document-based data model enables the storage of semi-structured and unstructured data.\n",
    "\n",
    "Flexible schema design: MongoDB offers a dynamic and flexible schema design that allows data to be added, modified, or removed without requiring a predefined schema or data type. This feature provides developers with more flexibility in managing their data and helps in faster development and deployment of applications.\n",
    "\n",
    "Rich query capabilities: MongoDB supports rich query capabilities, including document-based queries, field queries, range queries, regular expression searches, and geospatial queries. This feature enables complex data processing and analytics.\n",
    "\n",
    "Indexing: MongoDB provides indexing capabilities that can significantly improve query performance. MongoDB supports several types of indexing, including single field, compound, text, and geospatial indexing.\n",
    "\n",
    "Aggregation framework: MongoDB includes an aggregation framework that enables complex data processing, filtering, and grouping. The aggregation framework provides a powerful set of operators to support data transformations, such as grouping, filtering, sorting, and joining.\n",
    "\n",
    "Replication and high availability: MongoDB provides replication capabilities that allow data to be automatically synchronized across multiple nodes in a cluster. This feature ensures high availability and fault tolerance, with no single point of failure.\n",
    "\n",
    "Scalability: MongoDB is designed to scale horizontally across distributed clusters of commodity hardware. MongoDB offers auto-sharding, load balancing, and data partitioning features that enable applications to handle large volumes of data and traffic.\n",
    "\n",
    "Security: MongoDB provides several security features, including role-based access control, encryption, and auditing. These features ensure that data is stored and accessed securely.\n",
    "\n",
    "In summary, MongoDB offers a flexible and dynamic data model, rich query capabilities, indexing, aggregation, replication, high availability, scalability, and security features, making it a popular choice for modern web and mobile applications that require flexible data management and high scalability.\n",
    "\n"
   ]
  },
  {
   "attachments": {},
   "cell_type": "markdown",
   "metadata": {},
   "source": [
    "Q3. Write a code to connect MongoDB to Python. Also, create a database and a collection in MongoDB."
   ]
  },
  {
   "cell_type": "code",
   "execution_count": 1,
   "metadata": {},
   "outputs": [],
   "source": [
    "import pymongo\n",
    "client = pymongo.MongoClient(\"mongodb+srv://dashrathpatel0810:<dashrathpatel0810>@cluster0.duoevcx.mongodb.net/?retryWrites=true&w=majority\")\n",
    "db = client.test\n"
   ]
  },
  {
   "cell_type": "code",
   "execution_count": 2,
   "metadata": {},
   "outputs": [
    {
     "data": {
      "text/plain": [
       "Database(MongoClient(host=['ac-5xb8jvj-shard-00-01.duoevcx.mongodb.net:27017', 'ac-5xb8jvj-shard-00-02.duoevcx.mongodb.net:27017', 'ac-5xb8jvj-shard-00-00.duoevcx.mongodb.net:27017'], document_class=dict, tz_aware=False, connect=True, retrywrites=True, w='majority', authsource='admin', replicaset='atlas-gcifup-shard-0', tls=True), 'test')"
      ]
     },
     "execution_count": 2,
     "metadata": {},
     "output_type": "execute_result"
    }
   ],
   "source": [
    "db"
   ]
  },
  {
   "cell_type": "code",
   "execution_count": 3,
   "metadata": {},
   "outputs": [],
   "source": [
    "db=client['database_1']"
   ]
  },
  {
   "cell_type": "code",
   "execution_count": 4,
   "metadata": {},
   "outputs": [],
   "source": [
    "data={\n",
    "    \"name\":\"dashrath\",\n",
    "    \"srname\":\"patel\",\n",
    "    \"class\":\"data science master class\",\n",
    "    \"time\":\"flexi\"\n",
    "}"
   ]
  },
  {
   "cell_type": "code",
   "execution_count": 5,
   "metadata": {},
   "outputs": [],
   "source": [
    "coll_db=db[\"my_record\"]"
   ]
  },
  {
   "cell_type": "code",
   "execution_count": 11,
   "metadata": {},
   "outputs": [],
   "source": [
    "import pymongo\n",
    "\n",
    "# Establish a connection to MongoDB\n",
    "client = pymongo.MongoClient(\"mongodb://localhost:27017/\")\n",
    "\n",
    "# Access a database\n",
    "db = client[\"mydatabase\"]\n",
    "\n",
    "# Access a collection\n",
    "col = db[\"customers\"]\n"
   ]
  },
  {
   "attachments": {},
   "cell_type": "markdown",
   "metadata": {},
   "source": [
    "Q4. Using the database and the collection created in question number 3, write a code to insert one record,\n",
    "and insert many records. Use the find() and find_one() methods to print the inserted record."
   ]
  },
  {
   "cell_type": "code",
   "execution_count": null,
   "metadata": {},
   "outputs": [
    {
     "ename": "OperationFailure",
     "evalue": "bad auth : authentication failed, full error: {'ok': 0, 'errmsg': 'bad auth : authentication failed', 'code': 8000, 'codeName': 'AtlasError'}",
     "output_type": "error",
     "traceback": [
      "\u001b[1;31m---------------------------------------------------------------------------\u001b[0m",
      "\u001b[1;31mOperationFailure\u001b[0m                          Traceback (most recent call last)",
      "Cell \u001b[1;32mIn[12], line 14\u001b[0m\n\u001b[0;32m     12\u001b[0m \u001b[39m# Insert one record\u001b[39;00m\n\u001b[0;32m     13\u001b[0m record_one \u001b[39m=\u001b[39m {\u001b[39m\"\u001b[39m\u001b[39mname\u001b[39m\u001b[39m\"\u001b[39m: \u001b[39m\"\u001b[39m\u001b[39mJohn Doe\u001b[39m\u001b[39m\"\u001b[39m, \u001b[39m\"\u001b[39m\u001b[39memail\u001b[39m\u001b[39m\"\u001b[39m: \u001b[39m\"\u001b[39m\u001b[39mjohndoe@example.com\u001b[39m\u001b[39m\"\u001b[39m, \u001b[39m\"\u001b[39m\u001b[39mage\u001b[39m\u001b[39m\"\u001b[39m: \u001b[39m30\u001b[39m}\n\u001b[1;32m---> 14\u001b[0m insert_one_result \u001b[39m=\u001b[39m col\u001b[39m.\u001b[39;49minsert_one(record_one)\n\u001b[0;32m     15\u001b[0m \u001b[39mprint\u001b[39m(\u001b[39m\"\u001b[39m\u001b[39mInserted record ID:\u001b[39m\u001b[39m\"\u001b[39m, insert_one_result\u001b[39m.\u001b[39minserted_id)\n\u001b[0;32m     17\u001b[0m \u001b[39m# Insert many records\u001b[39;00m\n",
      "File \u001b[1;32m~\\AppData\\Local\\Packages\\PythonSoftwareFoundation.Python.3.10_qbz5n2kfra8p0\\LocalCache\\local-packages\\Python310\\site-packages\\pymongo\\collection.py:628\u001b[0m, in \u001b[0;36mCollection.insert_one\u001b[1;34m(self, document, bypass_document_validation, session, comment)\u001b[0m\n\u001b[0;32m    624\u001b[0m     document[\u001b[39m\"\u001b[39m\u001b[39m_id\u001b[39m\u001b[39m\"\u001b[39m] \u001b[39m=\u001b[39m ObjectId()  \u001b[39m# type: ignore[index]\u001b[39;00m\n\u001b[0;32m    626\u001b[0m write_concern \u001b[39m=\u001b[39m \u001b[39mself\u001b[39m\u001b[39m.\u001b[39m_write_concern_for(session)\n\u001b[0;32m    627\u001b[0m \u001b[39mreturn\u001b[39;00m InsertOneResult(\n\u001b[1;32m--> 628\u001b[0m     \u001b[39mself\u001b[39;49m\u001b[39m.\u001b[39;49m_insert_one(\n\u001b[0;32m    629\u001b[0m         document,\n\u001b[0;32m    630\u001b[0m         ordered\u001b[39m=\u001b[39;49m\u001b[39mTrue\u001b[39;49;00m,\n\u001b[0;32m    631\u001b[0m         write_concern\u001b[39m=\u001b[39;49mwrite_concern,\n\u001b[0;32m    632\u001b[0m         op_id\u001b[39m=\u001b[39;49m\u001b[39mNone\u001b[39;49;00m,\n\u001b[0;32m    633\u001b[0m         bypass_doc_val\u001b[39m=\u001b[39;49mbypass_document_validation,\n\u001b[0;32m    634\u001b[0m         session\u001b[39m=\u001b[39;49msession,\n\u001b[0;32m    635\u001b[0m         comment\u001b[39m=\u001b[39;49mcomment,\n\u001b[0;32m    636\u001b[0m     ),\n\u001b[0;32m    637\u001b[0m     write_concern\u001b[39m.\u001b[39macknowledged,\n\u001b[0;32m    638\u001b[0m )\n",
      "File \u001b[1;32m~\\AppData\\Local\\Packages\\PythonSoftwareFoundation.Python.3.10_qbz5n2kfra8p0\\LocalCache\\local-packages\\Python310\\site-packages\\pymongo\\collection.py:569\u001b[0m, in \u001b[0;36mCollection._insert_one\u001b[1;34m(self, doc, ordered, write_concern, op_id, bypass_doc_val, session, comment)\u001b[0m\n\u001b[0;32m    557\u001b[0m     result \u001b[39m=\u001b[39m sock_info\u001b[39m.\u001b[39mcommand(\n\u001b[0;32m    558\u001b[0m         \u001b[39mself\u001b[39m\u001b[39m.\u001b[39m__database\u001b[39m.\u001b[39mname,\n\u001b[0;32m    559\u001b[0m         command,\n\u001b[1;32m   (...)\u001b[0m\n\u001b[0;32m    564\u001b[0m         retryable_write\u001b[39m=\u001b[39mretryable_write,\n\u001b[0;32m    565\u001b[0m     )\n\u001b[0;32m    567\u001b[0m     _check_write_command_response(result)\n\u001b[1;32m--> 569\u001b[0m \u001b[39mself\u001b[39;49m\u001b[39m.\u001b[39;49m__database\u001b[39m.\u001b[39;49mclient\u001b[39m.\u001b[39;49m_retryable_write(acknowledged, _insert_command, session)\n\u001b[0;32m    571\u001b[0m \u001b[39mif\u001b[39;00m \u001b[39mnot\u001b[39;00m \u001b[39misinstance\u001b[39m(doc, RawBSONDocument):\n\u001b[0;32m    572\u001b[0m     \u001b[39mreturn\u001b[39;00m doc\u001b[39m.\u001b[39mget(\u001b[39m\"\u001b[39m\u001b[39m_id\u001b[39m\u001b[39m\"\u001b[39m)\n",
      "File \u001b[1;32m~\\AppData\\Local\\Packages\\PythonSoftwareFoundation.Python.3.10_qbz5n2kfra8p0\\LocalCache\\local-packages\\Python310\\site-packages\\pymongo\\mongo_client.py:1476\u001b[0m, in \u001b[0;36mMongoClient._retryable_write\u001b[1;34m(self, retryable, func, session)\u001b[0m\n\u001b[0;32m   1474\u001b[0m \u001b[39m\u001b[39m\u001b[39m\"\"\"Internal retryable write helper.\"\"\"\u001b[39;00m\n\u001b[0;32m   1475\u001b[0m \u001b[39mwith\u001b[39;00m \u001b[39mself\u001b[39m\u001b[39m.\u001b[39m_tmp_session(session) \u001b[39mas\u001b[39;00m s:\n\u001b[1;32m-> 1476\u001b[0m     \u001b[39mreturn\u001b[39;00m \u001b[39mself\u001b[39;49m\u001b[39m.\u001b[39;49m_retry_with_session(retryable, func, s, \u001b[39mNone\u001b[39;49;00m)\n",
      "File \u001b[1;32m~\\AppData\\Local\\Packages\\PythonSoftwareFoundation.Python.3.10_qbz5n2kfra8p0\\LocalCache\\local-packages\\Python310\\site-packages\\pymongo\\mongo_client.py:1349\u001b[0m, in \u001b[0;36mMongoClient._retry_with_session\u001b[1;34m(self, retryable, func, session, bulk)\u001b[0m\n\u001b[0;32m   1339\u001b[0m \u001b[39m\u001b[39m\u001b[39m\"\"\"Execute an operation with at most one consecutive retries\u001b[39;00m\n\u001b[0;32m   1340\u001b[0m \n\u001b[0;32m   1341\u001b[0m \u001b[39mReturns func()'s return value on success. On error retries the same\u001b[39;00m\n\u001b[1;32m   (...)\u001b[0m\n\u001b[0;32m   1344\u001b[0m \u001b[39mRe-raises any exception thrown by func().\u001b[39;00m\n\u001b[0;32m   1345\u001b[0m \u001b[39m\"\"\"\u001b[39;00m\n\u001b[0;32m   1346\u001b[0m retryable \u001b[39m=\u001b[39m (\n\u001b[0;32m   1347\u001b[0m     retryable \u001b[39mand\u001b[39;00m \u001b[39mself\u001b[39m\u001b[39m.\u001b[39moptions\u001b[39m.\u001b[39mretry_writes \u001b[39mand\u001b[39;00m session \u001b[39mand\u001b[39;00m \u001b[39mnot\u001b[39;00m session\u001b[39m.\u001b[39min_transaction\n\u001b[0;32m   1348\u001b[0m )\n\u001b[1;32m-> 1349\u001b[0m \u001b[39mreturn\u001b[39;00m \u001b[39mself\u001b[39;49m\u001b[39m.\u001b[39;49m_retry_internal(retryable, func, session, bulk)\n",
      "File \u001b[1;32m~\\AppData\\Local\\Packages\\PythonSoftwareFoundation.Python.3.10_qbz5n2kfra8p0\\LocalCache\\local-packages\\Python310\\site-packages\\pymongo\\_csot.py:105\u001b[0m, in \u001b[0;36mapply.<locals>.csot_wrapper\u001b[1;34m(self, *args, **kwargs)\u001b[0m\n\u001b[0;32m    103\u001b[0m         \u001b[39mwith\u001b[39;00m _TimeoutContext(timeout):\n\u001b[0;32m    104\u001b[0m             \u001b[39mreturn\u001b[39;00m func(\u001b[39mself\u001b[39m, \u001b[39m*\u001b[39margs, \u001b[39m*\u001b[39m\u001b[39m*\u001b[39mkwargs)\n\u001b[1;32m--> 105\u001b[0m \u001b[39mreturn\u001b[39;00m func(\u001b[39mself\u001b[39m, \u001b[39m*\u001b[39margs, \u001b[39m*\u001b[39m\u001b[39m*\u001b[39mkwargs)\n",
      "File \u001b[1;32m~\\AppData\\Local\\Packages\\PythonSoftwareFoundation.Python.3.10_qbz5n2kfra8p0\\LocalCache\\local-packages\\Python310\\site-packages\\pymongo\\mongo_client.py:1381\u001b[0m, in \u001b[0;36mMongoClient._retry_internal\u001b[1;34m(self, retryable, func, session, bulk)\u001b[0m\n\u001b[0;32m   1377\u001b[0m server \u001b[39m=\u001b[39m \u001b[39mself\u001b[39m\u001b[39m.\u001b[39m_select_server(writable_server_selector, session)\n\u001b[0;32m   1378\u001b[0m supports_session \u001b[39m=\u001b[39m (\n\u001b[0;32m   1379\u001b[0m     session \u001b[39mis\u001b[39;00m \u001b[39mnot\u001b[39;00m \u001b[39mNone\u001b[39;00m \u001b[39mand\u001b[39;00m server\u001b[39m.\u001b[39mdescription\u001b[39m.\u001b[39mretryable_writes_supported\n\u001b[0;32m   1380\u001b[0m )\n\u001b[1;32m-> 1381\u001b[0m \u001b[39mwith\u001b[39;00m \u001b[39mself\u001b[39m\u001b[39m.\u001b[39m_get_socket(server, session) \u001b[39mas\u001b[39;00m sock_info:\n\u001b[0;32m   1382\u001b[0m     max_wire_version \u001b[39m=\u001b[39m sock_info\u001b[39m.\u001b[39mmax_wire_version\n\u001b[0;32m   1383\u001b[0m     \u001b[39mif\u001b[39;00m retryable \u001b[39mand\u001b[39;00m \u001b[39mnot\u001b[39;00m supports_session:\n",
      "File \u001b[1;32mC:\\Program Files\\WindowsApps\\PythonSoftwareFoundation.Python.3.10_3.10.2800.0_x64__qbz5n2kfra8p0\\lib\\contextlib.py:135\u001b[0m, in \u001b[0;36m_GeneratorContextManager.__enter__\u001b[1;34m(self)\u001b[0m\n\u001b[0;32m    133\u001b[0m \u001b[39mdel\u001b[39;00m \u001b[39mself\u001b[39m\u001b[39m.\u001b[39margs, \u001b[39mself\u001b[39m\u001b[39m.\u001b[39mkwds, \u001b[39mself\u001b[39m\u001b[39m.\u001b[39mfunc\n\u001b[0;32m    134\u001b[0m \u001b[39mtry\u001b[39;00m:\n\u001b[1;32m--> 135\u001b[0m     \u001b[39mreturn\u001b[39;00m \u001b[39mnext\u001b[39;49m(\u001b[39mself\u001b[39;49m\u001b[39m.\u001b[39;49mgen)\n\u001b[0;32m    136\u001b[0m \u001b[39mexcept\u001b[39;00m \u001b[39mStopIteration\u001b[39;00m:\n\u001b[0;32m    137\u001b[0m     \u001b[39mraise\u001b[39;00m \u001b[39mRuntimeError\u001b[39;00m(\u001b[39m\"\u001b[39m\u001b[39mgenerator didn\u001b[39m\u001b[39m'\u001b[39m\u001b[39mt yield\u001b[39m\u001b[39m\"\u001b[39m) \u001b[39mfrom\u001b[39;00m \u001b[39mNone\u001b[39m\n",
      "File \u001b[1;32m~\\AppData\\Local\\Packages\\PythonSoftwareFoundation.Python.3.10_qbz5n2kfra8p0\\LocalCache\\local-packages\\Python310\\site-packages\\pymongo\\mongo_client.py:1217\u001b[0m, in \u001b[0;36mMongoClient._get_socket\u001b[1;34m(self, server, session)\u001b[0m\n\u001b[0;32m   1215\u001b[0m     \u001b[39myield\u001b[39;00m session\u001b[39m.\u001b[39m_pinned_connection\n\u001b[0;32m   1216\u001b[0m     \u001b[39mreturn\u001b[39;00m\n\u001b[1;32m-> 1217\u001b[0m \u001b[39mwith\u001b[39;00m server\u001b[39m.\u001b[39mget_socket(handler\u001b[39m=\u001b[39merr_handler) \u001b[39mas\u001b[39;00m sock_info:\n\u001b[0;32m   1218\u001b[0m     \u001b[39m# Pin this session to the selected server or connection.\u001b[39;00m\n\u001b[0;32m   1219\u001b[0m     \u001b[39mif\u001b[39;00m in_txn \u001b[39mand\u001b[39;00m server\u001b[39m.\u001b[39mdescription\u001b[39m.\u001b[39mserver_type \u001b[39min\u001b[39;00m (\n\u001b[0;32m   1220\u001b[0m         SERVER_TYPE\u001b[39m.\u001b[39mMongos,\n\u001b[0;32m   1221\u001b[0m         SERVER_TYPE\u001b[39m.\u001b[39mLoadBalancer,\n\u001b[0;32m   1222\u001b[0m     ):\n\u001b[0;32m   1223\u001b[0m         session\u001b[39m.\u001b[39m_pin(server, sock_info)\n",
      "File \u001b[1;32mC:\\Program Files\\WindowsApps\\PythonSoftwareFoundation.Python.3.10_3.10.2800.0_x64__qbz5n2kfra8p0\\lib\\contextlib.py:135\u001b[0m, in \u001b[0;36m_GeneratorContextManager.__enter__\u001b[1;34m(self)\u001b[0m\n\u001b[0;32m    133\u001b[0m \u001b[39mdel\u001b[39;00m \u001b[39mself\u001b[39m\u001b[39m.\u001b[39margs, \u001b[39mself\u001b[39m\u001b[39m.\u001b[39mkwds, \u001b[39mself\u001b[39m\u001b[39m.\u001b[39mfunc\n\u001b[0;32m    134\u001b[0m \u001b[39mtry\u001b[39;00m:\n\u001b[1;32m--> 135\u001b[0m     \u001b[39mreturn\u001b[39;00m \u001b[39mnext\u001b[39;49m(\u001b[39mself\u001b[39;49m\u001b[39m.\u001b[39;49mgen)\n\u001b[0;32m    136\u001b[0m \u001b[39mexcept\u001b[39;00m \u001b[39mStopIteration\u001b[39;00m:\n\u001b[0;32m    137\u001b[0m     \u001b[39mraise\u001b[39;00m \u001b[39mRuntimeError\u001b[39;00m(\u001b[39m\"\u001b[39m\u001b[39mgenerator didn\u001b[39m\u001b[39m'\u001b[39m\u001b[39mt yield\u001b[39m\u001b[39m\"\u001b[39m) \u001b[39mfrom\u001b[39;00m \u001b[39mNone\u001b[39m\n",
      "File \u001b[1;32m~\\AppData\\Local\\Packages\\PythonSoftwareFoundation.Python.3.10_qbz5n2kfra8p0\\LocalCache\\local-packages\\Python310\\site-packages\\pymongo\\pool.py:1407\u001b[0m, in \u001b[0;36mPool.get_socket\u001b[1;34m(self, handler)\u001b[0m\n\u001b[0;32m   1404\u001b[0m \u001b[39mif\u001b[39;00m \u001b[39mself\u001b[39m\u001b[39m.\u001b[39menabled_for_cmap:\n\u001b[0;32m   1405\u001b[0m     listeners\u001b[39m.\u001b[39mpublish_connection_check_out_started(\u001b[39mself\u001b[39m\u001b[39m.\u001b[39maddress)\n\u001b[1;32m-> 1407\u001b[0m sock_info \u001b[39m=\u001b[39m \u001b[39mself\u001b[39;49m\u001b[39m.\u001b[39;49m_get_socket(handler\u001b[39m=\u001b[39;49mhandler)\n\u001b[0;32m   1409\u001b[0m \u001b[39mif\u001b[39;00m \u001b[39mself\u001b[39m\u001b[39m.\u001b[39menabled_for_cmap:\n\u001b[0;32m   1410\u001b[0m     listeners\u001b[39m.\u001b[39mpublish_connection_checked_out(\u001b[39mself\u001b[39m\u001b[39m.\u001b[39maddress, sock_info\u001b[39m.\u001b[39mid)\n",
      "File \u001b[1;32m~\\AppData\\Local\\Packages\\PythonSoftwareFoundation.Python.3.10_qbz5n2kfra8p0\\LocalCache\\local-packages\\Python310\\site-packages\\pymongo\\pool.py:1520\u001b[0m, in \u001b[0;36mPool._get_socket\u001b[1;34m(self, handler)\u001b[0m\n\u001b[0;32m   1518\u001b[0m \u001b[39melse\u001b[39;00m:  \u001b[39m# We need to create a new connection\u001b[39;00m\n\u001b[0;32m   1519\u001b[0m     \u001b[39mtry\u001b[39;00m:\n\u001b[1;32m-> 1520\u001b[0m         sock_info \u001b[39m=\u001b[39m \u001b[39mself\u001b[39;49m\u001b[39m.\u001b[39;49mconnect(handler\u001b[39m=\u001b[39;49mhandler)\n\u001b[0;32m   1521\u001b[0m     \u001b[39mfinally\u001b[39;00m:\n\u001b[0;32m   1522\u001b[0m         \u001b[39mwith\u001b[39;00m \u001b[39mself\u001b[39m\u001b[39m.\u001b[39m_max_connecting_cond:\n",
      "File \u001b[1;32m~\\AppData\\Local\\Packages\\PythonSoftwareFoundation.Python.3.10_qbz5n2kfra8p0\\LocalCache\\local-packages\\Python310\\site-packages\\pymongo\\pool.py:1378\u001b[0m, in \u001b[0;36mPool.connect\u001b[1;34m(self, handler)\u001b[0m\n\u001b[0;32m   1375\u001b[0m     \u001b[39mif\u001b[39;00m handler:\n\u001b[0;32m   1376\u001b[0m         handler\u001b[39m.\u001b[39mcontribute_socket(sock_info, completed_handshake\u001b[39m=\u001b[39m\u001b[39mFalse\u001b[39;00m)\n\u001b[1;32m-> 1378\u001b[0m     sock_info\u001b[39m.\u001b[39;49mauthenticate()\n\u001b[0;32m   1379\u001b[0m \u001b[39mexcept\u001b[39;00m \u001b[39mBaseException\u001b[39;00m:\n\u001b[0;32m   1380\u001b[0m     sock_info\u001b[39m.\u001b[39mclose_socket(ConnectionClosedReason\u001b[39m.\u001b[39mERROR)\n",
      "File \u001b[1;32m~\\AppData\\Local\\Packages\\PythonSoftwareFoundation.Python.3.10_qbz5n2kfra8p0\\LocalCache\\local-packages\\Python310\\site-packages\\pymongo\\pool.py:870\u001b[0m, in \u001b[0;36mSocketInfo.authenticate\u001b[1;34m(self)\u001b[0m\n\u001b[0;32m    868\u001b[0m creds \u001b[39m=\u001b[39m \u001b[39mself\u001b[39m\u001b[39m.\u001b[39mopts\u001b[39m.\u001b[39m_credentials\n\u001b[0;32m    869\u001b[0m \u001b[39mif\u001b[39;00m creds:\n\u001b[1;32m--> 870\u001b[0m     auth\u001b[39m.\u001b[39;49mauthenticate(creds, \u001b[39mself\u001b[39;49m)\n\u001b[0;32m    871\u001b[0m \u001b[39mself\u001b[39m\u001b[39m.\u001b[39mready \u001b[39m=\u001b[39m \u001b[39mTrue\u001b[39;00m\n\u001b[0;32m    872\u001b[0m \u001b[39mif\u001b[39;00m \u001b[39mself\u001b[39m\u001b[39m.\u001b[39menabled_for_cmap:\n",
      "File \u001b[1;32m~\\AppData\\Local\\Packages\\PythonSoftwareFoundation.Python.3.10_qbz5n2kfra8p0\\LocalCache\\local-packages\\Python310\\site-packages\\pymongo\\auth.py:549\u001b[0m, in \u001b[0;36mauthenticate\u001b[1;34m(credentials, sock_info)\u001b[0m\n\u001b[0;32m    547\u001b[0m mechanism \u001b[39m=\u001b[39m credentials\u001b[39m.\u001b[39mmechanism\n\u001b[0;32m    548\u001b[0m auth_func \u001b[39m=\u001b[39m _AUTH_MAP[mechanism]\n\u001b[1;32m--> 549\u001b[0m auth_func(credentials, sock_info)\n",
      "File \u001b[1;32m~\\AppData\\Local\\Packages\\PythonSoftwareFoundation.Python.3.10_qbz5n2kfra8p0\\LocalCache\\local-packages\\Python310\\site-packages\\pymongo\\auth.py:475\u001b[0m, in \u001b[0;36m_authenticate_default\u001b[1;34m(credentials, sock_info)\u001b[0m\n\u001b[0;32m    473\u001b[0m         \u001b[39mreturn\u001b[39;00m _authenticate_scram(credentials, sock_info, \u001b[39m\"\u001b[39m\u001b[39mSCRAM-SHA-256\u001b[39m\u001b[39m\"\u001b[39m)\n\u001b[0;32m    474\u001b[0m     \u001b[39melse\u001b[39;00m:\n\u001b[1;32m--> 475\u001b[0m         \u001b[39mreturn\u001b[39;00m _authenticate_scram(credentials, sock_info, \u001b[39m\"\u001b[39;49m\u001b[39mSCRAM-SHA-1\u001b[39;49m\u001b[39m\"\u001b[39;49m)\n\u001b[0;32m    476\u001b[0m \u001b[39melse\u001b[39;00m:\n\u001b[0;32m    477\u001b[0m     \u001b[39mreturn\u001b[39;00m _authenticate_scram(credentials, sock_info, \u001b[39m\"\u001b[39m\u001b[39mSCRAM-SHA-1\u001b[39m\u001b[39m\"\u001b[39m)\n",
      "File \u001b[1;32m~\\AppData\\Local\\Packages\\PythonSoftwareFoundation.Python.3.10_qbz5n2kfra8p0\\LocalCache\\local-packages\\Python310\\site-packages\\pymongo\\auth.py:241\u001b[0m, in \u001b[0;36m_authenticate_scram\u001b[1;34m(credentials, sock_info, mechanism)\u001b[0m\n\u001b[0;32m    232\u001b[0m server_sig \u001b[39m=\u001b[39m standard_b64encode(_hmac(server_key, auth_msg, digestmod)\u001b[39m.\u001b[39mdigest())\n\u001b[0;32m    234\u001b[0m cmd \u001b[39m=\u001b[39m SON(\n\u001b[0;32m    235\u001b[0m     [\n\u001b[0;32m    236\u001b[0m         (\u001b[39m\"\u001b[39m\u001b[39msaslContinue\u001b[39m\u001b[39m\"\u001b[39m, \u001b[39m1\u001b[39m),\n\u001b[1;32m   (...)\u001b[0m\n\u001b[0;32m    239\u001b[0m     ]\n\u001b[0;32m    240\u001b[0m )\n\u001b[1;32m--> 241\u001b[0m res \u001b[39m=\u001b[39m sock_info\u001b[39m.\u001b[39;49mcommand(source, cmd)\n\u001b[0;32m    243\u001b[0m parsed \u001b[39m=\u001b[39m _parse_scram_response(res[\u001b[39m\"\u001b[39m\u001b[39mpayload\u001b[39m\u001b[39m\"\u001b[39m])\n\u001b[0;32m    244\u001b[0m \u001b[39mif\u001b[39;00m \u001b[39mnot\u001b[39;00m hmac\u001b[39m.\u001b[39mcompare_digest(parsed[\u001b[39mb\u001b[39m\u001b[39m\"\u001b[39m\u001b[39mv\u001b[39m\u001b[39m\"\u001b[39m], server_sig):\n",
      "File \u001b[1;32m~\\AppData\\Local\\Packages\\PythonSoftwareFoundation.Python.3.10_qbz5n2kfra8p0\\LocalCache\\local-packages\\Python310\\site-packages\\pymongo\\pool.py:767\u001b[0m, in \u001b[0;36mSocketInfo.command\u001b[1;34m(self, dbname, spec, read_preference, codec_options, check, allowable_errors, read_concern, write_concern, parse_write_concern_error, collation, session, client, retryable_write, publish_events, user_fields, exhaust_allowed)\u001b[0m\n\u001b[0;32m    765\u001b[0m     \u001b[39mself\u001b[39m\u001b[39m.\u001b[39m_raise_if_not_writable(unacknowledged)\n\u001b[0;32m    766\u001b[0m \u001b[39mtry\u001b[39;00m:\n\u001b[1;32m--> 767\u001b[0m     \u001b[39mreturn\u001b[39;00m command(\n\u001b[0;32m    768\u001b[0m         \u001b[39mself\u001b[39;49m,\n\u001b[0;32m    769\u001b[0m         dbname,\n\u001b[0;32m    770\u001b[0m         spec,\n\u001b[0;32m    771\u001b[0m         \u001b[39mself\u001b[39;49m\u001b[39m.\u001b[39;49mis_mongos,\n\u001b[0;32m    772\u001b[0m         read_preference,\n\u001b[0;32m    773\u001b[0m         codec_options,\n\u001b[0;32m    774\u001b[0m         session,\n\u001b[0;32m    775\u001b[0m         client,\n\u001b[0;32m    776\u001b[0m         check,\n\u001b[0;32m    777\u001b[0m         allowable_errors,\n\u001b[0;32m    778\u001b[0m         \u001b[39mself\u001b[39;49m\u001b[39m.\u001b[39;49maddress,\n\u001b[0;32m    779\u001b[0m         listeners,\n\u001b[0;32m    780\u001b[0m         \u001b[39mself\u001b[39;49m\u001b[39m.\u001b[39;49mmax_bson_size,\n\u001b[0;32m    781\u001b[0m         read_concern,\n\u001b[0;32m    782\u001b[0m         parse_write_concern_error\u001b[39m=\u001b[39;49mparse_write_concern_error,\n\u001b[0;32m    783\u001b[0m         collation\u001b[39m=\u001b[39;49mcollation,\n\u001b[0;32m    784\u001b[0m         compression_ctx\u001b[39m=\u001b[39;49m\u001b[39mself\u001b[39;49m\u001b[39m.\u001b[39;49mcompression_context,\n\u001b[0;32m    785\u001b[0m         use_op_msg\u001b[39m=\u001b[39;49m\u001b[39mself\u001b[39;49m\u001b[39m.\u001b[39;49mop_msg_enabled,\n\u001b[0;32m    786\u001b[0m         unacknowledged\u001b[39m=\u001b[39;49munacknowledged,\n\u001b[0;32m    787\u001b[0m         user_fields\u001b[39m=\u001b[39;49muser_fields,\n\u001b[0;32m    788\u001b[0m         exhaust_allowed\u001b[39m=\u001b[39;49mexhaust_allowed,\n\u001b[0;32m    789\u001b[0m         write_concern\u001b[39m=\u001b[39;49mwrite_concern,\n\u001b[0;32m    790\u001b[0m     )\n\u001b[0;32m    791\u001b[0m \u001b[39mexcept\u001b[39;00m (OperationFailure, NotPrimaryError):\n\u001b[0;32m    792\u001b[0m     \u001b[39mraise\u001b[39;00m\n",
      "File \u001b[1;32m~\\AppData\\Local\\Packages\\PythonSoftwareFoundation.Python.3.10_qbz5n2kfra8p0\\LocalCache\\local-packages\\Python310\\site-packages\\pymongo\\network.py:166\u001b[0m, in \u001b[0;36mcommand\u001b[1;34m(sock_info, dbname, spec, is_mongos, read_preference, codec_options, session, client, check, allowable_errors, address, listeners, max_bson_size, read_concern, parse_write_concern_error, collation, compression_ctx, use_op_msg, unacknowledged, user_fields, exhaust_allowed, write_concern)\u001b[0m\n\u001b[0;32m    164\u001b[0m             client\u001b[39m.\u001b[39m_process_response(response_doc, session)\n\u001b[0;32m    165\u001b[0m         \u001b[39mif\u001b[39;00m check:\n\u001b[1;32m--> 166\u001b[0m             helpers\u001b[39m.\u001b[39;49m_check_command_response(\n\u001b[0;32m    167\u001b[0m                 response_doc,\n\u001b[0;32m    168\u001b[0m                 sock_info\u001b[39m.\u001b[39;49mmax_wire_version,\n\u001b[0;32m    169\u001b[0m                 allowable_errors,\n\u001b[0;32m    170\u001b[0m                 parse_write_concern_error\u001b[39m=\u001b[39;49mparse_write_concern_error,\n\u001b[0;32m    171\u001b[0m             )\n\u001b[0;32m    172\u001b[0m \u001b[39mexcept\u001b[39;00m \u001b[39mException\u001b[39;00m \u001b[39mas\u001b[39;00m exc:\n\u001b[0;32m    173\u001b[0m     \u001b[39mif\u001b[39;00m publish:\n",
      "File \u001b[1;32m~\\AppData\\Local\\Packages\\PythonSoftwareFoundation.Python.3.10_qbz5n2kfra8p0\\LocalCache\\local-packages\\Python310\\site-packages\\pymongo\\helpers.py:181\u001b[0m, in \u001b[0;36m_check_command_response\u001b[1;34m(response, max_wire_version, allowable_errors, parse_write_concern_error)\u001b[0m\n\u001b[0;32m    178\u001b[0m \u001b[39melif\u001b[39;00m code \u001b[39m==\u001b[39m \u001b[39m43\u001b[39m:\n\u001b[0;32m    179\u001b[0m     \u001b[39mraise\u001b[39;00m CursorNotFound(errmsg, code, response, max_wire_version)\n\u001b[1;32m--> 181\u001b[0m \u001b[39mraise\u001b[39;00m OperationFailure(errmsg, code, response, max_wire_version)\n",
      "\u001b[1;31mOperationFailure\u001b[0m: bad auth : authentication failed, full error: {'ok': 0, 'errmsg': 'bad auth : authentication failed', 'code': 8000, 'codeName': 'AtlasError'}"
     ]
    }
   ],
   "source": [
    "import pymongo\n",
    "\n",
    "# Establish a connection to MongoDB\n",
    "client = pymongo.MongoClient(\"mongodb+srv://dashrathpatel0810:<dashrathpatel0810>@cluster0.duoevcx.mongodb.net/?retryWrites=true&w=majority\")\n",
    "\n",
    "# Access a database\n",
    "db = client[\"mydatabase\"]\n",
    "\n",
    "# Access a collection\n",
    "col = db[\"customers\"]\n",
    "\n",
    "# Insert one record\n",
    "record_one = {\"name\": \"John Doe\", \"email\": \"johndoe@example.com\", \"age\": 30}\n",
    "insert_one_result = col.insert_one(record_one)\n",
    "print(\"Inserted record ID:\", insert_one_result.inserted_id)\n",
    "\n",
    "# Insert many records\n",
    "record_many = [\n",
    "    {\"name\": \"Alice Smith\", \"email\": \"alicesmith@example.com\", \"age\": 25},\n",
    "    {\"name\": \"Bob Johnson\", \"email\": \"bobjohnson@example.com\", \"age\": 35},\n",
    "    {\"name\": \"Jane Doe\", \"email\": \"janedoe@example.com\", \"age\": 28},\n",
    "]\n",
    "insert_many_result = col.insert_many(record_many)\n",
    "print(\"Inserted records IDs:\", insert_many_result.inserted_ids)\n",
    "\n",
    "# Find one record\n",
    "one_record = col.find_one({\"name\": \"John Doe\"})\n",
    "print(\"One record:\", one_record)\n",
    "\n",
    "# Find all records\n",
    "all_records = col.find()\n",
    "print(\"All records:\")\n",
    "for record in all_records:\n",
    "    print(record)\n"
   ]
  },
  {
   "cell_type": "markdown",
   "metadata": {},
   "source": [
    "Q5. Explain how you can use the find() method to query the MongoDB database. Write a simple code to\n",
    "demonstrate this."
   ]
  },
  {
   "cell_type": "markdown",
   "metadata": {},
   "source": [
    "In MongoDB, the find() method is used to query the database and retrieve data from a collection. The find() method takes a query object as an argument, which specifies the criteria for selecting documents from the collection. The query object can contain one or more key-value pairs, where the keys represent the field names in the collection, and the values represent the matching criteria."
   ]
  },
  {
   "attachments": {},
   "cell_type": "markdown",
   "metadata": {},
   "source": [
    "Q6. Explain the sort() method. Give an example to demonstrate sorting in MongoDB."
   ]
  },
  {
   "attachments": {},
   "cell_type": "markdown",
   "metadata": {},
   "source": [
    "In MongoDB, the sort() method is used to sort the result set of a query. The sort() method takes one or more parameters that specify the sorting criteria. Each parameter is a key-value pair, where the key represents the field name to sort by, and the value represents the sorting order (either 1 for ascending or -1 for descending)."
   ]
  },
  {
   "attachments": {},
   "cell_type": "markdown",
   "metadata": {},
   "source": [
    "Q7. Explain why delete_one(), delete_many(), and drop() is used."
   ]
  },
  {
   "attachments": {},
   "cell_type": "markdown",
   "metadata": {},
   "source": [
    "In MongoDB, there are several methods available to delete documents or entire collections. The delete_one() and delete_many() methods are used to delete one or multiple documents from a collection, while the drop() method is used to delete an entire collection.\n",
    "\n",
    "Here's a brief explanation of each method:\n",
    "\n",
    "delete_one(filter): This method deletes the first document that matches the given filter from the collection. If multiple documents match the filter, only the first one encountered will be deleted. The filter parameter is a dictionary that specifies the criteria for selecting the document to delete.\n",
    "\n",
    "delete_many(filter): This method deletes all documents that match the given filter from the collection. The filter parameter is a dictionary that specifies the criteria for selecting the documents to delete.\n",
    "\n",
    "drop(): This method deletes the entire collection from the database. All documents and indexes associated with the collection will be removed. This method does not take any parameters.\n",
    "\n",
    "These methods are useful for managing the contents of a MongoDB database. For example, you may want to delete certain documents that are no longer needed, or drop an entire collection that is no longer relevant to your application. It is important to use these methods with caution, as they can permanently delete data from your database."
   ]
  }
 ],
 "metadata": {
  "kernelspec": {
   "display_name": "Python 3",
   "language": "python",
   "name": "python3"
  },
  "language_info": {
   "codemirror_mode": {
    "name": "ipython",
    "version": 3
   },
   "file_extension": ".py",
   "mimetype": "text/x-python",
   "name": "python",
   "nbconvert_exporter": "python",
   "pygments_lexer": "ipython3",
   "version": "3.10.10"
  },
  "orig_nbformat": 4
 },
 "nbformat": 4,
 "nbformat_minor": 2
}
