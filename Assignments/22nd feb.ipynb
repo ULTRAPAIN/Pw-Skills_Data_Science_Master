{
 "cells": [
  {
   "cell_type": "markdown",
   "id": "76b79c4d-1e1e-4d13-a875-72eef16355f4",
   "metadata": {},
   "source": [
    "Q1. Create a Pandas Series that contains the following data: 4, 8, 15, 16, 23, and 42. Then, print the series."
   ]
  },
  {
   "cell_type": "code",
   "execution_count": 3,
   "id": "5ebe2a09-2edf-4001-897a-35887a321e7f",
   "metadata": {},
   "outputs": [
    {
     "name": "stdout",
     "output_type": "stream",
     "text": [
      "0     4\n",
      "1     8\n",
      "2    16\n",
      "3    23\n",
      "4    42\n",
      "dtype: int64\n"
     ]
    }
   ],
   "source": [
    "import pandas as pd\n",
    "a=[4,8,16,23,42]\n",
    "series =pd.Series(a)\n",
    "print(series)"
   ]
  },
  {
   "cell_type": "markdown",
   "id": "ca43fde3-1176-4727-9d6a-b2d466ef37d8",
   "metadata": {},
   "source": [
    "Q2. Create a variable of list type containing 10 elements in it, and apply pandas.Series function on the\n",
    "variable print it."
   ]
  },
  {
   "cell_type": "code",
   "execution_count": 4,
   "id": "2ef83160-7845-4453-ba5d-a3e1dfc4a410",
   "metadata": {},
   "outputs": [
    {
     "name": "stdout",
     "output_type": "stream",
     "text": [
      "0     1\n",
      "1     2\n",
      "2     3\n",
      "3     4\n",
      "4     5\n",
      "5     6\n",
      "6     7\n",
      "7     8\n",
      "8     9\n",
      "9    12\n",
      "dtype: int64\n"
     ]
    }
   ],
   "source": [
    "var1=[1,2,3,4,5,6,7,8,9,12]\n",
    "data=pd.Series(var1)\n",
    "print(data)\n"
   ]
  },
  {
   "cell_type": "markdown",
   "id": "f838cd45-4863-4845-a1fb-96855f160bd3",
   "metadata": {},
   "source": [
    "Q3. Create a Pandas DataFrame that contains the following data:\n",
    "\n",
    "Then, print the DataFrame."
   ]
  },
  {
   "cell_type": "code",
   "execution_count": 5,
   "id": "fed1e4ce-d7b1-411a-9804-8615544f74ee",
   "metadata": {},
   "outputs": [],
   "source": [
    "data2={\n",
    "    'Name':[\"Alice\",\"Bob\",\"Claire\"],\n",
    "    \"Age\":[25,30,27],\n",
    "    \"Gender\":[\"Female\",\"Male\",\"Female\"]}\n",
    "df=pd.DataFrame(data2)"
   ]
  },
  {
   "cell_type": "code",
   "execution_count": 6,
   "id": "3f407ac7-8512-47eb-a8a9-9cb874f48857",
   "metadata": {},
   "outputs": [
    {
     "data": {
      "text/html": [
       "<div>\n",
       "<style scoped>\n",
       "    .dataframe tbody tr th:only-of-type {\n",
       "        vertical-align: middle;\n",
       "    }\n",
       "\n",
       "    .dataframe tbody tr th {\n",
       "        vertical-align: top;\n",
       "    }\n",
       "\n",
       "    .dataframe thead th {\n",
       "        text-align: right;\n",
       "    }\n",
       "</style>\n",
       "<table border=\"1\" class=\"dataframe\">\n",
       "  <thead>\n",
       "    <tr style=\"text-align: right;\">\n",
       "      <th></th>\n",
       "      <th>Name</th>\n",
       "      <th>Age</th>\n",
       "      <th>Gender</th>\n",
       "    </tr>\n",
       "  </thead>\n",
       "  <tbody>\n",
       "    <tr>\n",
       "      <th>0</th>\n",
       "      <td>Alice</td>\n",
       "      <td>25</td>\n",
       "      <td>Female</td>\n",
       "    </tr>\n",
       "    <tr>\n",
       "      <th>1</th>\n",
       "      <td>Bob</td>\n",
       "      <td>30</td>\n",
       "      <td>Male</td>\n",
       "    </tr>\n",
       "    <tr>\n",
       "      <th>2</th>\n",
       "      <td>Claire</td>\n",
       "      <td>27</td>\n",
       "      <td>Female</td>\n",
       "    </tr>\n",
       "  </tbody>\n",
       "</table>\n",
       "</div>"
      ],
      "text/plain": [
       "     Name  Age  Gender\n",
       "0   Alice   25  Female\n",
       "1     Bob   30    Male\n",
       "2  Claire   27  Female"
      ]
     },
     "execution_count": 6,
     "metadata": {},
     "output_type": "execute_result"
    }
   ],
   "source": [
    "df"
   ]
  },
  {
   "cell_type": "markdown",
   "id": "3505427b-bb27-49af-8194-9186c2e77d5f",
   "metadata": {},
   "source": [
    "Q4. What is ‘DataFrame’ in pandas and how is it different from pandas.series? Explain with an example."
   ]
  },
  {
   "cell_type": "markdown",
   "id": "38289c67-d3fc-44ab-af6c-1f390ead6b1c",
   "metadata": {},
   "source": [
    "In Pandas, a DataFrame is a two-dimensional labeled data structure, consisting of rows and columns, that is similar to a spreadsheet or a SQL table. Each column in a DataFrame can have a different data type and can be thought of as a collection of Series objects.\n",
    "\n",
    "A Pandas Series, on the other hand, is a one-dimensional labeled data structure that can hold any data type, such as integers, floats, strings, or even Python objects. A DataFrame can be thought of as a collection of Series objects, where each Series represents a column of data.\n",
    "\n",
    "Here's an example to illustrate the difference between a Pandas Series and DataFrame:"
   ]
  },
  {
   "cell_type": "code",
   "execution_count": 7,
   "id": "47a5913b-db45-4a14-a070-df109f2e148e",
   "metadata": {},
   "outputs": [
    {
     "name": "stdout",
     "output_type": "stream",
     "text": [
      "   numbers  num2\n",
      "0       10  60.0\n",
      "1       20  70.0\n",
      "2       30   NaN\n",
      "3       40   NaN\n",
      "4       50   NaN\n"
     ]
    }
   ],
   "source": [
    "import pandas as pd\n",
    "\n",
    "# Creating a Pandas Series\n",
    "s = pd.Series([10, 20, 30, 40, 50])\n",
    "q=pd.Series([60,70])\n",
    "\n",
    "df = pd.DataFrame({\n",
    "  \"numbers\":s,\n",
    "    \"num2\":q\n",
    "})\n",
    "print(df)\n",
    "\n"
   ]
  },
  {
   "cell_type": "markdown",
   "id": "e98b727c-56d0-4aad-81ad-c886cf815d87",
   "metadata": {},
   "source": [
    "Q5. What are some common functions you can use to manipulate data in a Pandas DataFrame? Can\n",
    "you give an example of when you might use one of these functions?"
   ]
  },
  {
   "cell_type": "markdown",
   "id": "acd6de6c-f667-4e73-8224-e7d20a07d252",
   "metadata": {},
   "source": [
    "here are many useful functions in Pandas for manipulating data in a DataFrame, some of the most common functions include:\n",
    "\n",
    "head() and tail(): These functions allow you to view the first or last n rows of the DataFrame. This can be useful for quickly inspecting the data to ensure it has been read in correctly or to check for any obvious errors.\n",
    "\n",
    "info(): This function provides a summary of the DataFrame, including the number of non-null values, data types, and memory usage. This can be useful for identifying any missing or incorrect data.\n",
    "\n",
    "describe(): This function provides a statistical summary of the DataFrame, including count, mean, standard deviation, minimum, maximum, and quartile values. This can be useful for quickly understanding the distribution of the data.\n",
    "\n",
    "drop(): This function allows you to remove rows or columns from the DataFrame. This can be useful for removing irrelevant or duplicated data.\n",
    "\n",
    "groupby(): This function allows you to group the data by one or more columns and perform aggregations on the groups. This can be useful for calculating summary statistics by group or for performing calculations on subsets of the data.\n",
    "\n",
    "pivot_table(): This function allows you to create a pivot table, which is a way to summarize and aggregate data in a tabular format. This can be useful for visualizing and summarizing large amounts of data.\n",
    "\n",
    "apply(): This function allows you to apply a function to each element, row, or column of the DataFrame. This can be useful for performing custom calculations or transformations on the data."
   ]
  },
  {
   "cell_type": "code",
   "execution_count": 8,
   "id": "cc192ef0-5e93-47ef-97a6-7d262c710d69",
   "metadata": {},
   "outputs": [],
   "source": [
    "df2=pd.read_excel(\"LUSID Excel - Setting up your market data.xlsx\")"
   ]
  },
  {
   "cell_type": "code",
   "execution_count": 9,
   "id": "c1229a5f-b6c0-4482-a8a7-2b452d7560c5",
   "metadata": {},
   "outputs": [
    {
     "data": {
      "text/html": [
       "<div>\n",
       "<style scoped>\n",
       "    .dataframe tbody tr th:only-of-type {\n",
       "        vertical-align: middle;\n",
       "    }\n",
       "\n",
       "    .dataframe tbody tr th {\n",
       "        vertical-align: top;\n",
       "    }\n",
       "\n",
       "    .dataframe thead th {\n",
       "        text-align: right;\n",
       "    }\n",
       "</style>\n",
       "<table border=\"1\" class=\"dataframe\">\n",
       "  <thead>\n",
       "    <tr style=\"text-align: right;\">\n",
       "      <th></th>\n",
       "      <th>Unnamed: 0</th>\n",
       "      <th>Unnamed: 1</th>\n",
       "      <th>Unnamed: 2</th>\n",
       "      <th>Unnamed: 3</th>\n",
       "      <th>Unnamed: 4</th>\n",
       "      <th>Unnamed: 5</th>\n",
       "      <th>Unnamed: 6</th>\n",
       "      <th>Unnamed: 7</th>\n",
       "      <th>Unnamed: 8</th>\n",
       "      <th>Unnamed: 9</th>\n",
       "    </tr>\n",
       "  </thead>\n",
       "  <tbody>\n",
       "    <tr>\n",
       "      <th>0</th>\n",
       "      <td>NaN</td>\n",
       "      <td>NaN</td>\n",
       "      <td>NaN</td>\n",
       "      <td>NaN</td>\n",
       "      <td>NaN</td>\n",
       "      <td>NaN</td>\n",
       "      <td>NaN</td>\n",
       "      <td>NaN</td>\n",
       "      <td>NaN</td>\n",
       "      <td>NaN</td>\n",
       "    </tr>\n",
       "    <tr>\n",
       "      <th>1</th>\n",
       "      <td>NaN</td>\n",
       "      <td>NaN</td>\n",
       "      <td>NaN</td>\n",
       "      <td>Datetimes in LUSID</td>\n",
       "      <td>NaN</td>\n",
       "      <td>NaN</td>\n",
       "      <td>NaN</td>\n",
       "      <td>NaN</td>\n",
       "      <td>NaN</td>\n",
       "      <td>NaN</td>\n",
       "    </tr>\n",
       "    <tr>\n",
       "      <th>2</th>\n",
       "      <td>NaN</td>\n",
       "      <td>NaN</td>\n",
       "      <td>NaN</td>\n",
       "      <td>NaN</td>\n",
       "      <td>NaN</td>\n",
       "      <td>NaN</td>\n",
       "      <td>NaN</td>\n",
       "      <td>NaN</td>\n",
       "      <td>NaN</td>\n",
       "      <td>NaN</td>\n",
       "    </tr>\n",
       "    <tr>\n",
       "      <th>3</th>\n",
       "      <td>NaN</td>\n",
       "      <td>NaN</td>\n",
       "      <td>NaN</td>\n",
       "      <td>This sheet allows you to format datetimes for...</td>\n",
       "      <td>NaN</td>\n",
       "      <td>NaN</td>\n",
       "      <td>NaN</td>\n",
       "      <td>NaN</td>\n",
       "      <td>NaN</td>\n",
       "      <td>NaN</td>\n",
       "    </tr>\n",
       "    <tr>\n",
       "      <th>4</th>\n",
       "      <td>NaN</td>\n",
       "      <td>NaN</td>\n",
       "      <td>NaN</td>\n",
       "      <td>If you have any questions please visit our:</td>\n",
       "      <td>NaN</td>\n",
       "      <td>NaN</td>\n",
       "      <td>NaN</td>\n",
       "      <td>NaN</td>\n",
       "      <td>NaN</td>\n",
       "      <td>NaN</td>\n",
       "    </tr>\n",
       "  </tbody>\n",
       "</table>\n",
       "</div>"
      ],
      "text/plain": [
       "   Unnamed: 0  Unnamed: 1  Unnamed: 2  \\\n",
       "0         NaN         NaN         NaN   \n",
       "1         NaN         NaN         NaN   \n",
       "2         NaN         NaN         NaN   \n",
       "3         NaN         NaN         NaN   \n",
       "4         NaN         NaN         NaN   \n",
       "\n",
       "                                          Unnamed: 3 Unnamed: 4 Unnamed: 5  \\\n",
       "0                                                NaN        NaN        NaN   \n",
       "1                                 Datetimes in LUSID        NaN        NaN   \n",
       "2                                                NaN        NaN        NaN   \n",
       "3   This sheet allows you to format datetimes for...        NaN        NaN   \n",
       "4        If you have any questions please visit our:        NaN        NaN   \n",
       "\n",
       "   Unnamed: 6 Unnamed: 7 Unnamed: 8 Unnamed: 9  \n",
       "0         NaN        NaN        NaN        NaN  \n",
       "1         NaN        NaN        NaN        NaN  \n",
       "2         NaN        NaN        NaN        NaN  \n",
       "3         NaN        NaN        NaN        NaN  \n",
       "4         NaN        NaN        NaN        NaN  "
      ]
     },
     "execution_count": 9,
     "metadata": {},
     "output_type": "execute_result"
    }
   ],
   "source": [
    "df2.head()"
   ]
  },
  {
   "cell_type": "code",
   "execution_count": 10,
   "id": "8e4ff70a-2ffd-4a46-8f17-c8c7a1d134a4",
   "metadata": {},
   "outputs": [
    {
     "data": {
      "text/html": [
       "<div>\n",
       "<style scoped>\n",
       "    .dataframe tbody tr th:only-of-type {\n",
       "        vertical-align: middle;\n",
       "    }\n",
       "\n",
       "    .dataframe tbody tr th {\n",
       "        vertical-align: top;\n",
       "    }\n",
       "\n",
       "    .dataframe thead th {\n",
       "        text-align: right;\n",
       "    }\n",
       "</style>\n",
       "<table border=\"1\" class=\"dataframe\">\n",
       "  <thead>\n",
       "    <tr style=\"text-align: right;\">\n",
       "      <th></th>\n",
       "      <th>Unnamed: 0</th>\n",
       "      <th>Unnamed: 1</th>\n",
       "      <th>Unnamed: 2</th>\n",
       "      <th>Unnamed: 3</th>\n",
       "      <th>Unnamed: 4</th>\n",
       "      <th>Unnamed: 5</th>\n",
       "      <th>Unnamed: 6</th>\n",
       "      <th>Unnamed: 7</th>\n",
       "      <th>Unnamed: 8</th>\n",
       "      <th>Unnamed: 9</th>\n",
       "    </tr>\n",
       "  </thead>\n",
       "  <tbody>\n",
       "    <tr>\n",
       "      <th>23</th>\n",
       "      <td>NaN</td>\n",
       "      <td>NaN</td>\n",
       "      <td>NaN</td>\n",
       "      <td>NaN</td>\n",
       "      <td>Although the date can still appears without time</td>\n",
       "      <td>2019-04-10 13:30:45.550000</td>\n",
       "      <td>NaN</td>\n",
       "      <td>NaN</td>\n",
       "      <td>NaN</td>\n",
       "      <td>NaN</td>\n",
       "    </tr>\n",
       "    <tr>\n",
       "      <th>24</th>\n",
       "      <td>NaN</td>\n",
       "      <td>NaN</td>\n",
       "      <td>NaN</td>\n",
       "      <td>NaN</td>\n",
       "      <td>NaN</td>\n",
       "      <td>NaN</td>\n",
       "      <td>NaN</td>\n",
       "      <td>NaN</td>\n",
       "      <td>NaN</td>\n",
       "      <td>NaN</td>\n",
       "    </tr>\n",
       "    <tr>\n",
       "      <th>25</th>\n",
       "      <td>NaN</td>\n",
       "      <td>NaN</td>\n",
       "      <td>NaN</td>\n",
       "      <td>NaN</td>\n",
       "      <td>Add an hour to your datetime</td>\n",
       "      <td>2019-04-10 14:30:45.550000</td>\n",
       "      <td>NaN</td>\n",
       "      <td>NaN</td>\n",
       "      <td>NaN</td>\n",
       "      <td>NaN</td>\n",
       "    </tr>\n",
       "    <tr>\n",
       "      <th>26</th>\n",
       "      <td>NaN</td>\n",
       "      <td>NaN</td>\n",
       "      <td>NaN</td>\n",
       "      <td>NaN</td>\n",
       "      <td>NaN</td>\n",
       "      <td>NaN</td>\n",
       "      <td>NaN</td>\n",
       "      <td>NaN</td>\n",
       "      <td>NaN</td>\n",
       "      <td>NaN</td>\n",
       "    </tr>\n",
       "    <tr>\n",
       "      <th>27</th>\n",
       "      <td>NaN</td>\n",
       "      <td>NaN</td>\n",
       "      <td>NaN</td>\n",
       "      <td>NaN</td>\n",
       "      <td>Subtract a minute from your datetime</td>\n",
       "      <td>2019-04-10 14:29:45.550000</td>\n",
       "      <td>NaN</td>\n",
       "      <td>NaN</td>\n",
       "      <td>NaN</td>\n",
       "      <td>NaN</td>\n",
       "    </tr>\n",
       "  </tbody>\n",
       "</table>\n",
       "</div>"
      ],
      "text/plain": [
       "    Unnamed: 0  Unnamed: 1  Unnamed: 2 Unnamed: 3  \\\n",
       "23         NaN         NaN         NaN        NaN   \n",
       "24         NaN         NaN         NaN        NaN   \n",
       "25         NaN         NaN         NaN        NaN   \n",
       "26         NaN         NaN         NaN        NaN   \n",
       "27         NaN         NaN         NaN        NaN   \n",
       "\n",
       "                                          Unnamed: 4  \\\n",
       "23  Although the date can still appears without time   \n",
       "24                                               NaN   \n",
       "25                      Add an hour to your datetime   \n",
       "26                                               NaN   \n",
       "27              Subtract a minute from your datetime   \n",
       "\n",
       "                    Unnamed: 5  Unnamed: 6 Unnamed: 7 Unnamed: 8 Unnamed: 9  \n",
       "23  2019-04-10 13:30:45.550000         NaN        NaN        NaN        NaN  \n",
       "24                         NaN         NaN        NaN        NaN        NaN  \n",
       "25  2019-04-10 14:30:45.550000         NaN        NaN        NaN        NaN  \n",
       "26                         NaN         NaN        NaN        NaN        NaN  \n",
       "27  2019-04-10 14:29:45.550000         NaN        NaN        NaN        NaN  "
      ]
     },
     "execution_count": 10,
     "metadata": {},
     "output_type": "execute_result"
    }
   ],
   "source": [
    "df2.tail()"
   ]
  },
  {
   "cell_type": "code",
   "execution_count": 11,
   "id": "708467dd-de88-4591-9af0-026f52dbf26c",
   "metadata": {},
   "outputs": [
    {
     "name": "stdout",
     "output_type": "stream",
     "text": [
      "<class 'pandas.core.frame.DataFrame'>\n",
      "RangeIndex: 28 entries, 0 to 27\n",
      "Data columns (total 10 columns):\n",
      " #   Column      Non-Null Count  Dtype  \n",
      "---  ------      --------------  -----  \n",
      " 0   Unnamed: 0  0 non-null      float64\n",
      " 1   Unnamed: 1  0 non-null      float64\n",
      " 2   Unnamed: 2  0 non-null      float64\n",
      " 3   Unnamed: 3  3 non-null      object \n",
      " 4   Unnamed: 4  12 non-null     object \n",
      " 5   Unnamed: 5  7 non-null      object \n",
      " 6   Unnamed: 6  0 non-null      float64\n",
      " 7   Unnamed: 7  6 non-null      object \n",
      " 8   Unnamed: 8  4 non-null      object \n",
      " 9   Unnamed: 9  1 non-null      object \n",
      "dtypes: float64(4), object(6)\n",
      "memory usage: 2.3+ KB\n"
     ]
    }
   ],
   "source": [
    "df2.info()"
   ]
  },
  {
   "cell_type": "code",
   "execution_count": 12,
   "id": "9f7bdc8c-59da-4f91-ad72-33375e1e8cfe",
   "metadata": {},
   "outputs": [
    {
     "data": {
      "text/html": [
       "<div>\n",
       "<style scoped>\n",
       "    .dataframe tbody tr th:only-of-type {\n",
       "        vertical-align: middle;\n",
       "    }\n",
       "\n",
       "    .dataframe tbody tr th {\n",
       "        vertical-align: top;\n",
       "    }\n",
       "\n",
       "    .dataframe thead th {\n",
       "        text-align: right;\n",
       "    }\n",
       "</style>\n",
       "<table border=\"1\" class=\"dataframe\">\n",
       "  <thead>\n",
       "    <tr style=\"text-align: right;\">\n",
       "      <th></th>\n",
       "      <th>Unnamed: 0</th>\n",
       "      <th>Unnamed: 1</th>\n",
       "      <th>Unnamed: 2</th>\n",
       "      <th>Unnamed: 6</th>\n",
       "    </tr>\n",
       "  </thead>\n",
       "  <tbody>\n",
       "    <tr>\n",
       "      <th>count</th>\n",
       "      <td>0.0</td>\n",
       "      <td>0.0</td>\n",
       "      <td>0.0</td>\n",
       "      <td>0.0</td>\n",
       "    </tr>\n",
       "    <tr>\n",
       "      <th>mean</th>\n",
       "      <td>NaN</td>\n",
       "      <td>NaN</td>\n",
       "      <td>NaN</td>\n",
       "      <td>NaN</td>\n",
       "    </tr>\n",
       "    <tr>\n",
       "      <th>std</th>\n",
       "      <td>NaN</td>\n",
       "      <td>NaN</td>\n",
       "      <td>NaN</td>\n",
       "      <td>NaN</td>\n",
       "    </tr>\n",
       "    <tr>\n",
       "      <th>min</th>\n",
       "      <td>NaN</td>\n",
       "      <td>NaN</td>\n",
       "      <td>NaN</td>\n",
       "      <td>NaN</td>\n",
       "    </tr>\n",
       "    <tr>\n",
       "      <th>25%</th>\n",
       "      <td>NaN</td>\n",
       "      <td>NaN</td>\n",
       "      <td>NaN</td>\n",
       "      <td>NaN</td>\n",
       "    </tr>\n",
       "    <tr>\n",
       "      <th>50%</th>\n",
       "      <td>NaN</td>\n",
       "      <td>NaN</td>\n",
       "      <td>NaN</td>\n",
       "      <td>NaN</td>\n",
       "    </tr>\n",
       "    <tr>\n",
       "      <th>75%</th>\n",
       "      <td>NaN</td>\n",
       "      <td>NaN</td>\n",
       "      <td>NaN</td>\n",
       "      <td>NaN</td>\n",
       "    </tr>\n",
       "    <tr>\n",
       "      <th>max</th>\n",
       "      <td>NaN</td>\n",
       "      <td>NaN</td>\n",
       "      <td>NaN</td>\n",
       "      <td>NaN</td>\n",
       "    </tr>\n",
       "  </tbody>\n",
       "</table>\n",
       "</div>"
      ],
      "text/plain": [
       "       Unnamed: 0  Unnamed: 1  Unnamed: 2  Unnamed: 6\n",
       "count         0.0         0.0         0.0         0.0\n",
       "mean          NaN         NaN         NaN         NaN\n",
       "std           NaN         NaN         NaN         NaN\n",
       "min           NaN         NaN         NaN         NaN\n",
       "25%           NaN         NaN         NaN         NaN\n",
       "50%           NaN         NaN         NaN         NaN\n",
       "75%           NaN         NaN         NaN         NaN\n",
       "max           NaN         NaN         NaN         NaN"
      ]
     },
     "execution_count": 12,
     "metadata": {},
     "output_type": "execute_result"
    }
   ],
   "source": [
    "df2.describe()"
   ]
  },
  {
   "cell_type": "code",
   "execution_count": 13,
   "id": "94fd50ac-579c-41b9-a76f-ced8987a3f9a",
   "metadata": {},
   "outputs": [
    {
     "data": {
      "text/plain": [
       "0    82\n",
       "dtype: int64"
      ]
     },
     "execution_count": 13,
     "metadata": {},
     "output_type": "execute_result"
    }
   ],
   "source": [
    "df3=pd.DataFrame(data2['Age'])\n",
    "df3.sum(axis=None)"
   ]
  },
  {
   "cell_type": "markdown",
   "id": "d848b8d4-04ce-4ba8-b525-6fcca284527c",
   "metadata": {},
   "source": [
    "df2.drop(index=[2,3])"
   ]
  },
  {
   "cell_type": "markdown",
   "id": "1c3b20b8-2732-4ac2-a57e-fe4caa22fa97",
   "metadata": {},
   "source": [
    "Which of the following is mutable in nature Series, DataFrame, Panel?Which of the following is mutable in nature Series, DataFrame, Panel?"
   ]
  },
  {
   "cell_type": "markdown",
   "id": "bdbdcae2-0beb-4d20-979c-fe5b5fb8f97c",
   "metadata": {},
   "source": [
    "In pandas, both Series and DataFrame are mutable in nature, meaning that their contents can be modified after they are created.\n",
    "\n",
    "On the other hand, the Panel data structure has been deprecated since pandas version 0.25.0, and is no longer recommended for use. Instead, multi-dimensional data can be represented using the more flexible and efficient MultiIndex data structure in pandas.\n",
    "\n",
    "\n",
    "\n",
    "\n"
   ]
  },
  {
   "cell_type": "markdown",
   "id": "b2d18cb2-e4c3-413f-b35e-8eaa8ec32122",
   "metadata": {},
   "source": [
    "Q7. Create a DataFrame using multiple Series. Explain with an example."
   ]
  },
  {
   "cell_type": "code",
   "execution_count": 5,
   "id": "8022a079-5d7c-4f93-bdb1-ad866615824f",
   "metadata": {},
   "outputs": [
    {
     "data": {
      "text/html": [
       "<div>\n",
       "<style scoped>\n",
       "    .dataframe tbody tr th:only-of-type {\n",
       "        vertical-align: middle;\n",
       "    }\n",
       "\n",
       "    .dataframe tbody tr th {\n",
       "        vertical-align: top;\n",
       "    }\n",
       "\n",
       "    .dataframe thead th {\n",
       "        text-align: right;\n",
       "    }\n",
       "</style>\n",
       "<table border=\"1\" class=\"dataframe\">\n",
       "  <thead>\n",
       "    <tr style=\"text-align: right;\">\n",
       "      <th></th>\n",
       "      <th>num1</th>\n",
       "      <th>num2</th>\n",
       "      <th>num3</th>\n",
       "    </tr>\n",
       "  </thead>\n",
       "  <tbody>\n",
       "    <tr>\n",
       "      <th>0</th>\n",
       "      <td>1</td>\n",
       "      <td>6</td>\n",
       "      <td>11</td>\n",
       "    </tr>\n",
       "    <tr>\n",
       "      <th>1</th>\n",
       "      <td>2</td>\n",
       "      <td>7</td>\n",
       "      <td>12</td>\n",
       "    </tr>\n",
       "    <tr>\n",
       "      <th>2</th>\n",
       "      <td>3</td>\n",
       "      <td>8</td>\n",
       "      <td>13</td>\n",
       "    </tr>\n",
       "    <tr>\n",
       "      <th>3</th>\n",
       "      <td>4</td>\n",
       "      <td>9</td>\n",
       "      <td>14</td>\n",
       "    </tr>\n",
       "    <tr>\n",
       "      <th>4</th>\n",
       "      <td>5</td>\n",
       "      <td>10</td>\n",
       "      <td>15</td>\n",
       "    </tr>\n",
       "  </tbody>\n",
       "</table>\n",
       "</div>"
      ],
      "text/plain": [
       "   num1  num2  num3\n",
       "0     1     6    11\n",
       "1     2     7    12\n",
       "2     3     8    13\n",
       "3     4     9    14\n",
       "4     5    10    15"
      ]
     },
     "execution_count": 5,
     "metadata": {},
     "output_type": "execute_result"
    }
   ],
   "source": [
    "import pandas as pd\n",
    "\n",
    "s1=pd.Series([1,2,3,4,5])\n",
    "s2=pd.Series([6,7,8,9,10])\n",
    "s3=pd.Series([11,12,13,14,15])\n",
    "\n",
    "data={\n",
    "    'num1':s1,\n",
    "    'num2':s2,\n",
    "    'num3':s3}\n",
    "df=pd.DataFrame(data)\n",
    "df"
   ]
  },
  {
   "cell_type": "code",
   "execution_count": null,
   "id": "eba6459b-08a3-4432-bab0-2a1af7f2aa92",
   "metadata": {},
   "outputs": [],
   "source": []
  }
 ],
 "metadata": {
  "kernelspec": {
   "display_name": "Python 3 (ipykernel)",
   "language": "python",
   "name": "python3"
  },
  "language_info": {
   "codemirror_mode": {
    "name": "ipython",
    "version": 3
   },
   "file_extension": ".py",
   "mimetype": "text/x-python",
   "name": "python",
   "nbconvert_exporter": "python",
   "pygments_lexer": "ipython3",
   "version": "3.10.8"
  }
 },
 "nbformat": 4,
 "nbformat_minor": 5
}
