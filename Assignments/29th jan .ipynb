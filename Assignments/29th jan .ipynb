{
 "cells": [
  {
   "cell_type": "code",
   "execution_count": 1,
   "id": "ecf26063-2c77-46b1-803e-9f8ada927496",
   "metadata": {},
   "outputs": [],
   "source": [
    "# Q :1> who developed python programming langauge ?\n"
   ]
  },
  {
   "cell_type": "code",
   "execution_count": 2,
   "id": "5853b30c-9ee8-4f24-a5df-afcdb70b2500",
   "metadata": {},
   "outputs": [],
   "source": [
    "# answer :-The Python programming language was developed by Guido van Rossum. "
   ]
  },
  {
   "cell_type": "code",
   "execution_count": 3,
   "id": "8124f6be-8ae1-4f41-9946-a1b764b76661",
   "metadata": {},
   "outputs": [],
   "source": [
    "# Q :2> which tye of programming language does python support?\n"
   ]
  },
  {
   "cell_type": "code",
   "execution_count": 4,
   "id": "4e54a9f9-6fc8-4839-a32f-eff9dd4874bf",
   "metadata": {},
   "outputs": [],
   "source": [
    "# python supports many types of features such as\n",
    "# 1:-Object orient programming (oop)\n",
    "# 2:-functional programming\n",
    "# 3:- Imperative Programming\n",
    "# 4:- Procedural programming "
   ]
  },
  {
   "cell_type": "code",
   "execution_count": 5,
   "id": "a3e267e5-a7e2-42f5-9c96-614a16323eab",
   "metadata": {},
   "outputs": [],
   "source": [
    "# Q :3 > Is Python A Case sensitive WHen dealing with identifiers?"
   ]
  },
  {
   "cell_type": "code",
   "execution_count": 6,
   "id": "0ec5d171-2539-4c6d-bb79-1dd82ef08070",
   "metadata": {},
   "outputs": [],
   "source": [
    "# yes python is a case sensitive language with dealing with identifiers such as variable names , function names and class names. "
   ]
  },
  {
   "cell_type": "code",
   "execution_count": 7,
   "id": "83e7ebd3-f87f-42ac-af98-c4aa66c2258b",
   "metadata": {},
   "outputs": [],
   "source": [
    "# 4. What is the correct extension of the Python file? \n"
   ]
  },
  {
   "cell_type": "code",
   "execution_count": 8,
   "id": "c68c1805-5b65-45a7-a1c9-a5e554b86cdd",
   "metadata": {},
   "outputs": [],
   "source": [
    "# .py in vs studio code and .ipynb in jupyter notebook"
   ]
  },
  {
   "cell_type": "code",
   "execution_count": 9,
   "id": "cd5d74a8-93ad-4aa8-9660-0815ccbb03a2",
   "metadata": {},
   "outputs": [],
   "source": [
    "# 5. Is Python code compiled or interpreted? \n"
   ]
  },
  {
   "cell_type": "code",
   "execution_count": 10,
   "id": "fa52ba2e-373d-4645-a2a8-1d98cc187cfd",
   "metadata": {},
   "outputs": [],
   "source": [
    "# Python is an interpreted language, which means that the code is executed line by line, rather than being compiled into machine code and then executed."
   ]
  },
  {
   "cell_type": "code",
   "execution_count": 11,
   "id": "9066b472-6132-497e-8f36-14a2483e591c",
   "metadata": {},
   "outputs": [],
   "source": [
    "# 6. Name a few blocks of code used to define in Python language? \n"
   ]
  },
  {
   "cell_type": "code",
   "execution_count": 12,
   "id": "763d6777-a2b8-45c6-8d5d-0969ce11dc85",
   "metadata": {},
   "outputs": [],
   "source": [
    "# In Python, there are several blocks of code used to define constructs such as functions, classes, loops, and conditional statements.\n",
    "# Some of the common blocks of code used in Python are:\n",
    "# 1 :>Functions\n",
    "# 2:> class\n",
    "# 3:> loops\n",
    "# 4:>CONDITIONAL STATEMENTS\n",
    "\n"
   ]
  },
  {
   "cell_type": "code",
   "execution_count": 14,
   "id": "e3ed787f-a1af-4c2e-8df2-8cad416c3d20",
   "metadata": {},
   "outputs": [],
   "source": [
    "# 7. State a character used to give single-line comments in Python? "
   ]
  },
  {
   "cell_type": "code",
   "execution_count": 15,
   "id": "b034c316-81d9-4af2-bb19-5bd56a27481c",
   "metadata": {},
   "outputs": [],
   "source": [
    "# SYMBOL IS USED TO GIVE SINGLE LINE COMMENT"
   ]
  },
  {
   "cell_type": "code",
   "execution_count": 17,
   "id": "a913ba60-6a1d-4d53-a4f1-90fa4d39bbab",
   "metadata": {},
   "outputs": [],
   "source": [
    "# 8. Mention functions which can help us to find the version of python that we are currently working on? \n"
   ]
  },
  {
   "cell_type": "code",
   "execution_count": 18,
   "id": "19eaa161-0d1e-4374-8207-bc967e1e40ce",
   "metadata": {},
   "outputs": [
    {
     "ename": "SyntaxError",
     "evalue": "unterminated string literal (detected at line 9) (3815865011.py, line 9)",
     "output_type": "error",
     "traceback": [
      "\u001b[0;36m  Cell \u001b[0;32mIn[18], line 9\u001b[0;36m\u001b[0m\n\u001b[0;31m    The python command: If you're using a terminal or command prompt, you can run the python command followed by the --version option to see the version of Python that is installed.\u001b[0m\n\u001b[0m                              ^\u001b[0m\n\u001b[0;31mSyntaxError\u001b[0m\u001b[0;31m:\u001b[0m unterminated string literal (detected at line 9)\n"
     ]
    }
   ],
   "source": [
    "# There are several ways to find the version of Python that you are currently working on:\n",
    "\n",
    "# sys.version: You can use the sys module in Python to access version information about your Python environment. The sys.version attribute returns a string that contains the version number of Python, as well as other information about your system.\n",
    "\n",
    "# sys.version_info: The sys module also provides the sys.version_info attribute, which returns a named tuple that contains information about the version of Python. You can access the individual components of the version number (major, minor, micro, etc.) using indexing, for example sys.version_info[0] will return the major version number.\n",
    "\n",
    "# platform.python_version(): The platform module provides the python_version() function, which returns a string with the version number of Python.\n",
    "\n",
    "# The python command: If you're using a terminal or command prompt, you can run the python command followed by the --version option to see the version of Python that is installed.\n",
    "\n",
    "# With any of these methods, you can obtain the version of Python that you are working with and use it to ensure that your code is compatible with the environment you are working in."
   ]
  },
  {
   "cell_type": "code",
   "execution_count": 19,
   "id": "71ac9886-b94f-4b3a-91bf-ec6c4334b5d4",
   "metadata": {},
   "outputs": [],
   "source": [
    "# 9. Python supports the creation of anonymous functions at runtime, using a construct called \n"
   ]
  },
  {
   "cell_type": "code",
   "execution_count": 20,
   "id": "cd4ebb04-6d71-43c4-bf1e-c7a306170ccd",
   "metadata": {},
   "outputs": [],
   "source": [
    "# LAMDA FUNCTION"
   ]
  },
  {
   "cell_type": "code",
   "execution_count": 25,
   "id": "177f5608-bb0d-44b6-bd65-42edb47650e8",
   "metadata": {},
   "outputs": [],
   "source": [
    "import sys"
   ]
  },
  {
   "cell_type": "code",
   "execution_count": 26,
   "id": "8d526f81-605d-4cba-aa11-40660f77a97f",
   "metadata": {},
   "outputs": [
    {
     "data": {
      "text/plain": [
       "'3.10.8 | packaged by conda-forge | (main, Nov 22 2022, 08:26:04) [GCC 10.4.0]'"
      ]
     },
     "execution_count": 26,
     "metadata": {},
     "output_type": "execute_result"
    }
   ],
   "source": [
    "sys.version"
   ]
  },
  {
   "cell_type": "code",
   "execution_count": 28,
   "id": "ffd62646-0d2d-4cb0-93b8-73d04f982093",
   "metadata": {},
   "outputs": [
    {
     "data": {
      "text/plain": [
       "sys.version_info(major=3, minor=10, micro=8, releaselevel='final', serial=0)"
      ]
     },
     "execution_count": 28,
     "metadata": {},
     "output_type": "execute_result"
    }
   ],
   "source": [
    "sys.version_info"
   ]
  },
  {
   "cell_type": "code",
   "execution_count": 29,
   "id": "80a66cb1-5dbf-4b3b-a1db-1f77c9e7fad6",
   "metadata": {},
   "outputs": [],
   "source": [
    "import platform"
   ]
  },
  {
   "cell_type": "code",
   "execution_count": 30,
   "id": "1b7117b2-2dcd-4cd9-b037-b56e2c5f857a",
   "metadata": {},
   "outputs": [
    {
     "data": {
      "text/plain": [
       "'3.10.8'"
      ]
     },
     "execution_count": 30,
     "metadata": {},
     "output_type": "execute_result"
    }
   ],
   "source": [
    "platform.python_version()"
   ]
  },
  {
   "cell_type": "code",
   "execution_count": null,
   "id": "3e507c69-e438-4fdc-af12-c2b4b2f2a8e9",
   "metadata": {},
   "outputs": [],
   "source": [
    "# 10. What does pip stand for python? "
   ]
  },
  {
   "cell_type": "code",
   "execution_count": 32,
   "id": "e1342257-0ba9-4f4a-98a1-9e166333ec36",
   "metadata": {},
   "outputs": [
    {
     "name": "stdout",
     "output_type": "stream",
     "text": [
      "ERROR: unknown command \"stands\"\n",
      "Note: you may need to restart the kernel to use updated packages.\n"
     ]
    }
   ],
   "source": [
    "pip stands for pip install packages .It is  used to install and manage packages and libraries written in Python. "
   ]
  },
  {
   "cell_type": "code",
   "execution_count": 33,
   "id": "50c97cc6-5938-4cf9-a4cd-e97820042f1c",
   "metadata": {},
   "outputs": [],
   "source": [
    "# 11. Mention a few built-in functions in python?\n"
   ]
  },
  {
   "cell_type": "code",
   "execution_count": 34,
   "id": "9a2ed5b0-9b43-412d-afb5-2d7c967d2868",
   "metadata": {},
   "outputs": [],
   "source": [
    "# # Here are a few built-in functions in Python:\n",
    "\n",
    "# # print(): used to display output on the console.\n",
    "# # len(): returns the number of elements in a list, string, or other objects.\n",
    "# # type(): returns the data type of an object.\n",
    "# # int(), float(), str(): used to convert an object to an integer, float, or string, respectively.\n",
    "# range(): generates a range of numbers, commonly used in for loops."
   ]
  },
  {
   "cell_type": "code",
   "execution_count": 35,
   "id": "127b3ef5-3f0a-4864-852e-8c0e3304edf6",
   "metadata": {},
   "outputs": [],
   "source": [
    "# 12. What is the maximum possible length of an identifier in Python? \n"
   ]
  },
  {
   "cell_type": "code",
   "execution_count": 36,
   "id": "df857dae-ce15-4a93-9c84-ce0a87a97faa",
   "metadata": {},
   "outputs": [],
   "source": [
    "# In python there is no limit to the lenght of and identifier . However it is good pracise to keep the identifier names short and descriptive "
   ]
  },
  {
   "cell_type": "code",
   "execution_count": 37,
   "id": "75d98e7e-dceb-4745-b890-447053dfdc40",
   "metadata": {},
   "outputs": [],
   "source": [
    "# 13. What are the benefits of using Python? \n"
   ]
  },
  {
   "cell_type": "code",
   "execution_count": 38,
   "id": "a112227b-a650-4a7f-9ffa-8059cf12a12a",
   "metadata": {},
   "outputs": [],
   "source": [
    "# the benefits of python are we ean learn more libraries and packages and make use of them and since python code is way shorter than other codes "
   ]
  },
  {
   "cell_type": "code",
   "execution_count": 39,
   "id": "d3003b6d-80a6-4205-ad9e-ad1148b882e1",
   "metadata": {},
   "outputs": [],
   "source": [
    "# 14. How is memory managed in Python?"
   ]
  },
  {
   "cell_type": "code",
   "execution_count": 40,
   "id": "77a5e087-e0d4-4d62-b614-b32b33319cae",
   "metadata": {},
   "outputs": [],
   "source": [
    "# In Python, memory management is handled automatically by the Python memory manager. The memory manager is responsible for allocating and deallocating memory to Python objects and data structures."
   ]
  },
  {
   "cell_type": "code",
   "execution_count": 41,
   "id": "81d00420-72d8-41fb-8bd5-f0e30732d8d8",
   "metadata": {},
   "outputs": [],
   "source": [
    "# 15. How to install Python on Windows and set path variables? 16. Is indentation required in python? \n"
   ]
  },
  {
   "cell_type": "code",
   "execution_count": null,
   "id": "45870b5b-ab47-48e7-be7f-a489345c224a",
   "metadata": {},
   "outputs": [],
   "source": []
  }
 ],
 "metadata": {
  "kernelspec": {
   "display_name": "Python 3 (ipykernel)",
   "language": "python",
   "name": "python3"
  },
  "language_info": {
   "codemirror_mode": {
    "name": "ipython",
    "version": 3
   },
   "file_extension": ".py",
   "mimetype": "text/x-python",
   "name": "python",
   "nbconvert_exporter": "python",
   "pygments_lexer": "ipython3",
   "version": "3.10.8"
  }
 },
 "nbformat": 4,
 "nbformat_minor": 5
}
