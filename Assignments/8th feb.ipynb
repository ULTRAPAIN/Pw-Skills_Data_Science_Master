{
 "cells": [
  {
   "cell_type": "markdown",
   "id": "b34ec55d-1421-419f-aa6e-ac802b36a906",
   "metadata": {},
   "source": [
    "Q1. What is Abstraction in OOps? Explain with an example."
   ]
  },
  {
   "cell_type": "markdown",
   "id": "3840a557-ff29-4e89-9f3b-d096531544ba",
   "metadata": {},
   "source": [
    "abstraction is one of the key concepts of Object-Oriented Programming (OOPs) that refers to the ability to hide complex implementation details of a system from the user and provide a simplified interface to interact with it. In other words, it allows you to focus on what the object does, rather than how it does it."
   ]
  },
  {
   "cell_type": "code",
   "execution_count": 1,
   "id": "3c9fae42-5eb7-49d0-90c1-6d0b9227943f",
   "metadata": {},
   "outputs": [],
   "source": [
    "import abc\n",
    "class python:\n",
    "    \n",
    "    @abc.abstractmethod\n",
    "    def students_details(self):\n",
    "        pass\n",
    "    @abc.abstractmethod\n",
    "    def student_assignment(self):\n",
    "        pass\n",
    "    @abc.abstractmethod\n",
    "    def student_marks(self):\n",
    "        pass"
   ]
  },
  {
   "cell_type": "markdown",
   "id": "a1137f83-0455-43cb-bb30-1f0d95b32099",
   "metadata": {},
   "source": [
    "Q2. Differentiate between Abstraction and Encapsulation. Explain with an example."
   ]
  },
  {
   "cell_type": "markdown",
   "id": "ef4d0083-72f8-49c4-a410-36069b19c9e6",
   "metadata": {},
   "source": [
    "Abstraction and Encapsulation are two important concepts in Object-Oriented Programming (OOPs) that are often used interchangeably, but they are distinct from each other.\n",
    "\n",
    "Abstraction refers to the ability to hide implementation details of a system from the user and provide a simplified interface to interact with it. It allows you to focus on what the object does, rather than how it does it. Abstraction is achieved in OOPs through the use of abstract classes, interfaces, and inheritance.\n",
    "\n",
    "Encapsulation, on the other hand, is the practice of bundling data and methods that operate on that data within a single unit, i.e., a class. It provides data hiding and protects the internal state of an object from outside interference. Encapsulation is achieved in OOPs by making the variables of a class private and providing public methods to access and modify them.\n",
    "\n",
    "Example of Abstraction:\n",
    "Consider a car as an example. As a driver, you only need to know how to operate the car, such as accelerating, braking, and steering. You do not need to know the details of how the engine works or how the transmission shifts gears. The car abstracts away the complexities of its internal components, providing a simplified interface for the driver to interact with.\n",
    "\n",
    "Example of Encapsulation:\n",
    "Consider a bank account as an example. The balance of a bank account is sensitive information and should not be accessible to anyone who does not have authorization. To achieve encapsulation, the variables that represent the balance of the account are made private, and public methods such as deposit and withdraw are provided to modify the balance. This way, the internal state of the account is protected from outside interference, ensuring data integrity and security."
   ]
  },
  {
   "cell_type": "markdown",
   "id": "01525490-853c-4022-a065-2cb8d68b6cb2",
   "metadata": {},
   "source": [
    "What is abc module in python? Why is it used?"
   ]
  },
  {
   "cell_type": "markdown",
   "id": "bc2e89b4-32f3-40cc-8446-31c78f5cd854",
   "metadata": {},
   "source": [
    "The abc (Abstract Base Class) module in Python is a module that provides a way to define abstract classes. An abstract class is a class that cannot be instantiated directly and is used as a blueprint for other classes. It defines a set of methods that must be implemented by its derived classes.\n",
    "\n",
    "The abc module is used to create abstract classes and enforce the implementation of certain methods by its derived classes. It allows you to define a template for classes that share a common set of methods or attributes, without specifying their implementation."
   ]
  },
  {
   "cell_type": "markdown",
   "id": "ff3d8522-62d4-40c2-8344-14f513f0cb77",
   "metadata": {},
   "source": [
    "The abc module is used to achieve polymorphism and code reuse in Python. By defining abstract classes, you can create a common interface for a group of related classes, allowing you to write code that works with any object that implements that interface."
   ]
  },
  {
   "cell_type": "markdown",
   "id": "5817c025-5a60-4a55-b195-58c3183fc627",
   "metadata": {},
   "source": [
    "Q4. How can we achieve data abstraction?"
   ]
  },
  {
   "cell_type": "markdown",
   "id": "fec507f1-6876-426e-98a0-f5a550582483",
   "metadata": {},
   "source": [
    "Data abstraction is a technique in which we hide the implementation details of data and provide a simplified interface to work with it. In object-oriented programming (OOPs), data abstraction is achieved by using abstract classes, interfaces, and encapsulation.\n",
    "\n",
    "Here are the steps to achieve data abstraction:\n",
    "\n",
    "Identify the data that needs to be abstracted and the operations that need to be performed on it.\n",
    "\n",
    "Create an abstract class or interface that defines the common set of methods that need to be implemented by its derived classes.\n",
    "\n",
    "Define the abstract methods in the abstract class or interface, which represent the operations that need to be performed on the data.\n",
    "\n",
    "Create one or more concrete classes that implement the abstract methods and provide the implementation details.\n",
    "\n",
    "Encapsulate the data and the methods that operate on it within the concrete classes.\n",
    "\n",
    "Use the abstract class or interface to interact with the data, rather than directly interacting with the concrete classes."
   ]
  },
  {
   "cell_type": "code",
   "execution_count": null,
   "id": "028c1eb4-df46-4cec-839b-bef43cbe9421",
   "metadata": {},
   "outputs": [],
   "source": []
  }
 ],
 "metadata": {
  "kernelspec": {
   "display_name": "Python 3 (ipykernel)",
   "language": "python",
   "name": "python3"
  },
  "language_info": {
   "codemirror_mode": {
    "name": "ipython",
    "version": 3
   },
   "file_extension": ".py",
   "mimetype": "text/x-python",
   "name": "python",
   "nbconvert_exporter": "python",
   "pygments_lexer": "ipython3",
   "version": "3.10.8"
  }
 },
 "nbformat": 4,
 "nbformat_minor": 5
}
