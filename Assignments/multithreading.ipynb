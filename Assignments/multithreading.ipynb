{
 "cells": [
  {
   "cell_type": "code",
   "execution_count": 1,
   "metadata": {},
   "outputs": [
    {
     "data": {
      "text/plain": [
       "'0'"
      ]
     },
     "execution_count": 1,
     "metadata": {},
     "output_type": "execute_result"
    }
   ],
   "source": [
    "s=input()\n",
    "s[0]\n",
    "s[0+1]       "
   ]
  },
  {
   "cell_type": "code",
   "execution_count": 1,
   "metadata": {},
   "outputs": [],
   "source": [
    "import threading\n",
    "import time"
   ]
  },
  {
   "cell_type": "code",
   "execution_count": 8,
   "metadata": {},
   "outputs": [],
   "source": [
    "def test(id):\n",
    "    for i in range(10):\n",
    "        print(\"program %dstarts at %d %s\"%(i,id,time.ctime()))\n",
    "        time.sleep(1)"
   ]
  },
  {
   "cell_type": "code",
   "execution_count": 11,
   "metadata": {},
   "outputs": [
    {
     "name": "stdout",
     "output_type": "stream",
     "text": [
      "program 0starts at 45 Fri Mar 17 17:51:22 2023\n",
      "program 1starts at 45 Fri Mar 17 17:51:23 2023\n",
      "program 2starts at 45 Fri Mar 17 17:51:24 2023\n",
      "program 3starts at 45 Fri Mar 17 17:51:25 2023\n",
      "program 4starts at 45 Fri Mar 17 17:51:26 2023\n",
      "program 5starts at 45 Fri Mar 17 17:51:27 2023\n",
      "program 6starts at 45 Fri Mar 17 17:51:29 2023\n",
      "program 7starts at 45 Fri Mar 17 17:51:30 2023\n",
      "program 8starts at 45 Fri Mar 17 17:51:31 2023\n",
      "program 9starts at 45 Fri Mar 17 17:51:32 2023\n"
     ]
    }
   ],
   "source": [
    "test(45)"
   ]
  },
  {
   "cell_type": "code",
   "execution_count": 14,
   "metadata": {},
   "outputs": [
    {
     "ename": "NameError",
     "evalue": "name 'threading' is not defined",
     "output_type": "error",
     "traceback": [
      "\u001b[1;31m---------------------------------------------------------------------------\u001b[0m",
      "\u001b[1;31mNameError\u001b[0m                                 Traceback (most recent call last)",
      "Cell \u001b[1;32mIn[14], line 1\u001b[0m\n\u001b[1;32m----> 1\u001b[0m thread\u001b[39m=\u001b[39m[threading\u001b[39m.\u001b[39mThread(target\u001b[39m=\u001b[39mtest,args\u001b[39m=\u001b[39m(i,))\u001b[39mfor\u001b[39;00m i \u001b[39min\u001b[39;00m \u001b[39mrange\u001b[39m(\u001b[39m11\u001b[39m)]\n",
      "Cell \u001b[1;32mIn[14], line 1\u001b[0m, in \u001b[0;36m<listcomp>\u001b[1;34m(.0)\u001b[0m\n\u001b[1;32m----> 1\u001b[0m thread\u001b[39m=\u001b[39m[threading\u001b[39m.\u001b[39mThread(target\u001b[39m=\u001b[39mtest,args\u001b[39m=\u001b[39m(i,))\u001b[39mfor\u001b[39;00m i \u001b[39min\u001b[39;00m \u001b[39mrange\u001b[39m(\u001b[39m11\u001b[39m)]\n",
      "\u001b[1;31mNameError\u001b[0m: name 'threading' is not defined"
     ]
    }
   ],
   "source": [
    "thread=[threading.Thread(target=test,args=(i,))for i in range(11)]"
   ]
  },
  {
   "cell_type": "code",
   "execution_count": 10,
   "metadata": {},
   "outputs": [
    {
     "name": "stdout",
     "output_type": "stream",
     "text": [
      "program 0starts at 0 Fri Mar 17 17:50:34 2023\n",
      "program 0starts at 1 Fri Mar 17 17:50:34 2023\n",
      "program 0starts at 2 Fri Mar 17 17:50:34 2023\n",
      "program 0starts at 3 Fri Mar 17 17:50:34 2023\n",
      "program 0starts at 4 Fri Mar 17 17:50:34 2023\n",
      "program 0starts at 5 Fri Mar 17 17:50:34 2023\n",
      "program 0starts at 6 Fri Mar 17 17:50:34 2023\n",
      "program 0starts at 7 Fri Mar 17 17:50:34 2023\n",
      "program 0starts at 8 Fri Mar 17 17:50:34 2023\n",
      "program 0starts at 9 Fri Mar 17 17:50:34 2023\n",
      "program 0starts at 10 Fri Mar 17 17:50:34 2023\n"
     ]
    },
    {
     "name": "stdout",
     "output_type": "stream",
     "text": [
      "program 1starts at 1 Fri Mar 17 17:50:35 2023program 1starts at 0 Fri Mar 17 17:50:35 2023\n",
      "program 1starts at 10 Fri Mar 17 17:50:35 2023\n",
      "program 1starts at 9 Fri Mar 17 17:50:35 2023\n",
      "program 1starts at 7 Fri Mar 17 17:50:35 2023\n",
      "program 1starts at 8 Fri Mar 17 17:50:35 2023\n",
      "program 1starts at 4 Fri Mar 17 17:50:35 2023\n",
      "program 1starts at 6 Fri Mar 17 17:50:35 2023\n",
      "program 1starts at 5 Fri Mar 17 17:50:35 2023\n",
      "program 1starts at 3 Fri Mar 17 17:50:35 2023\n",
      "program 1starts at 2 Fri Mar 17 17:50:35 2023\n",
      "\n",
      "program 2starts at 5 Fri Mar 17 17:50:36 2023\n",
      "program 2starts at 6 Fri Mar 17 17:50:36 2023\n",
      "program 2starts at 8 Fri Mar 17 17:50:36 2023\n",
      "program 2starts at 1 Fri Mar 17 17:50:36 2023\n",
      "program 2starts at 3 Fri Mar 17 17:50:36 2023\n",
      "program 2starts at 4 Fri Mar 17 17:50:36 2023\n",
      "program 2starts at 9 Fri Mar 17 17:50:36 2023\n",
      "program 2starts at 10 Fri Mar 17 17:50:36 2023\n",
      "program 2starts at 0 Fri Mar 17 17:50:36 2023\n",
      "program 2starts at 7 Fri Mar 17 17:50:36 2023\n",
      "program 2starts at 2 Fri Mar 17 17:50:36 2023\n",
      "program 3starts at 2 Fri Mar 17 17:50:37 2023program 3starts at 9 Fri Mar 17 17:50:37 2023\n",
      "program 3starts at 4 Fri Mar 17 17:50:37 2023\n",
      "program 3starts at 3 Fri Mar 17 17:50:37 2023\n",
      "program 3starts at 1 Fri Mar 17 17:50:37 2023\n",
      "program 3starts at 8 Fri Mar 17 17:50:37 2023\n",
      "program 3starts at 6 Fri Mar 17 17:50:37 2023\n",
      "program 3starts at 5 Fri Mar 17 17:50:37 2023\n",
      "program 3starts at 7 Fri Mar 17 17:50:37 2023\n",
      "\n",
      "program 3starts at 0 Fri Mar 17 17:50:37 2023\n",
      "program 3starts at 10 Fri Mar 17 17:50:37 2023\n",
      "program 4starts at 10 Fri Mar 17 17:50:38 2023program 4starts at 7 Fri Mar 17 17:50:38 2023\n",
      "program 4starts at 0 Fri Mar 17 17:50:38 2023\n",
      "program 4starts at 2 Fri Mar 17 17:50:38 2023\n",
      "program 4starts at 5 Fri Mar 17 17:50:38 2023\n",
      "program 4starts at 6 Fri Mar 17 17:50:38 2023\n",
      "program 4starts at 8 Fri Mar 17 17:50:38 2023\n",
      "program 4starts at 1 Fri Mar 17 17:50:38 2023\n",
      "program 4starts at 3 Fri Mar 17 17:50:38 2023\n",
      "program 4starts at 4 Fri Mar 17 17:50:38 2023\n",
      "program 4starts at 9 Fri Mar 17 17:50:38 2023\n",
      "\n",
      "program 5starts at 10 Fri Mar 17 17:50:39 2023program 5starts at 7 Fri Mar 17 17:50:39 2023\n",
      "program 5starts at 9 Fri Mar 17 17:50:39 2023\n",
      "program 5starts at 3 Fri Mar 17 17:50:39 2023\n",
      "\n",
      "program 5starts at 1 Fri Mar 17 17:50:39 2023\n",
      "program 5starts at 6 Fri Mar 17 17:50:39 2023\n",
      "program 5starts at 8 Fri Mar 17 17:50:39 2023\n",
      "program 5starts at 5 Fri Mar 17 17:50:39 2023\n",
      "program 5starts at 2 Fri Mar 17 17:50:39 2023\n",
      "program 5starts at 0 Fri Mar 17 17:50:39 2023\n",
      "program 5starts at 4 Fri Mar 17 17:50:39 2023\n",
      "program 6starts at 0 Fri Mar 17 17:50:40 2023program 6starts at 8 Fri Mar 17 17:50:40 2023\n",
      "program 6starts at 2 Fri Mar 17 17:50:40 2023\n",
      "program 6starts at 1 Fri Mar 17 17:50:40 2023\n",
      "program 6starts at 10 Fri Mar 17 17:50:40 2023\n",
      "program 6starts at 7 Fri Mar 17 17:50:40 2023\n",
      "program 6starts at 6 Fri Mar 17 17:50:40 2023\n",
      "program 6starts at 3 Fri Mar 17 17:50:40 2023\n",
      "program 6starts at 9 Fri Mar 17 17:50:40 2023\n",
      "program 6starts at 4 Fri Mar 17 17:50:40 2023\n",
      "\n",
      "program 6starts at 5 Fri Mar 17 17:50:40 2023\n",
      "program 7starts at 0 Fri Mar 17 17:50:41 2023program 7starts at 7 Fri Mar 17 17:50:41 2023\n",
      "program 7starts at 5 Fri Mar 17 17:50:41 2023\n",
      "program 7starts at 9 Fri Mar 17 17:50:41 2023\n",
      "program 7starts at 10 Fri Mar 17 17:50:41 2023\n",
      "program 7starts at 1 Fri Mar 17 17:50:41 2023\n",
      "program 7starts at 2 Fri Mar 17 17:50:41 2023\n",
      "program 7starts at 8 Fri Mar 17 17:50:41 2023\n",
      "program 7starts at 4 Fri Mar 17 17:50:41 2023\n",
      "\n",
      "program 7starts at 3 Fri Mar 17 17:50:41 2023\n",
      "program 7starts at 6 Fri Mar 17 17:50:41 2023\n",
      "program 8starts at 4 Fri Mar 17 17:50:42 2023\n",
      "program 8starts at 6 Fri Mar 17 17:50:42 2023\n",
      "program 8starts at 1 Fri Mar 17 17:50:42 2023\n",
      "program 8starts at 7 Fri Mar 17 17:50:42 2023\n",
      "program 8starts at 3 Fri Mar 17 17:50:42 2023\n",
      "program 8starts at 0 Fri Mar 17 17:50:42 2023\n",
      "program 8starts at 2 Fri Mar 17 17:50:42 2023\n",
      "program 8starts at 9 Fri Mar 17 17:50:42 2023\n",
      "program 8starts at 10 Fri Mar 17 17:50:42 2023\n",
      "program 8starts at 5 Fri Mar 17 17:50:42 2023\n",
      "program 8starts at 8 Fri Mar 17 17:50:42 2023\n",
      "program 9starts at 10 Fri Mar 17 17:50:43 2023program 9starts at 5 Fri Mar 17 17:50:43 2023\n",
      "program 9starts at 8 Fri Mar 17 17:50:43 2023\n",
      "program 9starts at 9 Fri Mar 17 17:50:43 2023\n",
      "program 9starts at 2 Fri Mar 17 17:50:43 2023\n",
      "\n",
      "program 9starts at 0 Fri Mar 17 17:50:43 2023\n",
      "program 9starts at 3 Fri Mar 17 17:50:43 2023\n",
      "program 9starts at 1 Fri Mar 17 17:50:43 2023\n",
      "program 9starts at 6 Fri Mar 17 17:50:43 2023\n",
      "program 9starts at 4 Fri Mar 17 17:50:43 2023\n",
      "program 9starts at 7 Fri Mar 17 17:50:43 2023\n"
     ]
    }
   ],
   "source": [
    "for  t in thread:\n",
    "    t.start()"
   ]
  },
  {
   "cell_type": "code",
   "execution_count": 12,
   "metadata": {},
   "outputs": [
    {
     "data": {
      "text/plain": [
       "[<Thread(Thread-3 (test), stopped 13360)>,\n",
       " <Thread(Thread-4 (test), stopped 13524)>,\n",
       " <Thread(Thread-5 (test), stopped 9528)>,\n",
       " <Thread(Thread-6 (test), stopped 17224)>,\n",
       " <Thread(Thread-7 (test), stopped 6556)>,\n",
       " <Thread(Thread-8 (test), stopped 23924)>,\n",
       " <Thread(Thread-9 (test), stopped 21424)>,\n",
       " <Thread(Thread-10 (test), stopped 8336)>,\n",
       " <Thread(Thread-11 (test), stopped 12856)>,\n",
       " <Thread(Thread-12 (test), stopped 2396)>,\n",
       " <Thread(Thread-13 (test), stopped 23824)>]"
      ]
     },
     "execution_count": 12,
     "metadata": {},
     "output_type": "execute_result"
    }
   ],
   "source": [
    "thread"
   ]
  },
  {
   "cell_type": "code",
   "execution_count": 19,
   "metadata": {},
   "outputs": [],
   "source": [
    "import threading\n",
    "shared_var=0\n",
    "lock_var=threading.Lock()\n"
   ]
  },
  {
   "cell_type": "code",
   "execution_count": 20,
   "metadata": {},
   "outputs": [],
   "source": [
    "def test2(id):\n",
    "    global shared_var\n",
    "    with lock_var:\n",
    "        shared_var=shared_var+1\n",
    "        print(\"test2 id is %d has increased the shared variable by %d \"%(id,shared_var))\n",
    "        "
   ]
  },
  {
   "cell_type": "code",
   "execution_count": 21,
   "metadata": {},
   "outputs": [],
   "source": [
    "ther3=[threading.Thread(target=test2,args=(id,))for i in range(3)]"
   ]
  },
  {
   "cell_type": "code",
   "execution_count": 22,
   "metadata": {},
   "outputs": [
    {
     "data": {
      "text/plain": [
       "[<Thread(Thread-3 (test2), initial)>,\n",
       " <Thread(Thread-4 (test2), initial)>,\n",
       " <Thread(Thread-5 (test2), initial)>]"
      ]
     },
     "execution_count": 22,
     "metadata": {},
     "output_type": "execute_result"
    }
   ],
   "source": [
    "ther3"
   ]
  },
  {
   "cell_type": "code",
   "execution_count": 23,
   "metadata": {},
   "outputs": [
    {
     "name": "stderr",
     "output_type": "stream",
     "text": [
      "Exception in thread Exception in thread Thread-4 (test2):\n",
      "Thread-3 (test2):\n",
      "Traceback (most recent call last):\n",
      "  File \"C:\\Program Files\\WindowsApps\\PythonSoftwareFoundation.Python.3.10_3.10.2800.0_x64__qbz5n2kfra8p0\\lib\\threading.py\", line 1016, in _bootstrap_inner\n",
      "Traceback (most recent call last):\n",
      "  File \"C:\\Program Files\\WindowsApps\\PythonSoftwareFoundation.Python.3.10_3.10.2800.0_x64__qbz5n2kfra8p0\\lib\\threading.py\", line 1016, in _bootstrap_inner\n",
      "Exception in thread Thread-5 (test2):\n",
      "Traceback (most recent call last):\n",
      "  File \"C:\\Program Files\\WindowsApps\\PythonSoftwareFoundation.Python.3.10_3.10.2800.0_x64__qbz5n2kfra8p0\\lib\\threading.py\", line 1016, in _bootstrap_inner\n",
      "    self.run()\n",
      "  File \"C:\\Program Files\\WindowsApps\\PythonSoftwareFoundation.Python.3.10_3.10.2800.0_x64__qbz5n2kfra8p0\\lib\\threading.py\", line 953, in run\n",
      "    self.run()\n",
      "  File \"C:\\Program Files\\WindowsApps\\PythonSoftwareFoundation.Python.3.10_3.10.2800.0_x64__qbz5n2kfra8p0\\lib\\threading.py\", line 953, in run\n",
      "    self._target(*self._args, **self._kwargs)\n",
      "  File \"C:\\Users\\Dashrath\\AppData\\Local\\Temp\\ipykernel_8956\\2327172252.py\", line 5, in test2\n",
      "    self.run()\n",
      "  File \"C:\\Program Files\\WindowsApps\\PythonSoftwareFoundation.Python.3.10_3.10.2800.0_x64__qbz5n2kfra8p0\\lib\\threading.py\", line 953, in run\n",
      "    self._target(*self._args, **self._kwargs)\n",
      "  File \"C:\\Users\\Dashrath\\AppData\\Local\\Temp\\ipykernel_8956\\2327172252.py\", line 5, in test2\n",
      "    self._target(*self._args, **self._kwargs)\n",
      "  File \"C:\\Users\\Dashrath\\AppData\\Local\\Temp\\ipykernel_8956\\2327172252.py\", line 5, in test2\n",
      "TypeError: %d format: a real number is required, not builtin_function_or_method\n",
      "TypeError: %d format: a real number is required, not builtin_function_or_method\n",
      "TypeError: %d format: a real number is required, not builtin_function_or_method\n"
     ]
    }
   ],
   "source": [
    "for t in ther3:\n",
    "    t.start()"
   ]
  },
  {
   "cell_type": "code",
   "execution_count": 24,
   "metadata": {},
   "outputs": [
    {
     "name": "stdout",
     "output_type": "stream",
     "text": [
      "test2 id is 0 has increased the shared variable by 4 \n"
     ]
    }
   ],
   "source": [
    "test2(0)"
   ]
  },
  {
   "cell_type": "code",
   "execution_count": null,
   "metadata": {},
   "outputs": [],
   "source": []
  }
 ],
 "metadata": {
  "kernelspec": {
   "display_name": "Python 3",
   "language": "python",
   "name": "python3"
  },
  "language_info": {
   "codemirror_mode": {
    "name": "ipython",
    "version": 3
   },
   "file_extension": ".py",
   "mimetype": "text/x-python",
   "name": "python",
   "nbconvert_exporter": "python",
   "pygments_lexer": "ipython3",
   "version": "3.10.10"
  },
  "orig_nbformat": 4
 },
 "nbformat": 4,
 "nbformat_minor": 2
}
