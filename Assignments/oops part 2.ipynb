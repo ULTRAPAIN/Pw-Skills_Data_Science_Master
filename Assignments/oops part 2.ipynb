{
 "cells": [
  {
   "cell_type": "code",
   "execution_count": 10,
   "id": "30e58377-85ca-4e2b-aa54-212913d2ad2c",
   "metadata": {},
   "outputs": [],
   "source": [
    "#Polymorphism"
   ]
  },
  {
   "cell_type": "code",
   "execution_count": 11,
   "id": "5bd1d659-359b-4e49-8f51-7ed6bb55830d",
   "metadata": {},
   "outputs": [],
   "source": [
    "class car:\n",
    "    def __init__(self,car_name,model):\n",
    "        self.name=car_name\n",
    "        self.model=model\n",
    "    def display(self):\n",
    "        return self.name ,self.model\n",
    "    \n",
    "class price:\n",
    "    def __init__(self , Price):\n",
    "        self.price=Price\n",
    "    def display(self):\n",
    "        return self.price\n"
   ]
  },
  {
   "cell_type": "code",
   "execution_count": 20,
   "id": "7c5a4f5c-4414-4064-a1e0-7fdab00102fd",
   "metadata": {},
   "outputs": [
    {
     "name": "stdout",
     "output_type": "stream",
     "text": [
      "[<__main__.car object at 0x7f921c5f6170>, <__main__.price object at 0x7f921c5f63e0>]\n"
     ]
    }
   ],
   "source": [
    "car_obj=car(\"Toyota\",\"Land Cruiser\")\n",
    "carprice_obj=price(\"2.10cr\")\n",
    "l=[car_obj,carprice_obj]\n",
    "print(l)"
   ]
  },
  {
   "cell_type": "code",
   "execution_count": 21,
   "id": "64cde488-17c9-4892-9f15-c5680cba7c06",
   "metadata": {},
   "outputs": [
    {
     "name": "stdout",
     "output_type": "stream",
     "text": [
      "('Toyota', 'Land Cruiser')\n",
      "2.10cr\n"
     ]
    }
   ],
   "source": [
    "for i in l:\n",
    "    print(i.display())"
   ]
  },
  {
   "cell_type": "code",
   "execution_count": 22,
   "id": "de1225ac-fc90-43c3-b6bf-2c5fc59a79dd",
   "metadata": {},
   "outputs": [],
   "source": [
    "#Encapsulation"
   ]
  },
  {
   "cell_type": "code",
   "execution_count": 23,
   "id": "a07b2d65-87c0-45a8-b069-b0bd32b46959",
   "metadata": {},
   "outputs": [],
   "source": [
    "class car1:\n",
    "    def __init__(self,car_name,make,model,speed):\n",
    "        self.__name=car_name\n",
    "        self.__make=make\n",
    "        self.__model=model\n",
    "        self.__speed=0\n",
    "    \n",
    "    def set_speed(self,speed):\n",
    "        self.__speed=0 if speed<0 else speed\n",
    "    \n",
    "    def get_speed(self):\n",
    "        return self.__speed\n",
    "    "
   ]
  },
  {
   "cell_type": "code",
   "execution_count": 24,
   "id": "c5ef9834-898b-42be-be0a-6987608c4ec6",
   "metadata": {},
   "outputs": [],
   "source": [
    "car_obj=car1(\"land cruiser\",\"Toyota\",2022,-1)"
   ]
  },
  {
   "cell_type": "code",
   "execution_count": 25,
   "id": "8b774b6b-9d3b-4258-926a-2ec27c2ab95a",
   "metadata": {},
   "outputs": [
    {
     "data": {
      "text/plain": [
       "0"
      ]
     },
     "execution_count": 25,
     "metadata": {},
     "output_type": "execute_result"
    }
   ],
   "source": [
    "car_obj.get_speed()"
   ]
  },
  {
   "cell_type": "code",
   "execution_count": 26,
   "id": "9d1dae0f-c401-4560-b900-092fe89b26fc",
   "metadata": {},
   "outputs": [],
   "source": [
    "car_obj._car1__speed=234"
   ]
  },
  {
   "cell_type": "code",
   "execution_count": 27,
   "id": "8327a451-5635-4674-bcc7-b4a22abec883",
   "metadata": {},
   "outputs": [
    {
     "data": {
      "text/plain": [
       "234"
      ]
     },
     "execution_count": 27,
     "metadata": {},
     "output_type": "execute_result"
    }
   ],
   "source": [
    "car_obj.get_speed()"
   ]
  },
  {
   "cell_type": "code",
   "execution_count": 29,
   "id": "eefd5505-970d-4d5f-a280-3d23dfd1f9eb",
   "metadata": {},
   "outputs": [],
   "source": [
    "car_obj.set_speed(350)"
   ]
  },
  {
   "cell_type": "code",
   "execution_count": 30,
   "id": "aeb7d2fd-e2ad-43ba-b52c-8874fcd6a611",
   "metadata": {},
   "outputs": [
    {
     "data": {
      "text/plain": [
       "350"
      ]
     },
     "execution_count": 30,
     "metadata": {},
     "output_type": "execute_result"
    }
   ],
   "source": [
    "car_obj.get_speed()"
   ]
  },
  {
   "cell_type": "code",
   "execution_count": 31,
   "id": "7f4bb6ac-8a27-46bc-94a7-f7a8c5af3b34",
   "metadata": {},
   "outputs": [],
   "source": [
    "#this is encapsulation."
   ]
  },
  {
   "cell_type": "code",
   "execution_count": 39,
   "id": "df6b565c-a4b4-415b-9c23-e61d80371ac2",
   "metadata": {},
   "outputs": [],
   "source": [
    "class bank_account:\n",
    "    def __init__(self,balance):\n",
    "        self.__balance = balance\n",
    "         \n",
    "    def deposit (self,amount):\n",
    "        self.__balance = self.__balance + amount\n",
    "    \n",
    "    def withdraw(self,withdraw):\n",
    "        if self.__balance >= withdraw:\n",
    "            self.__balance = self.__balance - withdraw\n",
    "        else:\n",
    "            return print(\"amount is more,less balance present\")\n",
    "        \n",
    "    def get_balance(self):\n",
    "        return self.__balance"
   ]
  },
  {
   "cell_type": "code",
   "execution_count": 40,
   "id": "74915e3f-867d-474d-af88-64a1f9da2269",
   "metadata": {},
   "outputs": [],
   "source": [
    "dassu=bank_account(100000)"
   ]
  },
  {
   "cell_type": "code",
   "execution_count": 41,
   "id": "72f2f6a4-369a-419c-8911-74b8ce2c8b30",
   "metadata": {},
   "outputs": [
    {
     "data": {
      "text/plain": [
       "100000"
      ]
     },
     "execution_count": 41,
     "metadata": {},
     "output_type": "execute_result"
    }
   ],
   "source": [
    "dassu.get_balance()"
   ]
  },
  {
   "cell_type": "code",
   "execution_count": 42,
   "id": "9945069d-6af3-479f-b920-0e1712504537",
   "metadata": {},
   "outputs": [],
   "source": [
    "dassu.deposit(50000)"
   ]
  },
  {
   "cell_type": "code",
   "execution_count": 43,
   "id": "67f18932-0d37-4cf5-9af2-1197118d163f",
   "metadata": {},
   "outputs": [
    {
     "data": {
      "text/plain": [
       "150000"
      ]
     },
     "execution_count": 43,
     "metadata": {},
     "output_type": "execute_result"
    }
   ],
   "source": [
    "dassu.get_balance()"
   ]
  },
  {
   "cell_type": "code",
   "execution_count": 44,
   "id": "099e0d08-af6e-4376-bca9-5badddf7ac67",
   "metadata": {},
   "outputs": [
    {
     "name": "stdout",
     "output_type": "stream",
     "text": [
      "amount is more,less balance present\n"
     ]
    }
   ],
   "source": [
    "dassu.withdraw(200000)"
   ]
  },
  {
   "cell_type": "code",
   "execution_count": 45,
   "id": "7eb6613c-afbd-4775-a23c-a1b1d9f9952f",
   "metadata": {},
   "outputs": [],
   "source": [
    "#inheritance\n"
   ]
  },
  {
   "cell_type": "code",
   "execution_count": 46,
   "id": "63398cc6-b0a7-4246-86fe-e3191a3e7d43",
   "metadata": {},
   "outputs": [],
   "source": [
    "class test:\n",
    "    def test_maths(self):\n",
    "        return \"this is my first class\""
   ]
  },
  {
   "cell_type": "code",
   "execution_count": 47,
   "id": "94446f6f-4a7b-49c0-bf81-4f621b1ec693",
   "metadata": {},
   "outputs": [],
   "source": [
    "class child_test(test):\n",
    "    pass"
   ]
  },
  {
   "cell_type": "code",
   "execution_count": 48,
   "id": "60fdb27d-b789-4144-90b9-bbe772d52905",
   "metadata": {},
   "outputs": [],
   "source": [
    "child_test_obj=child_test()"
   ]
  },
  {
   "cell_type": "code",
   "execution_count": 49,
   "id": "afbf2cb3-cac9-478a-a8b2-4b49f3a9fe3c",
   "metadata": {},
   "outputs": [
    {
     "data": {
      "text/plain": [
       "'this is my first class'"
      ]
     },
     "execution_count": 49,
     "metadata": {},
     "output_type": "execute_result"
    }
   ],
   "source": [
    "child_test_obj.test_maths()"
   ]
  },
  {
   "cell_type": "code",
   "execution_count": 50,
   "id": "b274c963-060b-463a-aac5-63d7f44030bb",
   "metadata": {},
   "outputs": [],
   "source": [
    "#multilevel inheritance"
   ]
  },
  {
   "cell_type": "code",
   "execution_count": 59,
   "id": "776da248-2e43-4686-8e17-ee694485f4ec",
   "metadata": {},
   "outputs": [],
   "source": [
    "class class1:\n",
    "    def test_class1(self):\n",
    "        return \"This is a maths from class1\"\n"
   ]
  },
  {
   "cell_type": "code",
   "execution_count": 61,
   "id": "2f206f80-1f79-4a8a-a262-246cfc2a1f64",
   "metadata": {},
   "outputs": [],
   "source": [
    "class class2(class1):\n",
    "    def test_class2(self):\n",
    "        return \"This is  a Maths from class2\"\n"
   ]
  },
  {
   "cell_type": "code",
   "execution_count": 60,
   "id": "9ec8d57c-4dbb-4958-b924-fa824d1bd3d9",
   "metadata": {},
   "outputs": [],
   "source": [
    "class class3(class2):\n",
    "    def test_class3(self):\n",
    "        return \"This is  a Maths from class3\""
   ]
  },
  {
   "cell_type": "code",
   "execution_count": 54,
   "id": "bc675043-ead4-46b2-875b-b2c3476a3597",
   "metadata": {},
   "outputs": [],
   "source": [
    "class_obj3=class3()"
   ]
  },
  {
   "cell_type": "code",
   "execution_count": 55,
   "id": "87698335-4a34-47ef-b087-7b9b3b0ac3db",
   "metadata": {},
   "outputs": [
    {
     "data": {
      "text/plain": [
       "'This is a maths from class1'"
      ]
     },
     "execution_count": 55,
     "metadata": {},
     "output_type": "execute_result"
    }
   ],
   "source": [
    "class_obj3.test_class1()"
   ]
  },
  {
   "cell_type": "code",
   "execution_count": 56,
   "id": "b50449e3-a4ef-48cc-8e01-17f9e3968776",
   "metadata": {},
   "outputs": [
    {
     "data": {
      "text/plain": [
       "'This is  a Maths from class2'"
      ]
     },
     "execution_count": 56,
     "metadata": {},
     "output_type": "execute_result"
    }
   ],
   "source": [
    "class_obj3.test_class2()"
   ]
  },
  {
   "cell_type": "code",
   "execution_count": 65,
   "id": "15839e59-e06a-423f-94ef-d2fe12e715a7",
   "metadata": {},
   "outputs": [],
   "source": [
    "#multiple inheritance\n",
    "class class5:\n",
    "    def test_class5(self):\n",
    "        return \"This is a Maths from class5\""
   ]
  },
  {
   "cell_type": "code",
   "execution_count": 66,
   "id": "6ed77083-26f2-4427-8a3e-37cec227e196",
   "metadata": {},
   "outputs": [],
   "source": [
    "class class4(class1,class5):\n",
    "    pass"
   ]
  },
  {
   "cell_type": "code",
   "execution_count": 68,
   "id": "2a8144ec-b047-4bb7-afb6-0863f3eddcfd",
   "metadata": {},
   "outputs": [],
   "source": [
    "class_obj4=class4()"
   ]
  },
  {
   "cell_type": "code",
   "execution_count": 70,
   "id": "13376919-96f9-493c-b1e8-175a5cbbd9f2",
   "metadata": {},
   "outputs": [
    {
     "data": {
      "text/plain": [
       "'This is a Maths from class5'"
      ]
     },
     "execution_count": 70,
     "metadata": {},
     "output_type": "execute_result"
    }
   ],
   "source": [
    "class_obj4.test_class5()"
   ]
  },
  {
   "cell_type": "code",
   "execution_count": 71,
   "id": "3be5b4a9-598d-4c82-8f48-1f057a33ad08",
   "metadata": {},
   "outputs": [],
   "source": [
    "#abstraction"
   ]
  },
  {
   "cell_type": "code",
   "execution_count": 74,
   "id": "6fed916c-b518-4d11-8202-e9b9676512e8",
   "metadata": {},
   "outputs": [],
   "source": [
    "import abc\n",
    "class python:\n",
    "    \n",
    "    @abc.abstractmethod\n",
    "    def students_details(self):\n",
    "        pass\n",
    "    @abc.abstractmethod\n",
    "    def student_assignment(self):\n",
    "        pass\n",
    "    @abc.abstractmethod\n",
    "    def student_marks(self):\n",
    "        pass"
   ]
  },
  {
   "cell_type": "code",
   "execution_count": 75,
   "id": "d484f7ed-dbd9-42ac-a04f-6f420ceea505",
   "metadata": {},
   "outputs": [],
   "source": [
    "class student_details(python):\n",
    "    def students_details(self):\n",
    "        return \"This is a Maths for taking student details\"\n",
    "    \n",
    "    def student_marks(self):\n",
    "           return \"this is a maths for assigning details for a particular student\"\n",
    "    "
   ]
  },
  {
   "cell_type": "code",
   "execution_count": null,
   "id": "54efcc42-6868-49f4-a045-eeaa91de8dd9",
   "metadata": {},
   "outputs": [],
   "source": [
    "class data_science_masters(python):\n",
    "    def studnents_details(self):\n",
    "        return \"this will return student detaisl for dta science masters\"\n",
    "    def student_assignment(self):\n",
    "        return \"This will give you a student assignment detailed for data  science masters\""
   ]
  },
  {
   "cell_type": "code",
   "execution_count": null,
   "id": "1e4edada-02dd-40ee-881e-f45ce2d296b1",
   "metadata": {},
   "outputs": [],
   "source": []
  }
 ],
 "metadata": {
  "kernelspec": {
   "display_name": "Python 3 (ipykernel)",
   "language": "python",
   "name": "python3"
  },
  "language_info": {
   "codemirror_mode": {
    "name": "ipython",
    "version": 3
   },
   "file_extension": ".py",
   "mimetype": "text/x-python",
   "name": "python",
   "nbconvert_exporter": "python",
   "pygments_lexer": "ipython3",
   "version": "3.10.8"
  }
 },
 "nbformat": 4,
 "nbformat_minor": 5
}
