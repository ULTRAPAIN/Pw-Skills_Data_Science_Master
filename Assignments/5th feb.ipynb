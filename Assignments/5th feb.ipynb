{
 "cells": [
  {
   "cell_type": "markdown",
   "id": "5fb238ef-c1a4-49f1-b612-9e3835bcf60d",
   "metadata": {},
   "source": [
    "Q1. Explain Class and Object with respect to Object-Oriented Programming. Give a suitable example."
   ]
  },
  {
   "cell_type": "markdown",
   "id": "abb522e5-dde2-44cd-980f-577fc6639c63",
   "metadata": {},
   "source": [
    "class is the blueprint representation of objects , it contains methods properties and bheviours.\n",
    "object is an real world entity that belongs to some built in class or user defined class.\n",
    "EXAMPLE GIVEN BELOW\n"
   ]
  },
  {
   "cell_type": "code",
   "execution_count": 1,
   "id": "f8671d92-4de5-44ce-a38c-1bb71fe924f6",
   "metadata": {},
   "outputs": [],
   "source": [
    "class dassu:\n",
    "    pass\n"
   ]
  },
  {
   "cell_type": "code",
   "execution_count": 2,
   "id": "332fa681-a0a9-4150-af4c-341b9f6cc711",
   "metadata": {},
   "outputs": [],
   "source": [
    "yo=dassu()"
   ]
  },
  {
   "cell_type": "code",
   "execution_count": 3,
   "id": "353019f2-4c86-4cc1-b848-c22861bcac73",
   "metadata": {},
   "outputs": [
    {
     "name": "stdout",
     "output_type": "stream",
     "text": [
      "<class '__main__.dassu'>\n"
     ]
    }
   ],
   "source": [
    "print(type(yo))"
   ]
  },
  {
   "cell_type": "markdown",
   "id": "b6415bbd-927f-44f4-9674-dba9af069ea5",
   "metadata": {},
   "source": [
    "Q2. Name the four pillars of OOPs."
   ]
  },
  {
   "cell_type": "markdown",
   "id": "bd62e9a4-ca3a-4894-9fb6-ba608e23cd8b",
   "metadata": {},
   "source": [
    "four pillars of oops: -\n",
    "1>ABSTRACTION\n",
    "2>ENCAPSULATION\n",
    "3>POLYMORPHISM\n",
    "4>INHERITANCE"
   ]
  },
  {
   "cell_type": "markdown",
   "id": "4c13d712-6f56-43d6-b399-7d8e1ec0cc3d",
   "metadata": {},
   "source": [
    "Q3. Explain why the __init__() function is used. Give a suitable example."
   ]
  },
  {
   "cell_type": "markdown",
   "id": "c1b37023-ea58-4d6f-8d08-66cf1da35d6a",
   "metadata": {},
   "source": [
    "INIT FUNCTION IS USED FOR TAKING VALUES FROMM THE USER FROM AN OBJECT AND PASS IT TO THE CLASS."
   ]
  },
  {
   "cell_type": "code",
   "execution_count": 4,
   "id": "2b7121ea-91c1-449d-863d-eac1eaee6358",
   "metadata": {},
   "outputs": [],
   "source": [
    "class init:\n",
    "    def __init__(self,Name,age):\n",
    "        self.Naam=Name\n",
    "        self.umar=age\n",
    "    def display(self):\n",
    "        return self.Naam ,self.umar"
   ]
  },
  {
   "cell_type": "code",
   "execution_count": 5,
   "id": "0f7af88c-6b8b-4600-919c-f1b9ff8fd794",
   "metadata": {},
   "outputs": [
    {
     "name": "stdout",
     "output_type": "stream",
     "text": [
      "<class '__main__.init'>\n"
     ]
    }
   ],
   "source": [
    "dasu=init(\"Dashrath\",19)\n",
    "print(type(dasu))"
   ]
  },
  {
   "cell_type": "code",
   "execution_count": 6,
   "id": "83baaa59-5b34-4016-bfcd-bb51d273b5c2",
   "metadata": {},
   "outputs": [
    {
     "data": {
      "text/plain": [
       "('Dashrath', 19)"
      ]
     },
     "execution_count": 6,
     "metadata": {},
     "output_type": "execute_result"
    }
   ],
   "source": [
    "dasu.display()"
   ]
  },
  {
   "cell_type": "markdown",
   "id": "a146c56e-ed48-4656-87c9-c8420f9e6837",
   "metadata": {},
   "source": [
    "Q4. Why self is used in OOPs?"
   ]
  },
  {
   "cell_type": "markdown",
   "id": "79736706-6a6b-42ac-9a8d-9ab7a5e70897",
   "metadata": {},
   "source": [
    "SELF is not a reserved keyword , basically it means that any datavalue is pass to th function then this data should be stored inside that class and it acts like a pointer.IT shows to the point toward that class where that function is present"
   ]
  },
  {
   "cell_type": "markdown",
   "id": "b493f4f6-4558-4ffb-bcae-61579755f00e",
   "metadata": {},
   "source": [
    "Q5. What is inheritance? Give an example for each type of inheritance."
   ]
  },
  {
   "cell_type": "markdown",
   "id": "88ef60d0-9a6b-4b90-bb5f-6eac86c6dc96",
   "metadata": {},
   "source": [
    "Inheritance is a fundamental feature of object-oriented programming (OOP) that allows a new class (called the \"subclass\" or \"derived class\") to be based on an existing class (called the \"superclass\" or \"base class\"). In other words, the subclass inherits the properties and behaviors of the superclass, and can also add its own properties and behaviors or modify the ones inherited from the superclass."
   ]
  },
  {
   "cell_type": "markdown",
   "id": "ac4d6c07-1203-4e68-b683-dd1062378997",
   "metadata": {},
   "source": [
    "Single Inheritance: In single inheritance, a subclass inherits the properties and methods of only one superclass."
   ]
  },
  {
   "cell_type": "code",
   "execution_count": 19,
   "id": "8844fef3-026f-4b30-bd7e-e786897d3889",
   "metadata": {},
   "outputs": [],
   "source": [
    "class Animal:\n",
    "    def __init__(self, name, species):\n",
    "        self.name = name\n",
    "        self.species = species\n",
    "        \n",
    "    def eat(self):\n",
    "        print(\"The animal is eating.\")\n",
    "    def display(self):\n",
    "        return self.name ,self.species\n",
    "        \n",
    "class Dog(Animal):\n",
    "    def bark(self):\n",
    "        print(\"Woof!\")"
   ]
  },
  {
   "cell_type": "code",
   "execution_count": 20,
   "id": "0a13a8e2-3e52-415a-af20-8403c7e38f50",
   "metadata": {},
   "outputs": [],
   "source": [
    "Name=Dog(\"tiger\",\"cat\")"
   ]
  },
  {
   "cell_type": "code",
   "execution_count": 21,
   "id": "71de70f7-79b8-4469-b668-ed3a975ca0b2",
   "metadata": {},
   "outputs": [
    {
     "name": "stdout",
     "output_type": "stream",
     "text": [
      "Woof!\n",
      "The animal is eating.\n"
     ]
    },
    {
     "data": {
      "text/plain": [
       "('tiger', 'cat')"
      ]
     },
     "execution_count": 21,
     "metadata": {},
     "output_type": "execute_result"
    }
   ],
   "source": [
    "Name.bark()\n",
    "Name.eat()\n",
    "Name.display()\n",
    "# this is example of single inheritance."
   ]
  },
  {
   "cell_type": "markdown",
   "id": "01df8ba3-d8ee-4d35-b5dc-81fe2e986d21",
   "metadata": {},
   "source": [
    "Multiple Inheritance: In multiple inheritance, a subclass inherits the properties and methods of multiple superclasses."
   ]
  },
  {
   "cell_type": "code",
   "execution_count": 88,
   "id": "d0cd1369-688e-4ab7-8b8d-3ba273ef3b7d",
   "metadata": {},
   "outputs": [],
   "source": [
    "class model:\n",
    "    def __init__ (self,car_model,series):\n",
    "        self.konsamodel=car_model\n",
    "        self.konsaseries=series\n",
    "        \n",
    "    \n",
    "class specifications():\n",
    "    def __init__(self,mileage,petrol_diesel):\n",
    "        self.mileage=mileage\n",
    "        self.petdie=petrol_diesel\n",
    "        \n",
    "class car(model,specifications):\n",
    "    def __init__(self,name,price):\n",
    "        self.name=name\n",
    "        self.price=price\n",
    "    def display(self):\n",
    "        return self.name, self.price"
   ]
  },
  {
   "cell_type": "code",
   "execution_count": 89,
   "id": "82dd8763-7c2d-4cee-9818-a9e679407769",
   "metadata": {},
   "outputs": [],
   "source": [
    "car=car(\"landcruiser\",\"2.10cr\")"
   ]
  },
  {
   "cell_type": "code",
   "execution_count": 77,
   "id": "6ef74f1d-3e12-4054-8a58-4fae744fd367",
   "metadata": {},
   "outputs": [],
   "source": [
    "car1=model(\"xy\",\"y\")"
   ]
  },
  {
   "cell_type": "code",
   "execution_count": 84,
   "id": "84266f66-9541-413c-bdda-a7e02dc44476",
   "metadata": {},
   "outputs": [],
   "source": [
    "car2=specifications(500000,\"25km/litre\")"
   ]
  },
  {
   "cell_type": "code",
   "execution_count": 90,
   "id": "79ec9b2b-7247-4e80-849e-bce592b85c4a",
   "metadata": {},
   "outputs": [
    {
     "data": {
      "text/plain": [
       "('landcruiser', '2.10cr')"
      ]
     },
     "execution_count": 90,
     "metadata": {},
     "output_type": "execute_result"
    }
   ],
   "source": [
    "car.display()"
   ]
  },
  {
   "cell_type": "markdown",
   "id": "c41b1723-edee-466f-904a-8ff082254dc2",
   "metadata": {},
   "source": [
    "Multi-level Inheritance: In multi-level inheritance, a subclass inherits from a superclass, which itself inherits from another superclass."
   ]
  },
  {
   "cell_type": "code",
   "execution_count": 91,
   "id": "758b93a4-aeed-45ed-b418-9feac0c8d051",
   "metadata": {},
   "outputs": [],
   "source": [
    "class Animal:\n",
    "    def __init__(self, name, species):\n",
    "        self.name = name\n",
    "        self.species = species\n",
    "        \n",
    "    def eat(self):\n",
    "        print(\"The animal is eating.\")\n",
    "        \n",
    "class Mammal(Animal):\n",
    "    def give_birth(self):\n",
    "        print(\"The mammal is giving birth.\")\n",
    "        \n",
    "class Dog(Mammal):\n",
    "    def bark(self):\n",
    "        print(\"Woof!\")\n"
   ]
  },
  {
   "cell_type": "markdown",
   "id": "ce014966-3daa-445d-8162-20786ed87f1c",
   "metadata": {},
   "source": [
    "Hierarchical Inheritance: In hierarchical inheritance, multiple subclasses inherit from a single superclass."
   ]
  },
  {
   "cell_type": "code",
   "execution_count": null,
   "id": "7566cab3-0e30-4585-a254-9d82dea23c18",
   "metadata": {},
   "outputs": [],
   "source": [
    "class Animal:\n",
    "    def __init__(self, name, species):\n",
    "        self.name = name\n",
    "        self.species = species\n",
    "        \n",
    "    def eat(self):\n",
    "        print(\"The animal is eating.\")\n",
    "        \n",
    "class Cat(Animal):\n",
    "    def meow(self):\n",
    "        print(\"Meow!\")\n",
    "        \n",
    "class Dog(Animal):\n",
    "    def bark(self):\n",
    "        print(\"Woof!\")\n"
   ]
  }
 ],
 "metadata": {
  "kernelspec": {
   "display_name": "Python 3 (ipykernel)",
   "language": "python",
   "name": "python3"
  },
  "language_info": {
   "codemirror_mode": {
    "name": "ipython",
    "version": 3
   },
   "file_extension": ".py",
   "mimetype": "text/x-python",
   "name": "python",
   "nbconvert_exporter": "python",
   "pygments_lexer": "ipython3",
   "version": "3.10.8"
  }
 },
 "nbformat": 4,
 "nbformat_minor": 5
}
