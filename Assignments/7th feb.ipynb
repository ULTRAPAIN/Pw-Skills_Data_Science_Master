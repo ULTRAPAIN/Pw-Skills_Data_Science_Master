{
 "cells": [
  {
   "cell_type": "markdown",
   "id": "5f4d531e-f585-456a-b25e-a43473692fd0",
   "metadata": {},
   "source": [
    "Q1. You are writing code for a company. The requirement of the company is that you create a python\n",
    "function that will check whether the password entered by the user is correct or not. The function should\n",
    "take the password as input and return the string “Valid Password” if the entered password follows the\n",
    "below-given password guidelines else it should return “Invalid Password”.\n",
    "Note: 1. The Password should contain at least two uppercase letters and at least two lowercase letters.\n",
    "2. The Password should contain at least a number and three special characters.\n",
    "3. The length of the password should be 10 characters long."
   ]
  },
  {
   "cell_type": "code",
   "execution_count": 2,
   "id": "963787bc-29fa-4f67-bba0-b662e76099df",
   "metadata": {},
   "outputs": [],
   "source": [
    "import re\n",
    "\n",
    "def check_password(password):\n",
    "    if len(password) != 10:\n",
    "        return \"Invalid Password\"\n",
    "\n",
    "    upper_count = len(re.findall(r'[A-Z]', password))\n",
    "    lower_count = len(re.findall(r'[a-z]', password))\n",
    "    digit_count = len(re.findall(r'\\d', password))\n",
    "    special_count = len(re.findall(r'[^\\w\\s]', password))\n",
    "\n",
    "    if upper_count >= 2 and lower_count >= 2 and digit_count >= 1 and special_count >= 3:\n",
    "        return \"Valid Password\"\n",
    "    else:\n",
    "        return \"invalid Password\"\n",
    "\n",
    "    "
   ]
  },
  {
   "cell_type": "code",
   "execution_count": 6,
   "id": "7c528fba-bb04-4c8d-90c2-a6950cbd5614",
   "metadata": {},
   "outputs": [
    {
     "name": "stdin",
     "output_type": "stream",
     "text": [
      "ENTER THE PASSWORD DSas08@#$%\n"
     ]
    },
    {
     "name": "stdout",
     "output_type": "stream",
     "text": [
      "INValid Password\n"
     ]
    }
   ],
   "source": [
    "password1 =input(\"ENTER THE PASSWORD\")\n",
    "print(check_password(password1)) \n",
    "\n"
   ]
  },
  {
   "cell_type": "markdown",
   "id": "51760f50-b4be-462f-ba73-bf8d4df1a71a",
   "metadata": {},
   "source": [
    "Q2. Solve the below-given questions using at least one of the following:\n",
    "1. Lambda functioJ\n",
    "2. Filter functioJ\n",
    "3. Zap functioJ\n",
    "4. List ComprehensioI\n",
    "B Check if the string starts with a particular letterY\n",
    "B Check if the string is numericY\n",
    "B Sort a list of tuples having fruit names and their quantity. [(\"mango\",99),(\"orange\",80), (\"grapes\", 1000)-\n",
    "B Find the squares of numbers from 1 to 10Y\n",
    "B Find the cube root of numbers from 1 to 10Y\n",
    "B Check if a given number is evenY\n",
    "B Filter odd numbers from the given list.\n",
    "[1,2,3,4,5,6,7,8,9,10-\n",
    "B Sort a list of integers into positive and negative integers lists.\n",
    "[1,2,3,4,5,6,-1,-2,-3,-4,-5,0]"
   ]
  },
  {
   "cell_type": "code",
   "execution_count": 7,
   "id": "fcd79439-b17f-4a53-89ce-e86c9ae5f515",
   "metadata": {},
   "outputs": [
    {
     "name": "stdout",
     "output_type": "stream",
     "text": [
      "['apple']\n"
     ]
    }
   ],
   "source": [
    "strings = [\"apple\", \"banana\", \"cherry\", \"durian\", \"elderberry\"]\n",
    "letter = \"a\"\n",
    "\n",
    "filtered = list(filter(lambda x: x.startswith(letter), strings))\n",
    "\n",
    "print(filtered)\n"
   ]
  },
  {
   "cell_type": "code",
   "execution_count": 8,
   "id": "dbca6b6a-cbc2-4e2b-b7ad-aa0a427538dc",
   "metadata": {},
   "outputs": [
    {
     "name": "stdout",
     "output_type": "stream",
     "text": [
      "['123']\n"
     ]
    }
   ],
   "source": [
    "strings = [\"123\", \"3.14\", \"1e-5\", \"a12\", \"five\"]\n",
    "\n",
    "filtered = list(filter(lambda x: x.isnumeric(), strings))\n",
    "\n",
    "print(filtered)\n"
   ]
  },
  {
   "cell_type": "code",
   "execution_count": 9,
   "id": "fb23612f-5829-4ec3-8a43-8d9f5b2911a5",
   "metadata": {},
   "outputs": [
    {
     "name": "stdout",
     "output_type": "stream",
     "text": [
      "[('orange', 80), ('mango', 99), ('grapes', 1000)]\n"
     ]
    }
   ],
   "source": [
    "fruits = [(\"mango\", 99), (\"orange\", 80), (\"grapes\", 1000)]\n",
    "\n",
    "sorted_fruits = sorted(fruits, key=lambda x: x[1])\n",
    "\n",
    "print(sorted_fruits)\n"
   ]
  },
  {
   "cell_type": "code",
   "execution_count": 10,
   "id": "737587ee-2dfd-4638-a48c-c838d696dc1d",
   "metadata": {},
   "outputs": [
    {
     "name": "stdout",
     "output_type": "stream",
     "text": [
      "[1, 4, 9, 16, 25, 36, 49, 64, 81, 100]\n"
     ]
    }
   ],
   "source": [
    "squares = [(lambda x: x*x)(x) for x in range(1, 11)]\n",
    "\n",
    "print(squares)\n"
   ]
  },
  {
   "cell_type": "code",
   "execution_count": 12,
   "id": "640c551b-4716-448e-8b2f-055c3f3d91c7",
   "metadata": {},
   "outputs": [
    {
     "name": "stdout",
     "output_type": "stream",
     "text": [
      "[1.0, 1.2599210498948732, 1.4422495703074083, 1.5874010519681994, 1.7099759466766968, 1.8171205928321397, 1.912931182772389, 2.0, 2.080083823051904, 2.154434690031884]\n"
     ]
    }
   ],
   "source": [
    "import math\n",
    "\n",
    "cube_roots = [(lambda x: math.pow(x, 1/3))(x) for x in range(1, 11)]\n",
    "\n",
    "print(cube_roots)\n"
   ]
  },
  {
   "cell_type": "code",
   "execution_count": 13,
   "id": "4f532cb5-9eeb-4627-b497-78a547032169",
   "metadata": {},
   "outputs": [
    {
     "name": "stdout",
     "output_type": "stream",
     "text": [
      "True\n"
     ]
    }
   ],
   "source": [
    "number = 6\n",
    "\n",
    "is_even = (lambda x: x % 2 == 0)(number)\n",
    "\n",
    "print(is_even)\n"
   ]
  },
  {
   "cell_type": "code",
   "execution_count": 14,
   "id": "49139cd5-e429-42a7-9a4a-674998b5b92c",
   "metadata": {},
   "outputs": [
    {
     "name": "stdout",
     "output_type": "stream",
     "text": [
      "[1, 3, 5, 7, 9]\n"
     ]
    }
   ],
   "source": [
    "numbers = [1, 2, 3, 4, 5, 6, 7, 8, 9, 10]\n",
    "\n",
    "odd_numbers = list(filter(lambda x: x % 2 != 0, numbers))\n",
    "\n",
    "print(odd_numbers)\n"
   ]
  },
  {
   "cell_type": "code",
   "execution_count": 15,
   "id": "01622244-cf9f-4feb-82ac-ce37112ee03a",
   "metadata": {},
   "outputs": [
    {
     "name": "stdout",
     "output_type": "stream",
     "text": [
      "[1, 2, 3, 4, 5, 6, 0]\n",
      "[-1, -2, -3, -4, -5]\n"
     ]
    }
   ],
   "source": [
    "numbers = [1, 2, 3, 4, 5, 6, -1, -2, -3, -4, -5, 0]\n",
    "\n",
    "positive_numbers = [x for x in numbers if (lambda x: x >= 0)(x)]\n",
    "negative_numbers = [x for x in numbers if (lambda x: x < 0)(x)]\n",
    "\n",
    "print(positive_numbers)\n",
    "print(negative_numbers)\n"
   ]
  },
  {
   "cell_type": "code",
   "execution_count": null,
   "id": "433a224f-86c9-4f68-bcb0-87dc342feaa2",
   "metadata": {},
   "outputs": [],
   "source": []
  }
 ],
 "metadata": {
  "kernelspec": {
   "display_name": "Python 3 (ipykernel)",
   "language": "python",
   "name": "python3"
  },
  "language_info": {
   "codemirror_mode": {
    "name": "ipython",
    "version": 3
   },
   "file_extension": ".py",
   "mimetype": "text/x-python",
   "name": "python",
   "nbconvert_exporter": "python",
   "pygments_lexer": "ipython3",
   "version": "3.10.8"
  }
 },
 "nbformat": 4,
 "nbformat_minor": 5
}
