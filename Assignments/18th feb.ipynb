{
 "cells": [
  {
   "cell_type": "markdown",
   "id": "4c130d71-7dd8-496c-bd1c-126a917840e9",
   "metadata": {},
   "source": [
    "Q1. What is an API? Give an example, where an API is used in real life."
   ]
  },
  {
   "cell_type": "markdown",
   "id": "a93c3e26-a545-42ba-81c7-d1a9d2d3c66e",
   "metadata": {},
   "source": [
    "Api is a communiction channel between servewr and client or basically it is a communication between one or more system .\n",
    "In todays world api is used everywhere , there is no system where api is not used.\n",
    "lets take example of ola , when we booked the cabs then google maps take in to action for our location,but how this is through API since ola is just a another software which is using API key of ggogle to access Google Maps\n",
    "one more example that is \n",
    "Online Payment Systems"
   ]
  },
  {
   "cell_type": "markdown",
   "id": "99ef6426-3dfb-42da-b7d1-8e81d4aeffcc",
   "metadata": {},
   "source": [
    "Q2. Give advantages and disadvantages of using API."
   ]
  },
  {
   "cell_type": "markdown",
   "id": "4047466d-8aea-4e89-ae67-7266f2312cdf",
   "metadata": {},
   "source": [
    "Disadvantages :-There is a lot of conveniences and advantages to APIs, but business leaders should also be aware of the disadvantages. As a single point of entry, an API is a gateway and can become a hacker's primary target. Once the API is compromised, all other applications and systems become vulnerable.\n",
    "\n",
    "ADVANTAGES :-API's are essential tools for businesses — they streamline organizational operations, and provide strategic value such as additional exposure for your brand and increased revenue. APIs are a new type of ecosystem, allowing companies to expand into new markets where they can use them for more than just technical concepts."
   ]
  },
  {
   "cell_type": "markdown",
   "id": "e71a39b3-b46a-4ca2-934d-a54ace258c86",
   "metadata": {},
   "source": [
    "Q3. What is a Web API? Differentiate between API and Web API."
   ]
  },
  {
   "cell_type": "markdown",
   "id": "525a4322-62cc-4ffc-ae81-7264daeacf1e",
   "metadata": {},
   "source": [
    "WEB API is just an subset of an API , this API used HTTPS'S protocol where else rest of the API uses only TCP/IP protocol."
   ]
  },
  {
   "cell_type": "markdown",
   "id": "61135ad0-fb48-45b2-9cb2-165618bd3115",
   "metadata": {},
   "source": [
    "web api uses HTTPS protocol , where else rest of the api uses TCP/IP protocol , the api which uses HTTP protocol only that works on the basis of REST architecture and also works  sometimes on the basis of the soap architecture. BUT api which uses TCP/IP protocol works only on rhe basis of soap architecture ."
   ]
  },
  {
   "cell_type": "markdown",
   "id": "818f9b27-155e-45d7-ae91-4143189153c6",
   "metadata": {},
   "source": [
    "Q4. Explain REST and SOAP Architecture. Mention shortcomings of SOAP."
   ]
  },
  {
   "cell_type": "markdown",
   "id": "daecb079-3af4-4b82-b2c0-a6d878d31d48",
   "metadata": {},
   "source": [
    "There are basically teo types of architecture of api which are REST AND SOAP.\n",
    "REST :- API which comes in REST structure are WEB API .\n",
    "        IN this Https protocol is uesd \n",
    "        This architecture is known for its simplicity and flexibility and scalability in terms of communication \n",
    "        This architectures is also know as statesless prtocol because it doesn't store anything (basically History ), but this can be done by using of cached memory ."
   ]
  },
  {
   "cell_type": "markdown",
   "id": "d3e619eb-b35c-43b8-a2c3-3d58795ab9b9",
   "metadata": {},
   "source": [
    "SOAP :- ALL APIS can use SOAP architecture ,  soap architecture uses all protocols such sa HTTPS'S , SMTP ,TCP/IP etc.IT basically uses XMl .It is a more lightweight protocol . It is more secure than REST architecture "
   ]
  },
  {
   "cell_type": "markdown",
   "id": "a7f21fd1-3dcf-4a74-81b9-b82ef3739cd4",
   "metadata": {},
   "source": [
    "SOAP (Simple Object Access Protocol) is a messaging protocol used for exchanging structured data over the web. While SOAP has some advantages, such as its ability to use different transport protocols and its support for different message formats, it also has several shortcomings:\n",
    "    Complexity: SOAP is a complex protocol with a steep learning curve. It requires a lot of configuration and setup, which can make it difficult to use for developers who are new to it.\n",
    "\n",
    "Overhead: SOAP has a lot of overhead, which can slow down the performance of applications that use it. This is because SOAP messages contain a lot of additional information, such as headers and metadata, which can increase the size of the messages and consume more bandwidth."
   ]
  },
  {
   "cell_type": "markdown",
   "id": "cba1f4a0-ca85-4959-9ef5-0918b08209ba",
   "metadata": {},
   "source": [
    "Q5. Differentiate between REST and SOAP."
   ]
  },
  {
   "cell_type": "markdown",
   "id": "756c2afd-7024-415a-b840-feba9d4d3c9a",
   "metadata": {},
   "source": [
    "Many legacy systems may still adhere to SOAP, while REST came later and is often viewed as a faster alternative in web-based scenarios. REST is a set of guidelines that offers flexible implementation, whereas SOAP is a protocol with specific requirements like XML messaging.\n",
    "\n",
    "REST APIs are lightweight, making them ideal for newer contexts like the Internet of Things (IoT), mobile application development, and serverless computing. SOAP web services offer built-in security and transaction compliance that align with many enterprise needs, but that also makes them heavier. Additionally, many public APIs, like the Google Maps API, follow the REST guidelines."
   ]
  },
  {
   "cell_type": "code",
   "execution_count": null,
   "id": "9c4e62e4-2a85-4042-869e-a330493b7c84",
   "metadata": {},
   "outputs": [],
   "source": []
  }
 ],
 "metadata": {
  "kernelspec": {
   "display_name": "Python 3 (ipykernel)",
   "language": "python",
   "name": "python3"
  },
  "language_info": {
   "codemirror_mode": {
    "name": "ipython",
    "version": 3
   },
   "file_extension": ".py",
   "mimetype": "text/x-python",
   "name": "python",
   "nbconvert_exporter": "python",
   "pygments_lexer": "ipython3",
   "version": "3.10.8"
  }
 },
 "nbformat": 4,
 "nbformat_minor": 5
}
