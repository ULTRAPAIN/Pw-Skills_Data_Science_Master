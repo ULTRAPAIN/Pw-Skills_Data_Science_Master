{
 "cells": [
  {
   "cell_type": "code",
   "execution_count": 1,
   "id": "a4a0e07b-287c-491d-b15e-d8930f94b512",
   "metadata": {},
   "outputs": [
    {
     "name": "stdout",
     "output_type": "stream",
     "text": [
      "1\n",
      "3\n",
      "4\n",
      "6\n",
      "7\n",
      "8\n",
      "9\n"
     ]
    }
   ],
   "source": [
    "l1=[1,3,4,6,7,8,9]\n",
    "for i in l1:\n",
    "    print(i)"
   ]
  },
  {
   "cell_type": "code",
   "execution_count": 2,
   "id": "c638bbc1-c2f9-4bc3-8feb-4497e6339843",
   "metadata": {},
   "outputs": [
    {
     "name": "stdout",
     "output_type": "stream",
     "text": [
      "SUDH\n",
      "KUMAR\n",
      "PWSKILLS\n",
      "COURSE\n"
     ]
    }
   ],
   "source": [
    "l=[\"sudh\",\"kumar\",\"pwskills\",\"course\"]\n",
    "for i in l:\n",
    "    print(i.upper())"
   ]
  },
  {
   "cell_type": "code",
   "execution_count": 1,
   "id": "2a1e188c-1919-4140-abc4-e1848061bf4e",
   "metadata": {},
   "outputs": [
    {
     "name": "stdout",
     "output_type": "stream",
     "text": [
      "2 <class 'int'>\n",
      "3 <class 'int'>\n",
      "4 <class 'int'>\n",
      "5 <class 'int'>\n",
      "6 <class 'int'>\n"
     ]
    }
   ],
   "source": [
    "l=[2,3,4,5,6]\n",
    "for i in l:\n",
    "    print(i,type(i))"
   ]
  },
  {
   "cell_type": "code",
   "execution_count": 2,
   "id": "8ad582c3-6283-4bd3-9690-7d784e48b06f",
   "metadata": {},
   "outputs": [
    {
     "name": "stdout",
     "output_type": "stream",
     "text": [
      "Dashrath\n",
      "Patel\n",
      "dassu\n",
      "If for loop is able to execute itself then else will  be executed\n"
     ]
    }
   ],
   "source": [
    "l1=[\"Dashrath\",\"Patel\",\"dassu\"]\n",
    "for i in l1:\n",
    "    print(i)\n",
    "else:\n",
    "    print(\"If for loop is able to execute itself then else will  be executed\")\n",
    "    "
   ]
  },
  {
   "cell_type": "code",
   "execution_count": 3,
   "id": "38f512a5-b488-4d38-9ed5-abeb10d25726",
   "metadata": {},
   "outputs": [
    {
     "name": "stdout",
     "output_type": "stream",
     "text": [
      "Dashrath\n",
      "Patel\n",
      "dassu\n",
      "This will not be executed beacuse it is not able to complete itself\n"
     ]
    }
   ],
   "source": [
    "for i in l1:\n",
    "    if i==\"Dassu\":\n",
    "        break\n",
    "    print(i)\n",
    "else:\n",
    "    print(\"This will not be executed beacuse it is not able to complete itself\")"
   ]
  },
  {
   "cell_type": "code",
   "execution_count": 4,
   "id": "57e22379-9652-4d13-a343-7db4182448ae",
   "metadata": {},
   "outputs": [
    {
     "name": "stdout",
     "output_type": "stream",
     "text": [
      "Dashrath\n",
      "Patel\n",
      "This for loop is been executed completely therefore else stataemenet is been executed\n"
     ]
    }
   ],
   "source": [
    "for i in l1:\n",
    "    if i==\"dassu\":\n",
    "        continue\n",
    "    print(i)\n",
    "else:\n",
    "    print(\"This for loop is been executed completely therefore else stataemenet is been executed\")"
   ]
  },
  {
   "cell_type": "code",
   "execution_count": 5,
   "id": "b1fd9f5f-6402-427d-98ad-1ad915a7f23d",
   "metadata": {},
   "outputs": [
    {
     "data": {
      "text/plain": [
       "range(0, 5)"
      ]
     },
     "execution_count": 5,
     "metadata": {},
     "output_type": "execute_result"
    }
   ],
   "source": [
    "range(5)"
   ]
  },
  {
   "cell_type": "code",
   "execution_count": 6,
   "id": "e27466f6-03e3-4011-826b-9647ed44e085",
   "metadata": {},
   "outputs": [],
   "source": [
    "list=[range(5)]"
   ]
  },
  {
   "cell_type": "code",
   "execution_count": 7,
   "id": "27123a06-96ee-4208-bae2-58395056d169",
   "metadata": {},
   "outputs": [
    {
     "data": {
      "text/plain": [
       "[range(0, 5)]"
      ]
     },
     "execution_count": 7,
     "metadata": {},
     "output_type": "execute_result"
    }
   ],
   "source": [
    "list"
   ]
  },
  {
   "cell_type": "code",
   "execution_count": 10,
   "id": "c12274d1-4307-4ad9-862d-5e31e61cea17",
   "metadata": {},
   "outputs": [
    {
     "ename": "SyntaxError",
     "evalue": "incomplete input (1931492638.py, line 1)",
     "output_type": "error",
     "traceback": [
      "\u001b[0;36m  Cell \u001b[0;32mIn[10], line 1\u001b[0;36m\u001b[0m\n\u001b[0;31m    list1((range(0,21,2))\u001b[0m\n\u001b[0m                         ^\u001b[0m\n\u001b[0;31mSyntaxError\u001b[0m\u001b[0;31m:\u001b[0m incomplete input\n"
     ]
    }
   ],
   "source": [
    "list1((range(0,21,2))"
   ]
  },
  {
   "cell_type": "code",
   "execution_count": 11,
   "id": "f9495901-1aab-44b7-833d-2c4a7d6f57f2",
   "metadata": {},
   "outputs": [
    {
     "name": "stdout",
     "output_type": "stream",
     "text": [
      "[1, 2, 3, 4, 5, 6, 7, 8, 9, 10]\n"
     ]
    }
   ],
   "source": [
    "l1=[1,2,3,4,5,6,7,8,9,10]\n",
    "print(l1)"
   ]
  },
  {
   "cell_type": "code",
   "execution_count": 14,
   "id": "6565b0b9-cd4e-49ac-88d3-b5cdd2d9f0b0",
   "metadata": {},
   "outputs": [
    {
     "name": "stdout",
     "output_type": "stream",
     "text": [
      "10\n",
      "9\n",
      "8\n",
      "7\n",
      "6\n",
      "5\n",
      "4\n",
      "3\n",
      "2\n",
      "1\n"
     ]
    }
   ],
   "source": [
    "for i in range(len(l1),0,-1):\n",
    "    print(i)"
   ]
  },
  {
   "cell_type": "code",
   "execution_count": 17,
   "id": "fb085405-38f0-47ef-9408-54612333f155",
   "metadata": {},
   "outputs": [
    {
     "name": "stdout",
     "output_type": "stream",
     "text": [
      "23\n",
      "45\n",
      "6\n",
      "67\n",
      "87\n",
      "9\n",
      "8\n"
     ]
    }
   ],
   "source": [
    "l2=[23,5,45,56,6,67,67,78,87,8998,9,9,8]\n",
    "for i in range(0,len(l2),2):\n",
    "    print(l2[i])"
   ]
  },
  {
   "cell_type": "code",
   "execution_count": 18,
   "id": "5bc698a5-b963-4e65-879c-87cefea7cb59",
   "metadata": {},
   "outputs": [
    {
     "name": "stdout",
     "output_type": "stream",
     "text": [
      "128\n"
     ]
    }
   ],
   "source": [
    "l=[1,2,3,4,5,7,8,98]\n",
    "result=0\n",
    "for i in range(0,len(l)):\n",
    "    result=result+l[i]\n",
    "print(result)"
   ]
  },
  {
   "cell_type": "code",
   "execution_count": 19,
   "id": "8da5f087-020c-4556-b4ab-d8fb5c5982f7",
   "metadata": {},
   "outputs": [
    {
     "name": "stdout",
     "output_type": "stream",
     "text": [
      "128\n"
     ]
    }
   ],
   "source": [
    "l=[1,2,3,4,5,7,8,98]\n",
    "result=0\n",
    "for i in l:\n",
    "    result=result+i\n",
    "print(result)"
   ]
  },
  {
   "cell_type": "code",
   "execution_count": 20,
   "id": "cac5c713-4ad3-4b0b-94fe-0de2fbff83fa",
   "metadata": {},
   "outputs": [
    {
     "name": "stdout",
     "output_type": "stream",
     "text": [
      "1\n",
      "2\n",
      "3\n",
      "4\n",
      "5\n"
     ]
    }
   ],
   "source": [
    "t=(1,2,3,4,5)\n",
    "for i in t:\n",
    "    print(i)"
   ]
  },
  {
   "cell_type": "code",
   "execution_count": 21,
   "id": "5fb485a9-ecec-48c9-abfa-e23481a91015",
   "metadata": {},
   "outputs": [
    {
     "name": "stdout",
     "output_type": "stream",
     "text": [
      "1\n",
      "2\n",
      "3\n",
      "4\n",
      "5\n",
      "dassu\n",
      "pwskills\n"
     ]
    }
   ],
   "source": [
    "s={1,2,3,4,5,\"pwskills\",\"dassu\"}\n",
    "for i in s:\n",
    "    print(i)"
   ]
  },
  {
   "cell_type": "code",
   "execution_count": 22,
   "id": "92527b74-ef8d-403c-adac-4971e67f4bfe",
   "metadata": {},
   "outputs": [
    {
     "name": "stdout",
     "output_type": "stream",
     "text": [
      "d\n",
      "a\n",
      "s\n",
      "s\n",
      "u\n"
     ]
    }
   ],
   "source": [
    "s1=\"dassu\"\n",
    "for i in s1:\n",
    "    print(i)"
   ]
  },
  {
   "cell_type": "code",
   "execution_count": 27,
   "id": "f5281796-b008-4eb0-bc6f-7f98964fc5d0",
   "metadata": {},
   "outputs": [
    {
     "data": {
      "text/plain": [
       "{'name': 'sudh',\n",
       " 'class': 'data science masters',\n",
       " 'topic': ['python', 'stats', 'machine learning', 'DL', 'cv', 'nlp', 'resume']}"
      ]
     },
     "execution_count": 27,
     "metadata": {},
     "output_type": "execute_result"
    }
   ],
   "source": [
    "d={\"name\":\"sudh\",\"class\" : \"data science masters\",\"topic\":[\"python\",\"stats\",\"machine learning\",\"DL\",\"cv\",\"nlp\",\"resume\"]}\n",
    "d"
   ]
  },
  {
   "cell_type": "code",
   "execution_count": 28,
   "id": "7994d721-2ba2-4fa9-9551-e22ec3068836",
   "metadata": {},
   "outputs": [
    {
     "data": {
      "text/plain": [
       "dict_keys(['name', 'class', 'topic'])"
      ]
     },
     "execution_count": 28,
     "metadata": {},
     "output_type": "execute_result"
    }
   ],
   "source": [
    "d.keys()"
   ]
  },
  {
   "cell_type": "code",
   "execution_count": 36,
   "id": "02d3053b-f8e7-4481-8486-762c89b3ca64",
   "metadata": {},
   "outputs": [
    {
     "name": "stdout",
     "output_type": "stream",
     "text": [
      "name : sudh\n",
      "class : data science masters\n",
      "topic : ['python', 'stats', 'machine learning', 'DL', 'cv', 'nlp', 'resume']\n"
     ]
    }
   ],
   "source": [
    "for i in d.keys():\n",
    "    print(i,\":\",d[i])"
   ]
  },
  {
   "cell_type": "code",
   "execution_count": 37,
   "id": "cbf3c3bd-f4c4-415a-aad7-249d8ea103d5",
   "metadata": {},
   "outputs": [
    {
     "data": {
      "text/plain": [
       "dict_items([('name', 'sudh'), ('class', 'data science masters'), ('topic', ['python', 'stats', 'machine learning', 'DL', 'cv', 'nlp', 'resume'])])"
      ]
     },
     "execution_count": 37,
     "metadata": {},
     "output_type": "execute_result"
    }
   ],
   "source": [
    "d.items()\n"
   ]
  },
  {
   "cell_type": "code",
   "execution_count": 38,
   "id": "09bde62f-7612-435c-aff7-f4bfb747287c",
   "metadata": {},
   "outputs": [
    {
     "name": "stdout",
     "output_type": "stream",
     "text": [
      "('name', 'sudh')\n",
      "('class', 'data science masters')\n",
      "('topic', ['python', 'stats', 'machine learning', 'DL', 'cv', 'nlp', 'resume'])\n"
     ]
    }
   ],
   "source": [
    "for i in d.items():\n",
    "    print(i)"
   ]
  },
  {
   "cell_type": "code",
   "execution_count": null,
   "id": "aceb984d-bd50-44fd-940c-0b68be5d74bb",
   "metadata": {},
   "outputs": [],
   "source": []
  }
 ],
 "metadata": {
  "kernelspec": {
   "display_name": "Python 3 (ipykernel)",
   "language": "python",
   "name": "python3"
  },
  "language_info": {
   "codemirror_mode": {
    "name": "ipython",
    "version": 3
   },
   "file_extension": ".py",
   "mimetype": "text/x-python",
   "name": "python",
   "nbconvert_exporter": "python",
   "pygments_lexer": "ipython3",
   "version": "3.10.8"
  }
 },
 "nbformat": 4,
 "nbformat_minor": 5
}
