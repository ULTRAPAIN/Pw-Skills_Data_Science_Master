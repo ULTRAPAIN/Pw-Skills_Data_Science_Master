{
 "cells": [
  {
   "cell_type": "markdown",
   "metadata": {},
   "source": [
    "Q1. What is Statistics?"
   ]
  },
  {
   "cell_type": "markdown",
   "metadata": {},
   "source": [
    "Statistics is the way of collecting organizing and analysing the data . Statistics is a very important concept because statistics helps us to take the decision regarding the problems."
   ]
  },
  {
   "cell_type": "markdown",
   "metadata": {},
   "source": [
    "Q2. Define the different types of statistics and give an example of when each type might be used."
   ]
  },
  {
   "cell_type": "markdown",
   "metadata": {},
   "source": [
    "There are some types of statistics:-\n",
    "1.\tDescriptive statistics:-Descriptive statistics is the way of organising and summarizing the data. It consists of many topics like measures of central tendency(mean, mode …) , measure of dispersion(variance…) , different types of distribution\n",
    "2.\tInferential Statistics:-Inferential Statistics consists of data , and from this you must form a conclusion. In this we will learn Z-test , t-test , significance value , hypothesis testing , Chi – square test , through this we can summarize the sample data \n"
   ]
  },
  {
   "cell_type": "markdown",
   "metadata": {},
   "source": [
    "Q3. What are the different types of data and how do they differ from each other? Provide an example of\n",
    "each type of data."
   ]
  },
  {
   "cell_type": "markdown",
   "metadata": {},
   "source": [
    "Types of data:-\n",
    "•\tQuantitative:-Quantitative data are the numerical data in which we can apply mathematical operations. There are also two types of quantitative data :-\n",
    "\n",
    "1.\tDiscrete:-discrete data are the data which are particularly specific not like the floating number for example you can have 2 or 3 bank accounts , not like 2.5 bank account or 3.5 bank account.\n",
    "\n",
    "2.\tContinuous:-Continuous data are the data which has floating value , like when we measure the value of PH in chemical then it can come in range 5.6 ,6.7,7.5etc\n",
    "\n",
    "•\tQualitative:-qualitative data are the categorical data , like gender male or female . there are also two types of qualitative:-\n",
    "1.\tNominal:-These categorical data doesn’t contain the rank like gender , blood group, pin code.\n",
    "2.\tOrdinal:-These categorical data contains the Rank like first class , second class in railways , customer feedback(good , bad ,very bad).\n"
   ]
  },
  {
   "cell_type": "markdown",
   "metadata": {},
   "source": [
    "Q4. Categorise the following datasets with respect to quantitative and qualitative data types:\n",
    "(i) Grading in exam: A+, A, B+, B, C+, C, D, E\n",
    "(ii) Colour of mangoes: yellow, green, orange, red\n",
    "(iii) Height data of a class: [178.9, 179, 179.5, 176, 177.2, 178.3, 175.8,...]\n",
    "(iv) Number of mangoes exported by a farm: [500, 600, 478, 672, ...]"
   ]
  },
  {
   "cell_type": "markdown",
   "metadata": {},
   "source": [
    "1:-Qualitative(ordinal)\n",
    "2:-qualitative(nominal)\n",
    "3:-quantitative(continuous)\n",
    "4:-quantitative(discrete)"
   ]
  },
  {
   "cell_type": "markdown",
   "metadata": {},
   "source": [
    "Q5. Explain the concept of levels of measurement and give an example of a variable for each level."
   ]
  },
  {
   "cell_type": "markdown",
   "metadata": {},
   "source": [
    "There are many types of levels of measurements :-\n",
    "1:-Nominal  measurements(eg:-gender ,pin code , Blood group)\n",
    "2:-ordinal measurements(CUSTOMER FEEDBACK,grades)\n",
    "3:-interval measurements(temperature)\n",
    "4:-ratio measurements(marks )\n"
   ]
  },
  {
   "cell_type": "markdown",
   "metadata": {},
   "source": [
    "Q6. Why is it important to understand the level of measurement when analyzing data? Provide an\n",
    "example to illustrate your answer."
   ]
  },
  {
   "cell_type": "markdown",
   "metadata": {},
   "source": [
    "It is important to understand  the level of measurement when anlayzing the data because it will helps us to differentiate the different types of data and and after differentiating we will be able to analyze and summarize the data and able to take descisions regarding the problems."
   ]
  },
  {
   "cell_type": "markdown",
   "metadata": {},
   "source": [
    "Q7. How nominal data type is different from ordinal data type."
   ]
  },
  {
   "cell_type": "markdown",
   "metadata": {},
   "source": [
    "In nominal data types there is no fixed order , we cant give the rank where else in ordinal we are able to order and differentiate the data in terms of rank."
   ]
  },
  {
   "cell_type": "markdown",
   "metadata": {},
   "source": [
    "Q8. Which type of plot can be used to display data in terms of range?"
   ]
  },
  {
   "cell_type": "markdown",
   "metadata": {},
   "source": [
    "line plot"
   ]
  },
  {
   "cell_type": "markdown",
   "metadata": {},
   "source": [
    "Q9. Describe the difference between descriptive and inferential statistics. Give an example of each\n",
    "type of statistics and explain how they are used."
   ]
  },
  {
   "cell_type": "markdown",
   "metadata": {},
   "source": [
    "There are some types of statistics:-\n",
    "1.\tDescriptive statistics:-Descriptive statistics is the way of organising and summarizing the data. It consists of many topics like measures of central tendency(mean, mode …) , measure of dispersion(variance…) , different types of distribution\n",
    "2.\tInferential Statistics:-Inferential Statistics consists of data , and from this you must form a conclusion. In this we will learn Z-test , t-test , significance value , hypothesis testing , Chi – square test , through this we can summarize the sample data \n"
   ]
  },
  {
   "cell_type": "markdown",
   "metadata": {},
   "source": [
    "Q10. What are some common measures of central tendency and variability used in statistics? Explain\n",
    "how each measure can be used to describe a dataset."
   ]
  },
  {
   "cell_type": "markdown",
   "metadata": {},
   "source": [
    "central tedency that is dispersion this technique is used in continuous data type , this measure will be able to oraginize and summarize the data ."
   ]
  },
  {
   "cell_type": "markdown",
   "metadata": {},
   "source": []
  }
 ],
 "metadata": {
  "language_info": {
   "name": "python"
  },
  "orig_nbformat": 4
 },
 "nbformat": 4,
 "nbformat_minor": 2
}
