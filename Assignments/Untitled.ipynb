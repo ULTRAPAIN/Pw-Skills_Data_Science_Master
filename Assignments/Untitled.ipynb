{
 "cells": [
  {
   "cell_type": "code",
   "execution_count": 6,
   "id": "9497c4c7-69de-48a0-bda3-31a68b8e3166",
   "metadata": {},
   "outputs": [
    {
     "data": {
      "text/plain": [
       "[7, 9, 11, 13, 15]"
      ]
     },
     "execution_count": 6,
     "metadata": {},
     "output_type": "execute_result"
    }
   ],
   "source": [
    "l1=[1,2,3,4,5]\n",
    "l2=[6,7,8,9,10]\n",
    "list(map(lambda x , y :x+y,l1,l2))"
   ]
  },
  {
   "cell_type": "code",
   "execution_count": 3,
   "id": "d7ab9fbe-f349-464a-ad4a-807844668c37",
   "metadata": {},
   "outputs": [
    {
     "data": {
      "text/plain": [
       "['d', 'a', 's', 's', 'u', 'p', 'a', 't', 'e', 'l']"
      ]
     },
     "execution_count": 3,
     "metadata": {},
     "output_type": "execute_result"
    }
   ],
   "source": [
    "s=\"dassu\"\n",
    "d=\"patel\"\n",
    "list(s+d)"
   ]
  },
  {
   "cell_type": "code",
   "execution_count": 4,
   "id": "2f21ac14-95f4-400f-9d82-4b731994f419",
   "metadata": {},
   "outputs": [],
   "source": [
    "from functools import reduce"
   ]
  },
  {
   "cell_type": "code",
   "execution_count": 8,
   "id": "71fa9d4b-8c9b-48b0-b4ea-f80b8ac1828a",
   "metadata": {},
   "outputs": [
    {
     "data": {
      "text/plain": [
       "15"
      ]
     },
     "execution_count": 8,
     "metadata": {},
     "output_type": "execute_result"
    }
   ],
   "source": [
    "reduce(lambda x ,y :x+y ,l1)"
   ]
  },
  {
   "cell_type": "code",
   "execution_count": null,
   "id": "9898e36c-9a8e-48eb-a50e-07eb3f327c3e",
   "metadata": {},
   "outputs": [],
   "source": []
  }
 ],
 "metadata": {
  "kernelspec": {
   "display_name": "Python 3 (ipykernel)",
   "language": "python",
   "name": "python3"
  },
  "language_info": {
   "codemirror_mode": {
    "name": "ipython",
    "version": 3
   },
   "file_extension": ".py",
   "mimetype": "text/x-python",
   "name": "python",
   "nbconvert_exporter": "python",
   "pygments_lexer": "ipython3",
   "version": "3.10.8"
  }
 },
 "nbformat": 4,
 "nbformat_minor": 5
}
