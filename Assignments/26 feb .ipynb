{
 "cells": [
  {
   "cell_type": "markdown",
   "id": "032c8dfd-132a-4425-94f1-36204ade7ef4",
   "metadata": {},
   "source": [
    "Consider the below code to answer further questions:\n",
    "import numpy as np\n",
    "list_ = [ ‘1’ , ’2’ , ‘3’ , ‘4’ , ‘5’ ]\n",
    "array_list = np.array(object = list_)\n",
    "Q1. Is there any difference in the data type of variables list_ and array_list? If there is then write a code\n",
    "to print the data types of both the variables."
   ]
  },
  {
   "cell_type": "markdown",
   "id": "99eed042-cc7d-4b15-bba1-ed1cb8344129",
   "metadata": {},
   "source": [
    "yes there is a difference in data type of varaible list and array_list as in varibale list we can  have different types of data where as in arraylist it has only one data type that is array.\n"
   ]
  },
  {
   "cell_type": "code",
   "execution_count": 22,
   "id": "4c691db6-b27f-444f-95b1-e83ae122b99f",
   "metadata": {},
   "outputs": [],
   "source": [
    "import numpy as np\n",
    "np_list=[1,\"dasu\",\"sudh\",4,5]\n",
    "array_list=np.asarray(np_list)"
   ]
  },
  {
   "cell_type": "code",
   "execution_count": 23,
   "id": "9286ced3-c187-4b9a-8d44-8c159bcb9d6b",
   "metadata": {},
   "outputs": [
    {
     "data": {
      "text/plain": [
       "list"
      ]
     },
     "execution_count": 23,
     "metadata": {},
     "output_type": "execute_result"
    }
   ],
   "source": [
    "type(np_list)"
   ]
  },
  {
   "cell_type": "code",
   "execution_count": 24,
   "id": "56bf9e39-4501-4c39-a148-d3590e97a02f",
   "metadata": {},
   "outputs": [
    {
     "data": {
      "text/plain": [
       "numpy.ndarray"
      ]
     },
     "execution_count": 24,
     "metadata": {},
     "output_type": "execute_result"
    }
   ],
   "source": [
    "type(array_list)"
   ]
  },
  {
   "cell_type": "markdown",
   "id": "f957c076-b294-4386-b3d1-faaeff0334fe",
   "metadata": {},
   "source": [
    "Q2. Write a code to print the data type of each and every element of both the variables list_ and\n",
    "arra_list."
   ]
  },
  {
   "cell_type": "code",
   "execution_count": 25,
   "id": "3e171035-ce82-4577-82cb-f7247107020a",
   "metadata": {},
   "outputs": [
    {
     "name": "stdout",
     "output_type": "stream",
     "text": [
      "<class 'int'>\n",
      "<class 'int'>\n",
      "<class 'int'>\n",
      "<class 'int'>\n",
      "<class 'int'>\n"
     ]
    }
   ],
   "source": [
    "for i in range(len(np_list)):\n",
    "    print(type(i))"
   ]
  },
  {
   "cell_type": "code",
   "execution_count": 26,
   "id": "c77b15ae-431d-4fbf-808d-672105378dc3",
   "metadata": {},
   "outputs": [
    {
     "name": "stdout",
     "output_type": "stream",
     "text": [
      "<class 'int'>\n",
      "<class 'int'>\n",
      "<class 'int'>\n",
      "<class 'int'>\n",
      "<class 'int'>\n"
     ]
    }
   ],
   "source": [
    "for i in range(len(array_list)):\n",
    "    print(type(i))"
   ]
  },
  {
   "cell_type": "code",
   "execution_count": 28,
   "id": "9222cd98-f78b-419d-b922-09b13c6f3fb1",
   "metadata": {},
   "outputs": [],
   "source": [
    "import numpy as np\n",
    "list_ = [ \"1\" , \"2\", \"3\" , \"4\" , \"5\" ]\n",
    "array_list = np.array(object = list_)"
   ]
  },
  {
   "cell_type": "code",
   "execution_count": 30,
   "id": "517fa4d2-b4ee-40b2-8c2f-4a8abaf14845",
   "metadata": {},
   "outputs": [
    {
     "name": "stdout",
     "output_type": "stream",
     "text": [
      "<class 'str'>\n",
      "<class 'str'>\n",
      "<class 'str'>\n",
      "<class 'str'>\n",
      "<class 'str'>\n"
     ]
    }
   ],
   "source": [
    "for i in range(len(list_)):\n",
    "    print(type(list_[i]))"
   ]
  },
  {
   "cell_type": "code",
   "execution_count": 31,
   "id": "d89b8941-09ab-469f-bb6a-449d510aa8ab",
   "metadata": {},
   "outputs": [
    {
     "name": "stdout",
     "output_type": "stream",
     "text": [
      "<class 'numpy.str_'>\n",
      "<class 'numpy.str_'>\n",
      "<class 'numpy.str_'>\n",
      "<class 'numpy.str_'>\n",
      "<class 'numpy.str_'>\n"
     ]
    }
   ],
   "source": [
    "for i in range(len(array_list)):\n",
    "    print(type(array_list[i]))"
   ]
  },
  {
   "cell_type": "code",
   "execution_count": 32,
   "id": "c908857f-4734-4718-a7b0-b8e6f8c2d9a9",
   "metadata": {},
   "outputs": [],
   "source": [
    "array_list = np.array(object = list_, dtype = int)"
   ]
  },
  {
   "cell_type": "code",
   "execution_count": 33,
   "id": "fe6e1894-9d6f-405a-94aa-d1eff74415b8",
   "metadata": {},
   "outputs": [
    {
     "data": {
      "text/plain": [
       "array([1, 2, 3, 4, 5])"
      ]
     },
     "execution_count": 33,
     "metadata": {},
     "output_type": "execute_result"
    }
   ],
   "source": [
    "array_list"
   ]
  },
  {
   "cell_type": "code",
   "execution_count": 34,
   "id": "05864973-8a0f-4110-aee2-020d14013b7d",
   "metadata": {},
   "outputs": [
    {
     "name": "stdout",
     "output_type": "stream",
     "text": [
      "<class 'numpy.int64'>\n",
      "<class 'numpy.int64'>\n",
      "<class 'numpy.int64'>\n",
      "<class 'numpy.int64'>\n",
      "<class 'numpy.int64'>\n"
     ]
    }
   ],
   "source": [
    "for i in range(len(array_list)):\n",
    "    print(type(array_list[i]))"
   ]
  },
  {
   "cell_type": "markdown",
   "id": "da58fb40-d444-4412-8f3e-666b9cba2871",
   "metadata": {},
   "source": [
    "Will there be any difference in the data type of the elements present in both the variables, list_ and\n",
    "arra_list? If so then print the data types of each and every element present in both the variables, list_\n",
    "and arra_list."
   ]
  },
  {
   "cell_type": "markdown",
   "id": "f56b56fe-76fe-4305-958c-3c02a8d3830d",
   "metadata": {},
   "source": [
    "yes there will be change in the data type variable list is having str data type where else arra_list has numpy.int64 data type ., i have printed above"
   ]
  },
  {
   "cell_type": "markdown",
   "id": "1acf672a-85fc-4675-a232-b94c89e83ed6",
   "metadata": {},
   "source": [
    "Consider the below code to answer further questions:"
   ]
  },
  {
   "cell_type": "code",
   "execution_count": 35,
   "id": "27aa485b-3ab8-4c6b-bcde-84d302b6b329",
   "metadata": {},
   "outputs": [],
   "source": [
    "import numpy as np\n",
    "num_list = [ [ 1 , 2 , 3 ] , [ 4 , 5 , 6 ] ]\n",
    "num_array = np.array(object = num_list)"
   ]
  },
  {
   "cell_type": "markdown",
   "id": "f61c0289-7681-4e44-8b83-fe067276cd2a",
   "metadata": {},
   "source": [
    "Q4. Write a code to find the following characteristics of variable, num_array:\n",
    "(i) shape\n",
    "(ii) size"
   ]
  },
  {
   "cell_type": "code",
   "execution_count": 38,
   "id": "ce320a31-8aa6-4752-bb85-b3cdc84964ea",
   "metadata": {},
   "outputs": [
    {
     "data": {
      "text/plain": [
       "(2, 3)"
      ]
     },
     "execution_count": 38,
     "metadata": {},
     "output_type": "execute_result"
    }
   ],
   "source": [
    "num_array.shape"
   ]
  },
  {
   "cell_type": "code",
   "execution_count": 39,
   "id": "6ee8baed-35c5-450e-9387-57ec03e59063",
   "metadata": {},
   "outputs": [
    {
     "data": {
      "text/plain": [
       "6"
      ]
     },
     "execution_count": 39,
     "metadata": {},
     "output_type": "execute_result"
    }
   ],
   "source": [
    "num_array.size"
   ]
  },
  {
   "cell_type": "code",
   "execution_count": 40,
   "id": "9fd09bdd-2261-4baf-8a7e-8209306719cc",
   "metadata": {},
   "outputs": [
    {
     "data": {
      "text/plain": [
       "2"
      ]
     },
     "execution_count": 40,
     "metadata": {},
     "output_type": "execute_result"
    }
   ],
   "source": [
    "num_array.ndim"
   ]
  },
  {
   "cell_type": "markdown",
   "id": "b2392987-9832-4607-9487-3e8489df2753",
   "metadata": {},
   "source": [
    "Q5. Write a code to create numpy array of 3*3 matrix containing zeros only, using a numpy array\n",
    "creation function.\n",
    "[Hint: The size of the array will be 9 and the shape will be (3,3).]"
   ]
  },
  {
   "cell_type": "code",
   "execution_count": 41,
   "id": "fa9945a5-4a43-47c5-be02-0bef192e654f",
   "metadata": {},
   "outputs": [],
   "source": [
    "import numpy as np"
   ]
  },
  {
   "cell_type": "code",
   "execution_count": 45,
   "id": "1119afbc-f641-464d-ad10-022ed7627941",
   "metadata": {},
   "outputs": [
    {
     "ename": "SyntaxError",
     "evalue": "invalid syntax. Maybe you meant '==' or ':=' instead of '='? (2919075616.py, line 1)",
     "output_type": "error",
     "traceback": [
      "\u001b[0;36m  Cell \u001b[0;32mIn[45], line 1\u001b[0;36m\u001b[0m\n\u001b[0;31m    yo=np.zeros((3,3,dtype=int))\u001b[0m\n\u001b[0m                     ^\u001b[0m\n\u001b[0;31mSyntaxError\u001b[0m\u001b[0;31m:\u001b[0m invalid syntax. Maybe you meant '==' or ':=' instead of '='?\n"
     ]
    }
   ],
   "source": [
    "yo=np.zeros((3,3,dtype=int))"
   ]
  },
  {
   "cell_type": "code",
   "execution_count": 44,
   "id": "92cfaedf-0137-41e3-b18f-2af4f82a5378",
   "metadata": {},
   "outputs": [
    {
     "data": {
      "text/plain": [
       "array([[0., 0., 0.],\n",
       "       [0., 0., 0.],\n",
       "       [0., 0., 0.]])"
      ]
     },
     "execution_count": 44,
     "metadata": {},
     "output_type": "execute_result"
    }
   ],
   "source": [
    "yo"
   ]
  },
  {
   "cell_type": "code",
   "execution_count": null,
   "id": "b041c5e0-270a-400e-a36e-4b007eebdf54",
   "metadata": {},
   "outputs": [],
   "source": []
  }
 ],
 "metadata": {
  "kernelspec": {
   "display_name": "Python 3 (ipykernel)",
   "language": "python",
   "name": "python3"
  },
  "language_info": {
   "codemirror_mode": {
    "name": "ipython",
    "version": 3
   },
   "file_extension": ".py",
   "mimetype": "text/x-python",
   "name": "python",
   "nbconvert_exporter": "python",
   "pygments_lexer": "ipython3",
   "version": "3.10.8"
  }
 },
 "nbformat": 4,
 "nbformat_minor": 5
}
