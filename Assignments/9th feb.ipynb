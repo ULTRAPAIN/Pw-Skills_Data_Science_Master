{
 "cells": [
  {
   "cell_type": "markdown",
   "id": "6aaf6db4-b530-4358-b874-712957d56179",
   "metadata": {},
   "source": [
    "Q1, Create a vehicle class with an init method having instance variables as name_of_vehicle, max_speed\n",
    "and average_of_vehicle."
   ]
  },
  {
   "cell_type": "code",
   "execution_count": 45,
   "id": "2e300d55-2f98-43dd-b693-ef581aacd197",
   "metadata": {},
   "outputs": [],
   "source": [
    "class vehicle:\n",
    "    def __init__(self,name_of_vehicle,max_speed,average_of_vehicle):\n",
    "        self.name=name_of_vehicle\n",
    "        self.speed=max_speed\n",
    "        self.average=average_of_vehicle\n",
    "        \n",
    "    def display(self):\n",
    "        return self.name ,self.speed ,self.average"
   ]
  },
  {
   "cell_type": "markdown",
   "id": "515e71f2-f03c-4156-829b-a9a5c05cd7ce",
   "metadata": {},
   "source": [
    "Q2. Create a child class car from the vehicle class created in Que 1, which will inherit the vehicle class.\n",
    "Create a method named seating_capacity which takes capacity as an argument and returns the name of\n",
    "the vehicle and its seating capacity."
   ]
  },
  {
   "cell_type": "code",
   "execution_count": 47,
   "id": "93463b7c-7017-4cc6-81c7-bf7fb39d5c59",
   "metadata": {},
   "outputs": [],
   "source": [
    "class car(vehicle):\n",
    "    def seating_capacity(self,capacity):\n",
    "        return capacity , self.name"
   ]
  },
  {
   "cell_type": "code",
   "execution_count": 50,
   "id": "a5fba4f2-971b-48a3-9aab-969517bebe29",
   "metadata": {},
   "outputs": [],
   "source": [
    "car1=car(\"land cruiser\",120,\"25km/litre\")"
   ]
  },
  {
   "cell_type": "code",
   "execution_count": 51,
   "id": "4152b8b1-7a75-484f-91a9-b6a4376b002e",
   "metadata": {},
   "outputs": [
    {
     "data": {
      "text/plain": [
       "(7, 'land cruiser')"
      ]
     },
     "execution_count": 51,
     "metadata": {},
     "output_type": "execute_result"
    }
   ],
   "source": [
    "car1.seating_capacity(7)\n"
   ]
  },
  {
   "cell_type": "markdown",
   "id": "e62759a8-c2e5-4204-a47c-bb55ca7ae5e1",
   "metadata": {},
   "source": [
    "Q3. What is multiple inheritance? Write a python code to demonstrate multiple inheritance."
   ]
  },
  {
   "cell_type": "markdown",
   "id": "addf1200-e147-4ec6-8f7f-3696142180d4",
   "metadata": {},
   "source": [
    "multiple inheritance means iheritang the properties from more than one class to the another class is known as multiple inheritance."
   ]
  },
  {
   "cell_type": "code",
   "execution_count": 57,
   "id": "cd2eac17-b3fb-4d3c-8ad3-e3417d6e491b",
   "metadata": {},
   "outputs": [],
   "source": [
    "class class1:\n",
    "    def test_class1(self):\n",
    "        return \"This is a maths from class1\"\n"
   ]
  },
  {
   "cell_type": "code",
   "execution_count": 58,
   "id": "a54d5237-a5b3-40fd-a77b-c193859bcade",
   "metadata": {},
   "outputs": [],
   "source": [
    "\n",
    "class class5:\n",
    "    def test_class5(self):\n",
    "        return \"This is a Maths from class5\""
   ]
  },
  {
   "cell_type": "code",
   "execution_count": 59,
   "id": "816ba9d6-91eb-4ec2-bca8-2045982c1f62",
   "metadata": {},
   "outputs": [],
   "source": [
    "class class4(class1,class5):\n",
    "    pass"
   ]
  },
  {
   "cell_type": "code",
   "execution_count": 60,
   "id": "6edfea99-b3bb-4366-abe1-fd463de3e0c0",
   "metadata": {},
   "outputs": [],
   "source": [
    "class_4obj=class4()"
   ]
  },
  {
   "cell_type": "code",
   "execution_count": 63,
   "id": "87d9d11b-4eca-49ee-b7f0-a916639273f2",
   "metadata": {},
   "outputs": [
    {
     "data": {
      "text/plain": [
       "'This is a maths from class1'"
      ]
     },
     "execution_count": 63,
     "metadata": {},
     "output_type": "execute_result"
    }
   ],
   "source": [
    "class4.test_class1(1)"
   ]
  },
  {
   "cell_type": "code",
   "execution_count": 66,
   "id": "c5a0ba77-3c36-4182-a7bf-df7266b08b1f",
   "metadata": {},
   "outputs": [
    {
     "data": {
      "text/plain": [
       "'This is a Maths from class5'"
      ]
     },
     "execution_count": 66,
     "metadata": {},
     "output_type": "execute_result"
    }
   ],
   "source": [
    "class4.test_class5(1)"
   ]
  },
  {
   "cell_type": "markdown",
   "id": "2c6afcf0-1e79-448e-9142-cbbf217212d3",
   "metadata": {},
   "source": [
    "Q4. What are getter and setter in python? Create a class and create a getter and a setter method in this\n",
    "class."
   ]
  },
  {
   "cell_type": "markdown",
   "id": "e32a6941-2134-4f91-aa16-a38fef4fd3ac",
   "metadata": {},
   "source": [
    "In Python, a getter and a setter are two methods that allow for controlled access to class attributes. The getter method retrieves the value of an attribute, while the setter method updates or sets the value of an attribute.\n",
    "\n",
    "Here is an example of a class with a getter and a setter method:"
   ]
  },
  {
   "cell_type": "code",
   "execution_count": 89,
   "id": "929ad601-f386-44cc-b602-52649f0e1b76",
   "metadata": {},
   "outputs": [],
   "source": [
    "class myself:\n",
    "    def __init__(self,name,age,dob,place):\n",
    "        self.__name=name\n",
    "        self.__age=age\n",
    "        self.__dob=dob\n",
    "        self.__place=place\n",
    "    \n",
    "    def get_name(self):\n",
    "        return self.__name\n",
    "    \n",
    "    def get_age(self):\n",
    "        return self.__age\n",
    "    \n",
    "    def get_dob(self):\n",
    "        return self.__dob\n",
    "    \n",
    "    def get_place(self): \n",
    "        return self.__place\n",
    "    \n",
    "    def set_name(self,name):\n",
    "        self.__name=name\n",
    "            \n",
    "    "
   ]
  },
  {
   "cell_type": "code",
   "execution_count": 91,
   "id": "e72a46dc-9b7e-49fa-b870-114d20711418",
   "metadata": {},
   "outputs": [],
   "source": [
    "person1=myself(\"kavita\",20,\"18/10/2002\",\"goliya\")"
   ]
  },
  {
   "cell_type": "code",
   "execution_count": 92,
   "id": "5656f79c-674a-4bec-bd19-500fe0fb0a23",
   "metadata": {},
   "outputs": [
    {
     "data": {
      "text/plain": [
       "20"
      ]
     },
     "execution_count": 92,
     "metadata": {},
     "output_type": "execute_result"
    }
   ],
   "source": [
    "person1.get_age()"
   ]
  },
  {
   "cell_type": "code",
   "execution_count": 93,
   "id": "f1bc81aa-4516-44cb-b87e-af96eba4ff52",
   "metadata": {},
   "outputs": [
    {
     "data": {
      "text/plain": [
       "'18/10/2002'"
      ]
     },
     "execution_count": 93,
     "metadata": {},
     "output_type": "execute_result"
    }
   ],
   "source": [
    "person1.get_dob()"
   ]
  },
  {
   "cell_type": "code",
   "execution_count": 94,
   "id": "698d1c43-e4e4-4f97-a44e-6fd5888ca2f9",
   "metadata": {},
   "outputs": [
    {
     "data": {
      "text/plain": [
       "'kavita'"
      ]
     },
     "execution_count": 94,
     "metadata": {},
     "output_type": "execute_result"
    }
   ],
   "source": [
    "person1.get_name()"
   ]
  },
  {
   "cell_type": "code",
   "execution_count": 95,
   "id": "a2647f24-d62a-4251-9cc4-541d115e7ade",
   "metadata": {},
   "outputs": [
    {
     "data": {
      "text/plain": [
       "'goliya'"
      ]
     },
     "execution_count": 95,
     "metadata": {},
     "output_type": "execute_result"
    }
   ],
   "source": [
    "person1.get_place()"
   ]
  },
  {
   "cell_type": "code",
   "execution_count": 98,
   "id": "e63eb152-74a8-44ce-bebd-8d89db501467",
   "metadata": {},
   "outputs": [
    {
     "data": {
      "text/plain": [
       "'dassu'"
      ]
     },
     "execution_count": 98,
     "metadata": {},
     "output_type": "execute_result"
    }
   ],
   "source": [
    "person1.set_name(\"dassu\")\n",
    "person1.get_name()"
   ]
  },
  {
   "cell_type": "markdown",
   "id": "e145c61b-6f8d-423b-a034-5a3891da7fb2",
   "metadata": {},
   "source": [
    "Q5.What is method overriding in python? Write a python code to demonstrate method overriding."
   ]
  },
  {
   "cell_type": "markdown",
   "id": "3051a780-8080-4ad5-994a-0b6329882621",
   "metadata": {},
   "source": [
    "Method overriding is a concept in object-oriented programming where a subclass provides its own implementation of a method that is already defined in its parent class. In other words, the subclass provides a different implementation of the method, which replaces the implementation inherited from the parent class."
   ]
  },
  {
   "cell_type": "code",
   "execution_count": 99,
   "id": "8d3ba22c-a334-452d-b0a9-f4040ec3c6af",
   "metadata": {},
   "outputs": [],
   "source": [
    "class method:\n",
    "    def display(self):\n",
    "        return \"This is the method of class  Method\""
   ]
  },
  {
   "cell_type": "code",
   "execution_count": 100,
   "id": "fed8bb75-8b10-4c08-bb25-992b1e22efb2",
   "metadata": {},
   "outputs": [],
   "source": [
    "class method2(method):# single inheritance here\n",
    "    def display(self):\n",
    "        return \"This is My Method of class Method 2\""
   ]
  },
  {
   "cell_type": "code",
   "execution_count": null,
   "id": "ef14e780-6a52-4ee5-aa1b-d4250b02d640",
   "metadata": {},
   "outputs": [],
   "source": [
    "class_obj2"
   ]
  }
 ],
 "metadata": {
  "kernelspec": {
   "display_name": "Python 3",
   "language": "python",
   "name": "python3"
  },
  "language_info": {
   "codemirror_mode": {
    "name": "ipython",
    "version": 3
   },
   "file_extension": ".py",
   "mimetype": "text/x-python",
   "name": "python",
   "nbconvert_exporter": "python",
   "pygments_lexer": "ipython3",
   "version": "3.10.10"
  },
  "vscode": {
   "interpreter": {
    "hash": "92b0ea29ee03fdf7526b9872fef3438864d3bfc0fd09bb8659462b3933012a13"
   }
  }
 },
 "nbformat": 4,
 "nbformat_minor": 5
}
