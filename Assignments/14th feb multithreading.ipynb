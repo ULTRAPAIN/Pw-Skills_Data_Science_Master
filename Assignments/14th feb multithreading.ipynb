{
 "cells": [
  {
   "attachments": {},
   "cell_type": "markdown",
   "metadata": {},
   "source": [
    "What is multithreading in python? why is it used? Name the module used to handle threads in python"
   ]
  },
  {
   "attachments": {},
   "cell_type": "markdown",
   "metadata": {},
   "source": [
    "multithreading basically means execution of multiple threads of a program in one cpu.It is used so that time complexity of the program decreases. the Module which is used to handle threads is threading . "
   ]
  },
  {
   "cell_type": "code",
   "execution_count": 1,
   "metadata": {},
   "outputs": [],
   "source": [
    "import threading"
   ]
  },
  {
   "attachments": {},
   "cell_type": "markdown",
   "metadata": {},
   "source": [
    "why threading module used? rite the use of the following functions\n",
    "1:-activecount()\n",
    "2:-currentThread\n",
    "3:-enumerate"
   ]
  },
  {
   "attachments": {},
   "cell_type": "markdown",
   "metadata": {},
   "source": [
    "The threading module is used in Python to create multiple threads of execution within a single process. This allows for parallel execution of multiple tasks or for more efficient use of system resources.\n",
    "\n",
    "Here are the descriptions of the three functions you asked for:\n",
    "\n",
    "activeCount() - This function returns the number of thread objects that are currently alive. This includes both daemon threads and non-daemon threads.\n",
    "\n",
    "currentThread() - This function returns a reference to the current thread object. This is useful for accessing attributes of the current thread, such as its name or ID.\n",
    "\n",
    "enumerate() - This function returns a list of all thread objects that are currently alive. This includes both daemon threads and non-daemon threads. The list includes the main thread and any threads that have been created using the Thread class."
   ]
  },
  {
   "attachments": {},
   "cell_type": "markdown",
   "metadata": {},
   "source": [
    "3. Explain the following functions\n",
    "1:- run\n",
    "2:- start\n",
    " 3:-join\n",
    "4:- isAlive"
   ]
  },
  {
   "cell_type": "code",
   "execution_count": 2,
   "metadata": {},
   "outputs": [
    {
     "name": "stdout",
     "output_type": "stream",
     "text": [
      "Thread Thread 1 started\n",
      "Thread Thread 2 started\n"
     ]
    },
    {
     "name": "stderr",
     "output_type": "stream",
     "text": [
      "C:\\Users\\Dashrath\\AppData\\Local\\Temp\\ipykernel_17744\\1103839431.py:4: DeprecationWarning: currentThread() is deprecated, use current_thread() instead\n",
      "  current_thread = threading.currentThread()\n"
     ]
    }
   ],
   "source": [
    "import threading\n",
    "\n",
    "def my_function():\n",
    "    current_thread = threading.currentThread()\n",
    "    print(f\"Thread {current_thread.name} started\")\n",
    "\n",
    "t1 = threading.Thread(target=my_function, name='Thread 1')\n",
    "t2 = threading.Thread(target=my_function, name='Thread 2')\n",
    "\n",
    "t1.start()\n",
    "t2.start()\n"
   ]
  },
  {
   "cell_type": "code",
   "execution_count": 3,
   "metadata": {},
   "outputs": [
    {
     "name": "stdout",
     "output_type": "stream",
     "text": [
      "Thread startedThread started\n",
      "\n",
      "Thread started\n",
      "Thread started\n",
      "Thread started\n",
      "There are currently 6 active threads\n"
     ]
    },
    {
     "name": "stderr",
     "output_type": "stream",
     "text": [
      "C:\\Users\\Dashrath\\AppData\\Local\\Temp\\ipykernel_17744\\1396899507.py:12: DeprecationWarning: activeCount() is deprecated, use active_count() instead\n",
      "  print(f\"There are currently {threading.activeCount()} active threads\")\n"
     ]
    }
   ],
   "source": [
    "import threading\n",
    "\n",
    "def my_function():\n",
    "    print(\"Thread started\")\n",
    "\n",
    "threads = []\n",
    "for i in range(5):\n",
    "    t = threading.Thread(target=my_function)\n",
    "    t.start()\n",
    "    threads.append(t)\n",
    "\n",
    "print(f\"There are currently {threading.activeCount()} active threads\")\n"
   ]
  },
  {
   "cell_type": "code",
   "execution_count": 6,
   "metadata": {},
   "outputs": [
    {
     "name": "stdout",
     "output_type": "stream",
     "text": [
      "Thread finishedThread finished\n",
      "Thread finished\n",
      "Thread finished\n",
      "Thread finished\n",
      "\n",
      "Thread MainThread is alive\n",
      "Thread IOPub is alive\n",
      "Thread Heartbeat is alive\n",
      "Thread Control is alive\n",
      "Thread IPythonHistorySavingThread is alive\n",
      "Thread Thread-2 is alive\n"
     ]
    }
   ],
   "source": [
    "import threading\n",
    "import time\n",
    "\n",
    "def my_function():\n",
    "    time.sleep(1)\n",
    "    print(\"Thread finished\")\n",
    "\n",
    "threads = []\n",
    "for i in range(5):\n",
    "    t = threading.Thread(target=my_function)\n",
    "    t.start()\n",
    "    threads.append(t)\n",
    "\n",
    "time.sleep(2)\n",
    "\n",
    "for thread in threading.enumerate():\n",
    "    print(f\"Thread {thread.name} is alive\")\n"
   ]
  },
  {
   "attachments": {},
   "cell_type": "markdown",
   "metadata": {},
   "source": [
    "3. Explain the following functions\n",
    " run\n",
    " start\n",
    " join\n",
    " isAlive"
   ]
  },
  {
   "cell_type": "markdown",
   "metadata": {},
   "source": [
    "Sure, here's an explanation of each function you asked for in the context of Python's threading module:\n",
    "\n",
    "run() - This method is the entry point for a thread when its start() method is called. It can be overridden in a subclass to define the code that will be run in the new thread. It should not be called directly.\n",
    "\n",
    "start() - This method starts the thread by calling its run() method in a separate thread of execution. Once a thread is started, it can only be started once. If you attempt to start a thread that has already been started, a RuntimeError will be raised.\n",
    "\n",
    "join() - This method blocks the calling thread until the thread on which it is called completes execution. If you don't call join() on a thread, the program will continue running even if the thread is still executing. You can pass a timeout value (in seconds) to join() to specify how long to wait for the thread to complete before giving up and continuing execution.\n",
    "\n",
    "isAlive() - This method returns True if the thread is currently executing (i.e., has been started but has not yet completed), and False otherwise."
   ]
  },
  {
   "attachments": {},
   "cell_type": "markdown",
   "metadata": {},
   "source": [
    "4. write a python program to create two threads. Thread one must print the list of squares and thread\n",
    "two must print the list of cubes"
   ]
  },
  {
   "cell_type": "code",
   "execution_count": 7,
   "metadata": {},
   "outputs": [
    {
     "name": "stdout",
     "output_type": "stream",
     "text": [
      "1 squared is 1\n",
      "2 squared is 4\n",
      "3 squared is 9\n",
      "4 squared is 16\n",
      "5 squared is 25\n",
      "6 squared is 36\n",
      "7 squared is 49\n",
      "8 squared is 64\n",
      "9 squared is 81\n",
      "10 squared is 100\n",
      "1 cubed is 1\n",
      "2 cubed is 8\n",
      "3 cubed is 27\n",
      "4 cubed is 64\n",
      "5 cubed is 125\n",
      "6 cubed is 216\n",
      "7 cubed is 343\n",
      "8 cubed is 512\n",
      "9 cubed is 729\n",
      "10 cubed is 1000\n",
      "All threads have finished\n"
     ]
    }
   ],
   "source": [
    "import threading\n",
    "\n",
    "def print_squares():\n",
    "    for i in range(1, 11):\n",
    "        print(f\"{i} squared is {i*i}\")\n",
    "\n",
    "def print_cubes():\n",
    "    for i in range(1, 11):\n",
    "        print(f\"{i} cubed is {i*i*i}\")\n",
    "\n",
    "t1 = threading.Thread(target=print_squares)\n",
    "t2 = threading.Thread(target=print_cubes)\n",
    "\n",
    "t1.start()\n",
    "t2.start()\n",
    "\n",
    "t1.join()\n",
    "t2.join()\n",
    "\n",
    "print(\"All threads have finished\")\n"
   ]
  },
  {
   "attachments": {},
   "cell_type": "markdown",
   "metadata": {},
   "source": [
    "5. State advantages and disadvantages of multithreading"
   ]
  },
  {
   "cell_type": "markdown",
   "metadata": {},
   "source": [
    "Multithreading has several advantages and disadvantages, as listed below:\n",
    "\n",
    "Advantages:\n",
    "\n",
    "Increased responsiveness and faster execution: Multithreading can improve the responsiveness of an application by allowing it to continue processing user input or other tasks while performing time-consuming operations in the background.\n",
    "Efficient resource utilization: Multithreading allows the efficient utilization of system resources such as CPU, memory, and I/O devices.\n",
    "Simplified program design: By breaking down a complex task into smaller subtasks, multithreading simplifies program design and makes it easier to write, understand, and maintain code.\n",
    "Enhanced modularity and flexibility: Multithreading allows code to be modularized into separate, independent threads, making it easier to reuse and modify different parts of the code separately.\n",
    "Disadvantages:\n",
    "\n",
    "Increased complexity: Multithreaded programming is more complex than single-threaded programming, and requires careful management of synchronization and coordination between threads.\n",
    "Difficulty in debugging: Multithreaded programs can be more difficult to debug, since they can exhibit subtle and hard-to-reproduce bugs related to race conditions and other synchronization issues.\n",
    "Increased memory usage: Multithreading requires additional memory to manage thread-specific data structures and resources, which can increase the overall memory usage of an application.\n",
    "Limited scalability: Although multithreading can improve performance on systems with multiple CPUs or cores, it may not scale well on systems with a limited number of processing resources, as the overhead of thread management may outweigh the benefits of concurrency.\n",
    "Overall, the decision to use multithreading in a particular application depends on the specific requirements of the application, the resources available, and the tradeoffs between performance, complexity, and maintainability."
   ]
  },
  {
   "attachments": {},
   "cell_type": "markdown",
   "metadata": {},
   "source": [
    "6. Explain deadlocks and race conditions."
   ]
  },
  {
   "attachments": {},
   "cell_type": "markdown",
   "metadata": {},
   "source": [
    "Deadlocks and race conditions are two common types of synchronization problems that can occur in multithreaded programs.\n",
    "\n",
    "Deadlock occurs when two or more threads are blocked, waiting for each other to release a resource or lock, resulting in a situation where none of the threads can proceed. Deadlocks can occur when threads acquire locks on resources in a different order, or when a thread holds a lock while waiting for another resource, resulting in a circular dependency. Deadlocks can be difficult to diagnose and fix, since they can occur sporadically and depend on the timing and behavior of multiple threads.\n",
    "\n",
    "Race conditions occur when two or more threads access a shared resource or variable simultaneously, resulting in unpredictable and inconsistent behavior. Race conditions can occur when the timing and order of thread execution are not explicitly controlled or synchronized, and can result in corrupted data, unexpected behavior, or even program crashes. Race conditions can be avoided by using synchronization mechanisms such as locks, semaphores, and barriers to ensure that only one thread accesses a shared resource at a time."
   ]
  },
  {
   "cell_type": "markdown",
   "metadata": {},
   "source": []
  }
 ],
 "metadata": {
  "kernelspec": {
   "display_name": "Python 3",
   "language": "python",
   "name": "python3"
  },
  "language_info": {
   "codemirror_mode": {
    "name": "ipython",
    "version": 3
   },
   "file_extension": ".py",
   "mimetype": "text/x-python",
   "name": "python",
   "nbconvert_exporter": "python",
   "pygments_lexer": "ipython3",
   "version": "3.10.10"
  },
  "orig_nbformat": 4
 },
 "nbformat": 4,
 "nbformat_minor": 2
}
