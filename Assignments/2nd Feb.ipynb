{
 "cells": [
  {
   "cell_type": "code",
   "execution_count": 3,
   "id": "cd14e631-bf23-4a49-ac69-132177a6d587",
   "metadata": {},
   "outputs": [
    {
     "data": {
      "text/plain": [
       "'we use for loop and while loop for performing iterarions \\n, or to display more no of outcomes \\n, best example for for loop is to display the data of many persons, example school data , name rollno grades , \\nthis is possible through loops such as for and while loop in backend '"
      ]
     },
     "execution_count": 3,
     "metadata": {},
     "output_type": "execute_result"
    }
   ],
   "source": [
    "# Q:1>Explain with an example each when to use a for loop and a while loop.\n",
    "'''we use for loop and while loop for performing iterarions \n",
    ", or to display more no of outcomes \n",
    ", best example for for loop is to display the data of many persons, example school data , name rollno grades , \n",
    "this is possible through loops such as for and while loop in backend '''"
   ]
  },
  {
   "cell_type": "code",
   "execution_count": 5,
   "id": "1ff88dc0-7c8f-4bd0-a469-07916981107f",
   "metadata": {},
   "outputs": [
    {
     "name": "stdout",
     "output_type": "stream",
     "text": [
      "sum of the first 10 Natural Numbers is 55\n",
      "product of the first 10 Natural Numbers is 3628800\n"
     ]
    }
   ],
   "source": [
    "# Q:2>Write a python program to print the sum and product of the first 10 natural numbers using for and while loop.\n",
    "\n",
    "#using for loop\n",
    "sum =0\n",
    "product =1\n",
    "for i in range(1,11):\n",
    "    sum=sum+i\n",
    "    product=product*i\n",
    "print(f\"sum of the first 10 Natural Numbers is {sum}\")\n",
    "print(f\"product of the first 10 Natural Numbers is {product}\")"
   ]
  },
  {
   "cell_type": "code",
   "execution_count": 6,
   "id": "b937bc6a-d13b-4116-8857-5c1df5a5ef61",
   "metadata": {},
   "outputs": [
    {
     "name": "stdout",
     "output_type": "stream",
     "text": [
      "sum of the first 10 Natural Numbers is 55\n",
      "product of the first 10 Natural Numbers is 3628800\n"
     ]
    }
   ],
   "source": [
    "#using while loop\n",
    "i=1\n",
    "while i>=10:\n",
    "    sum+=i\n",
    "    product*=i\n",
    "print(f\"sum of the first 10 Natural Numbers is {sum}\")\n",
    "print(f\"product of the first 10 Natural Numbers is {product}\")"
   ]
  },
  {
   "cell_type": "code",
   "execution_count": 15,
   "id": "0db214a0-6afb-4612-ad1e-62c2014f34e6",
   "metadata": {},
   "outputs": [],
   "source": [
    "# '''Q3. Create a python program to compute the electricity bill for a household.\n",
    "\n",
    "# The per-unit charges in rupees are as follows: For the first 100 units, the user will be charged Rs. 4.5 per\n",
    "# unit, for the next 100 units, the user will be charged Rs. 6 per unit, and for the next 100 units, the user will\n",
    "# be charged Rs. 10 per unit, After 300 units and above the user will be charged Rs. 20 per unit.'''\n"
   ]
  },
  {
   "cell_type": "code",
   "execution_count": 13,
   "id": "6d481df3-424a-4052-98aa-82521e35ee2a",
   "metadata": {},
   "outputs": [
    {
     "name": "stdin",
     "output_type": "stream",
     "text": [
      "Enter your charge of household bill 310\n"
     ]
    },
    {
     "name": "stdout",
     "output_type": "stream",
     "text": [
      "Total Household bill is Rs :- 2250.0\n"
     ]
    }
   ],
   "source": [
    "units=float(input(\"Enter your charge of household bill\"))\n",
    "if units<=100:\n",
    "    charge=4.5*units\n",
    "elif units<=200:\n",
    "    charge=(100*4.5)+(units-100)*6\n",
    "elif units<=300:\n",
    "    charge=(4.5*100)+(100*6)+ (units-200)*10\n",
    "else:\n",
    "          charge=(4.5*100)+(100*6)+(100*10)+(units-300)*20\n",
    "print(f\"Total Household bill is Rs :- {charge}\")\n",
    "           \n",
    "           "
   ]
  },
  {
   "cell_type": "code",
   "execution_count": 14,
   "id": "c7765720-548a-4443-906a-cb6945853551",
   "metadata": {},
   "outputs": [],
   "source": [
    "# Q4. Create a list of numbers from 1 to 100. Use for loop and while loop to calculate the cube of each\n",
    "# number and if the cube of that number is divisible by 4 or 5 then append that number in a list and print\n",
    "# that list.\n"
   ]
  },
  {
   "cell_type": "code",
   "execution_count": 24,
   "id": "310c734d-8f02-4b2e-b11f-7a97598088ca",
   "metadata": {},
   "outputs": [
    {
     "name": "stdout",
     "output_type": "stream",
     "text": [
      "[1, 2, 3, 4, 5, 6, 7, 8, 9, 10, 11, 12, 13, 14, 15, 16, 17, 18, 19, 20, 21, 22, 23, 24, 25, 26, 27, 28, 29, 30, 31, 32, 33, 34, 35, 36, 37, 38, 39, 40, 41, 42, 43, 44, 45, 46, 47, 48, 49, 50, 51, 52, 53, 54, 55, 56, 57, 58, 59, 60, 61, 62, 63, 64, 65, 66, 67, 68, 69, 70, 71, 72, 73, 74, 75, 76, 77, 78, 79, 80, 81, 82, 83, 84, 85, 86, 87, 88, 89, 90, 91, 92, 93, 94, 95, 96, 97, 98, 99, 100]\n"
     ]
    }
   ],
   "source": [
    "l1=[]\n",
    "for i in range(1,101):\n",
    "    l1.append(i)\n",
    "print(l1)\n",
    "# Created this list from 0 to 100 numbers \n"
   ]
  },
  {
   "cell_type": "code",
   "execution_count": 23,
   "id": "347e06cc-acfa-4188-b0ab-2b89eb247c9b",
   "metadata": {},
   "outputs": [
    {
     "name": "stdout",
     "output_type": "stream",
     "text": [
      "[2, 4, 5, 6, 8, 10, 12, 14, 15, 16, 18, 20, 22, 24, 25, 26, 28, 30, 32, 34, 35, 36, 38, 40, 42, 44, 45, 46, 48, 50, 52, 54, 55, 56, 58, 60, 62, 64, 65, 66, 68, 70, 72, 74, 75, 76, 78, 80, 82, 84, 85, 86, 88, 90, 92, 94, 95, 96, 98, 100]\n"
     ]
    }
   ],
   "source": [
    "l2=[]\n",
    "for i in l1:\n",
    "    cube=i**3\n",
    "    if cube%4==0 or cube%5==0:\n",
    "        l2.append(i)\n",
    "print(l2)"
   ]
  },
  {
   "cell_type": "code",
   "execution_count": null,
   "id": "c0a3f27e-b408-4ec1-890b-97117918f563",
   "metadata": {},
   "outputs": [],
   "source": [
    "# Write a program to filter count vowels in the below-given string.\n",
    "# string = \"I want to become a data scientist\""
   ]
  },
  {
   "cell_type": "code",
   "execution_count": 36,
   "id": "814b49d0-3fc1-4d20-a6cf-7f5c2f3815ba",
   "metadata": {},
   "outputs": [
    {
     "name": "stdout",
     "output_type": "stream",
     "text": [
      "[' ', 'w', 'n', 't', ' ', 't', ' ', 'b', 'c', 'm', ' ', ' ', 'd', 't', ' ', 's', 'c', 'n', 't', 's', 't']\n",
      "12\n"
     ]
    }
   ],
   "source": [
    "string = \"I want to become a data scientist\"\n",
    "c=0\n",
    "s1=[]\n",
    "for i in string:\n",
    "    if i==\"a\" or i==\"e\" or i==\"i\" or i==\"o\" or i==\"u\" or i==\"A\" or i==\"E\" or i==\"O\" or i ==\"U\" or i==\"I\":\n",
    "        c=c+1\n",
    "        continue\n",
    "    s1.append(i)\n",
    "print(c)\n",
    "for i in s1:\n",
    "    if i==\" \":\n",
    "        continue\n",
    "    else:\n",
    "        "
   ]
  },
  {
   "cell_type": "code",
   "execution_count": null,
   "id": "3974b2c0-a5cd-4c60-852a-26fbe80681d9",
   "metadata": {},
   "outputs": [],
   "source": []
  }
 ],
 "metadata": {
  "kernelspec": {
   "display_name": "Python 3 (ipykernel)",
   "language": "python",
   "name": "python3"
  },
  "language_info": {
   "codemirror_mode": {
    "name": "ipython",
    "version": 3
   },
   "file_extension": ".py",
   "mimetype": "text/x-python",
   "name": "python",
   "nbconvert_exporter": "python",
   "pygments_lexer": "ipython3",
   "version": "3.10.8"
  }
 },
 "nbformat": 4,
 "nbformat_minor": 5
}
