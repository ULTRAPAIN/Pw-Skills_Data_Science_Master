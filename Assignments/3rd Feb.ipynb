{
 "cells": [
  {
   "cell_type": "markdown",
   "id": "8d0f3afa-4e51-471b-823a-35165723354d",
   "metadata": {},
   "source": [
    "Q1. Which keyword is used to create a function? Create a function to return a list of odd numbers in the\n",
    "range of 1 to 25."
   ]
  },
  {
   "cell_type": "markdown",
   "id": "b0345116-d5d0-42b5-8443-d1bc05147788",
   "metadata": {},
   "source": [
    "ANS:- def keyword is used for creating a function,"
   ]
  },
  {
   "cell_type": "code",
   "execution_count": 3,
   "id": "19222655-c3de-49b7-843d-0f00ff8d764e",
   "metadata": {},
   "outputs": [
    {
     "data": {
      "text/plain": [
       "[1, 3, 5, 7, 9, 11, 13, 15, 17, 19, 21, 23, 25]"
      ]
     },
     "execution_count": 3,
     "metadata": {},
     "output_type": "execute_result"
    }
   ],
   "source": [
    "def odd():\n",
    "    l=[]\n",
    "    for i in range(1,26):\n",
    "        if i%2==0:\n",
    "            continue\n",
    "        else:\n",
    "            l.append(i)\n",
    "    return l\n",
    "odd()"
   ]
  },
  {
   "cell_type": "markdown",
   "id": "4e074ce1-5dc9-4aa5-8d16-214fe8371b51",
   "metadata": {},
   "source": [
    "Q2. Why *args and **kwargs is used in some functions? Create a function each for *args and **kwargs\n",
    "to demonstrate their use."
   ]
  },
  {
   "cell_type": "markdown",
   "id": "cab0449e-116a-4e36-bfa5-851e875badb9",
   "metadata": {},
   "source": [
    "ANS:- *Args and **kwargs keyword is used for passing \n",
    "multiple data values to function without passing many variables to the function."
   ]
  },
  {
   "cell_type": "code",
   "execution_count": 4,
   "id": "3a71f4a6-550b-43f8-a424-831745572cad",
   "metadata": {},
   "outputs": [],
   "source": [
    "def args(*args):\n",
    "    return args"
   ]
  },
  {
   "cell_type": "code",
   "execution_count": 18,
   "id": "14e794e9-67ac-4162-a6e5-28e71490fd36",
   "metadata": {},
   "outputs": [],
   "source": [
    "def kwargs(**kwargs):\n",
    "    return kwargs"
   ]
  },
  {
   "cell_type": "code",
   "execution_count": 14,
   "id": "fec976d9-f911-449d-8bf7-213198109fc7",
   "metadata": {},
   "outputs": [
    {
     "data": {
      "text/plain": [
       "tuple"
      ]
     },
     "execution_count": 14,
     "metadata": {},
     "output_type": "execute_result"
    }
   ],
   "source": [
    "type(args())\n"
   ]
  },
  {
   "cell_type": "code",
   "execution_count": 15,
   "id": "9c8dc016-720b-487f-8c33-b39ae2371e35",
   "metadata": {},
   "outputs": [
    {
     "data": {
      "text/plain": [
       "dict"
      ]
     },
     "execution_count": 15,
     "metadata": {},
     "output_type": "execute_result"
    }
   ],
   "source": [
    "type(kwargs())"
   ]
  },
  {
   "cell_type": "code",
   "execution_count": 16,
   "id": "f034dd77-e187-433b-b8b9-0b9b04531957",
   "metadata": {},
   "outputs": [
    {
     "data": {
      "text/plain": [
       "(1, 2, 343.43, 32, 24, [2445, 3, 4, 2])"
      ]
     },
     "execution_count": 16,
     "metadata": {},
     "output_type": "execute_result"
    }
   ],
   "source": [
    "args(1,2,343.43,32,24,[2445,3,4,2])"
   ]
  },
  {
   "cell_type": "code",
   "execution_count": 24,
   "id": "ff06a5fb-70f2-4506-8ce0-78b678ead67b",
   "metadata": {},
   "outputs": [
    {
     "data": {
      "text/plain": [
       "{'key1': 'value1', 'key2': 'value2'}"
      ]
     },
     "execution_count": 24,
     "metadata": {},
     "output_type": "execute_result"
    }
   ],
   "source": [
    "kwargs(key1=\"value1\",key2=\"value2\")"
   ]
  },
  {
   "cell_type": "markdown",
   "id": "e74f46b3-6c9b-4eb8-9611-a38f390c8681",
   "metadata": {},
   "source": [
    "*args and **kwargs are special keyword which allows function to take variable length argument.\n",
    "\n",
    "*args passes variable number of non-keyworded arguments and on which operation of the tuple can be performed.\n",
    "\n",
    "**kwargs passes variable number of keyword arguments dictionary to function on which operation of a dictionary can be performed.\n",
    "\n",
    "*args and **kwargs make the function flexible."
   ]
  },
  {
   "cell_type": "markdown",
   "id": "c087fdcc-0ff9-448f-87ab-47a71ed9e9b0",
   "metadata": {},
   "source": [
    "Q3. What is an iterator in python? Name the method used to initialise the iterator object and the method\n",
    "used for iteration. Use these methods to print the first five elements of the given list [2, 4, 6, 8, 10, 12, 14,\n",
    "16, 18, 20]."
   ]
  },
  {
   "cell_type": "markdown",
   "id": "81a632ed-bb84-4b7e-96fb-ccc20606c02f",
   "metadata": {},
   "source": [
    "ANS:- AN iterator is an object that contains a countable number of values . \n",
    "iter method is used for intialise the iterable object .\n",
    "iter method is used for getting iterator.\n",
    "next method is used for iteration .\n"
   ]
  },
  {
   "cell_type": "code",
   "execution_count": 28,
   "id": "1c0f0113-b117-48f2-992e-a2c780cf1586",
   "metadata": {},
   "outputs": [
    {
     "name": "stdout",
     "output_type": "stream",
     "text": [
      "2\n",
      "4\n",
      "6\n",
      "8\n",
      "10\n"
     ]
    }
   ],
   "source": [
    "list=[2,4,6,8,10,12,14,16,18,20]\n",
    "i=iter(list)\n",
    "print(next(i))\n",
    "print(next(i))\n",
    "print(next(i))\n",
    "print(next(i))\n",
    "print(next(i))\n"
   ]
  },
  {
   "cell_type": "markdown",
   "id": "c48a5e53-f4ab-4a40-8dfb-9104e41974b1",
   "metadata": {},
   "source": [
    "Q4. What is a generator function in python? Why yield keyword is used? Give an example of a generator\n",
    "function."
   ]
  },
  {
   "cell_type": "markdown",
   "id": "7d66d89f-ef59-4415-9124-6045dd8d46c5",
   "metadata": {},
   "source": [
    "In Python, a generator function is a type of function that uses the yield keyword to return values one at a time. Unlike a regular function, which returns a single value and then exits, a generator function can pause execution and return a value, and then resume execution from where it left off the next time it is called.\n",
    "\n",
    "The yield keyword is used to indicate where the generator should pause and return a value. When the generator is called again, it will resume execution from the point where it left off and continue until it hits the next yield statement."
   ]
  },
  {
   "cell_type": "code",
   "execution_count": 1,
   "id": "5db9c6be-cac4-4c85-9953-1370996022a6",
   "metadata": {},
   "outputs": [],
   "source": [
    "def generate_evens(n):\n",
    "    for i in range(n):\n",
    "        if i % 2 == 0:\n",
    "            yield i"
   ]
  },
  {
   "cell_type": "code",
   "execution_count": 2,
   "id": "afda9460-8ec1-4df3-bd82-6d775f18ca00",
   "metadata": {},
   "outputs": [
    {
     "name": "stdout",
     "output_type": "stream",
     "text": [
      "0\n",
      "2\n",
      "4\n",
      "6\n",
      "8\n"
     ]
    }
   ],
   "source": [
    "for num in generate_evens(10):\n",
    "    print(num)"
   ]
  },
  {
   "cell_type": "markdown",
   "id": "d4fd6e42-55aa-497b-a361-8efda3e85db2",
   "metadata": {},
   "source": [
    "Q5. Create a generator function for prime numbers less than 1000. Use the next() method to print the\n",
    "first 20 prime numbers."
   ]
  },
  {
   "cell_type": "code",
   "execution_count": 21,
   "id": "93325cb4-c224-405b-8b62-8eb7b37517c7",
   "metadata": {},
   "outputs": [
    {
     "name": "stdout",
     "output_type": "stream",
     "text": [
      "2\n",
      "3\n",
      "5\n",
      "7\n",
      "11\n",
      "13\n",
      "17\n",
      "19\n",
      "23\n",
      "29\n",
      "31\n",
      "37\n",
      "41\n",
      "43\n",
      "47\n",
      "53\n",
      "59\n",
      "61\n",
      "67\n",
      "71\n",
      "73\n"
     ]
    }
   ],
   "source": [
    "def prime(n):\n",
    "    for i in range(n+1):\n",
    "        if i>1:\n",
    "            for c in range(2,int(i/2)+1):\n",
    "                if i%c==0:\n",
    "                    break\n",
    "            else:\n",
    "                yield i\n",
    "        else:\n",
    "            continue\n",
    "num=prime(1000)\n",
    "for i in range(21):\n",
    "    print(next(num))"
   ]
  },
  {
   "cell_type": "markdown",
   "id": "e54a5e1e-0b0d-439b-9950-4da399338057",
   "metadata": {},
   "source": [
    "Q6. Write a python program to print the first 10 Fibonacci numbers using a while loop."
   ]
  },
  {
   "cell_type": "code",
   "execution_count": 28,
   "id": "2b281d66-f197-4b75-879e-47a63516cf6e",
   "metadata": {},
   "outputs": [
    {
     "name": "stdout",
     "output_type": "stream",
     "text": [
      "0\n",
      "1\n",
      "1\n",
      "2\n",
      "3\n",
      "5\n",
      "8\n",
      "13\n",
      "21\n",
      "34\n"
     ]
    }
   ],
   "source": [
    "a,b=0,1\n",
    "i=0\n",
    "while i<10:\n",
    "    print(a)\n",
    "    c=a+b\n",
    "    a=b\n",
    "    b=c\n",
    "    i=i+1"
   ]
  },
  {
   "cell_type": "markdown",
   "id": "cc44fe1a-47cc-4ac1-b159-0e4f1ee5bc52",
   "metadata": {},
   "source": [
    "Q7. Write a List Comprehension to iterate through the given string: ‘pwskills’.\n",
    "Expected output: ['p', 'w', 's', 'k', 'i', 'l', 'l', 's']"
   ]
  },
  {
   "cell_type": "code",
   "execution_count": 29,
   "id": "e69eb556-ba2d-4cf5-8e23-021e2a61af3e",
   "metadata": {},
   "outputs": [
    {
     "data": {
      "text/plain": [
       "['p', 'w', 's', 'k', 'i', 'l', 'l', 's']"
      ]
     },
     "execution_count": 29,
     "metadata": {},
     "output_type": "execute_result"
    }
   ],
   "source": [
    "word =\"pwskills\"\n",
    "[ i for i in word]"
   ]
  },
  {
   "cell_type": "markdown",
   "id": "f87db52d-874a-462a-9d93-2c2e8f9f9506",
   "metadata": {},
   "source": [
    "Q8. Write a python program to check whether a given number is Palindrome or not using a while loop."
   ]
  },
  {
   "cell_type": "markdown",
   "id": "2eebf950-e3f1-4bbc-bc31-76e9b2ba840d",
   "metadata": {},
   "source": [
    "palindrome nos are the no when reversed is same as the orignal no then its a palindrome no eg 121is a palindrome"
   ]
  },
  {
   "cell_type": "code",
   "execution_count": 43,
   "id": "1473273e-ca83-4140-ada8-2ff5c308ede3",
   "metadata": {},
   "outputs": [
    {
     "name": "stdin",
     "output_type": "stream",
     "text": [
      "Enter your number 121\n"
     ]
    },
    {
     "name": "stdout",
     "output_type": "stream",
     "text": [
      "121 is  a palindrome number\n"
     ]
    }
   ],
   "source": [
    "n = int(input(\"Enter your number\"))\n",
    "temp=n\n",
    "sum = 0\n",
    "while n > 0:\n",
    "    r = n%10\n",
    "    sum = sum*10+r\n",
    "    n = n//10\n",
    "if temp==sum :\n",
    "    print(f\"{temp} is  a palindrome number\")\n",
    "else:\n",
    "    print(f\"{temp} is not a palindrome number\")"
   ]
  },
  {
   "cell_type": "markdown",
   "id": "b668af15-b488-42dc-9602-9842e2e98582",
   "metadata": {},
   "source": [
    "Q9. Write a code to print odd numbers from 1 to 100 using list comprehension."
   ]
  },
  {
   "cell_type": "code",
   "execution_count": 50,
   "id": "ebbafa8a-c413-4831-b940-6fd1d3ee91a7",
   "metadata": {},
   "outputs": [
    {
     "data": {
      "text/plain": [
       "[2,\n",
       " 4,\n",
       " 6,\n",
       " 8,\n",
       " 10,\n",
       " 12,\n",
       " 14,\n",
       " 16,\n",
       " 18,\n",
       " 20,\n",
       " 22,\n",
       " 24,\n",
       " 26,\n",
       " 28,\n",
       " 30,\n",
       " 32,\n",
       " 34,\n",
       " 36,\n",
       " 38,\n",
       " 40,\n",
       " 42,\n",
       " 44,\n",
       " 46,\n",
       " 48,\n",
       " 50,\n",
       " 52,\n",
       " 54,\n",
       " 56,\n",
       " 58,\n",
       " 60,\n",
       " 62,\n",
       " 64,\n",
       " 66,\n",
       " 68,\n",
       " 70,\n",
       " 72,\n",
       " 74,\n",
       " 76,\n",
       " 78,\n",
       " 80,\n",
       " 82,\n",
       " 84,\n",
       " 86,\n",
       " 88,\n",
       " 90,\n",
       " 92,\n",
       " 94,\n",
       " 96,\n",
       " 98,\n",
       " 100]"
      ]
     },
     "execution_count": 50,
     "metadata": {},
     "output_type": "execute_result"
    }
   ],
   "source": [
    "[i for i in range(1,101) if i%2==0] "
   ]
  },
  {
   "cell_type": "code",
   "execution_count": null,
   "id": "2ec0257b-eb26-4b53-8dea-c818a996d9f7",
   "metadata": {},
   "outputs": [],
   "source": []
  }
 ],
 "metadata": {
  "kernelspec": {
   "display_name": "Python 3 (ipykernel)",
   "language": "python",
   "name": "python3"
  },
  "language_info": {
   "codemirror_mode": {
    "name": "ipython",
    "version": 3
   },
   "file_extension": ".py",
   "mimetype": "text/x-python",
   "name": "python",
   "nbconvert_exporter": "python",
   "pygments_lexer": "ipython3",
   "version": "3.10.8"
  }
 },
 "nbformat": 4,
 "nbformat_minor": 5
}
