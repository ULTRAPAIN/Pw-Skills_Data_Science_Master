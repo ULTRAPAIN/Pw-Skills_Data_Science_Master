{
 "cells": [
  {
   "attachments": {},
   "cell_type": "markdown",
   "metadata": {},
   "source": [
    "Q1. What is Web Scraping? Why is it Used? Give three areas where Web Scraping is used to get data."
   ]
  },
  {
   "attachments": {},
   "cell_type": "markdown",
   "metadata": {},
   "source": [
    "Web scraping is the automated process of extracting data from websites using specialized software tools. This involves extracting information from web pages, transforming the data into a structured format, and storing it for further analysis.\n",
    "\n",
    "Web scraping is used for a variety of purposes, including data mining, market research, content aggregation, and price monitoring.\n",
    "\n",
    "Three areas where web scraping is commonly used to get data are:\n",
    "\n",
    "E-commerce: Web scraping is used to collect product data from e-commerce websites, such as product descriptions, pricing, and customer reviews. This data can be used to monitor competitor prices, identify trends in customer behavior, and optimize pricing strategies.\n",
    "\n",
    "Market research: Web scraping can be used to gather data on competitors, industry trends, and consumer sentiment. This information can be used to inform market research and guide business decisions.\n",
    "\n",
    "Social media analysis: Web scraping can be used to collect data from social media platforms, such as tweets, posts, and comments. This data can be analyzed to gain insights into customer behavior, sentiment analysis, and brand reputation management."
   ]
  },
  {
   "attachments": {},
   "cell_type": "markdown",
   "metadata": {},
   "source": [
    "Q2. What are the different methods used for Web Scraping?"
   ]
  },
  {
   "attachments": {},
   "cell_type": "markdown",
   "metadata": {},
   "source": [
    "There are several methods used for web scraping, including:\n",
    "\n",
    "Manual scraping: This involves manually copying and pasting data from websites into a spreadsheet or other tool. This method is time-consuming and labor-intensive but can be useful for smaller data sets.\n",
    "\n",
    "Web scraping tools: There are a variety of specialized software tools available for web scraping, such as BeautifulSoup, Scrapy, and Selenium. These tools can automate the process of extracting data from websites and provide more advanced features, such as the ability to navigate through multiple pages of a website.\n",
    "\n",
    "APIs: Some websites provide APIs (Application Programming Interfaces) that allow developers to access data in a structured format. This method is often preferred as it provides access to data in a more controlled and reliable manner.\n",
    "\n",
    "Proxy services: Proxy services can be used to mask the IP address of the web scraper, making it difficult for websites to detect and block the scraper. This method is useful when scraping large amounts of data or when scraping from websites that have anti-scraping measures in place."
   ]
  },
  {
   "attachments": {},
   "cell_type": "markdown",
   "metadata": {},
   "source": [
    "Q3. What is Beautiful Soup? Why is it used?"
   ]
  },
  {
   "attachments": {},
   "cell_type": "markdown",
   "metadata": {},
   "source": [
    "Beautiful Soup is a Python library that is used for web scraping purposes. It allows developers to extract data from HTML and XML files by providing a simple and easy-to-use interface for parsing and manipulating the HTML and XML code.\n",
    "\n",
    "Beautiful Soup is used for web scraping because it provides a number of key features that make the process of parsing and extracting data from HTML and XML files much easier. These features include:\n",
    "\n",
    "Parsing HTML and XML: Beautiful Soup provides a set of tools for parsing and navigating HTML and XML files, allowing developers to easily extract the information they need.\n",
    "\n",
    "Navigating the DOM tree: The Document Object Model (DOM) tree is a hierarchical structure that represents the elements of an HTML or XML document. Beautiful Soup provides a set of functions for navigating this tree, making it easy to locate specific elements and extract data from them.\n",
    "\n",
    "Data extraction: Beautiful Soup provides a number of tools for extracting data from HTML and XML files, including regular expressions and CSS selectors.\n",
    "\n",
    "Clean up malformed HTML: Beautiful Soup can handle malformed HTML and XML files, making it easier to extract data from websites with less-than-perfect HTML or XML code.\n",
    "\n",
    "Overall, Beautiful Soup is a powerful tool for web scraping because it simplifies the process of extracting data from HTML and XML files, allowing developers to focus on analyzing the data rather than the technical details of parsing and navigating web pages."
   ]
  },
  {
   "attachments": {},
   "cell_type": "markdown",
   "metadata": {},
   "source": [
    "Q4. Why is flask used in this Web Scraping project?"
   ]
  },
  {
   "attachments": {},
   "cell_type": "markdown",
   "metadata": {},
   "source": [
    "Flask is a Python web framework that is used for building web applications. In the context of a web scraping project, Flask can be used to build a web application that displays the results of a web scrape. There are several reasons why Flask might be used in a web scraping project:\n",
    "\n",
    "Display scraped data: Flask can be used to build a web application that displays the data that has been scraped from a website. This allows users to view and interact with the data in a more user-friendly way than simply looking at raw data in a CSV or Excel file.\n",
    "\n",
    "Schedule scraping: Flask can be used to build a web application that schedules scraping tasks. This allows users to specify the frequency at which data should be scraped, and the results can be displayed in the web application.\n",
    "\n",
    "User authentication: Flask provides tools for implementing user authentication, which can be useful for restricting access to the results of a web scrape to authorized users.\n",
    "\n",
    "Deploying the scraper: Flask can be used to deploy the web scraper to a server or cloud platform, making it accessible to a wider audience.\n",
    "\n",
    "Overall, Flask is a useful tool for building a web application that interacts with scraped data. It provides a simple and flexible framework for building web applications, making it a popular choice for web scraping projects."
   ]
  },
  {
   "attachments": {},
   "cell_type": "markdown",
   "metadata": {},
   "source": [
    "Q5. Write the names of AWS services used in this project. Also, explain the use of each service."
   ]
  },
  {
   "attachments": {},
   "cell_type": "markdown",
   "metadata": {},
   "source": [
    "Basically in AWS service there are many services , but in this project there is use of only two service :-\n",
    "1:- Code pipeline\n",
    "2:- elastic beanstalk\n",
    "\n",
    "code pipeline acts basically like an intermediate between github and Beam stack. It takes the code from github and then send it to the beam stack.\n",
    "\n",
    "Elastic beanstalk :- It creates an environment where my project runs and can be run from any place by any person."
   ]
  },
  {
   "cell_type": "markdown",
   "metadata": {},
   "source": []
  }
 ],
 "metadata": {
  "language_info": {
   "name": "python"
  },
  "orig_nbformat": 4
 },
 "nbformat": 4,
 "nbformat_minor": 2
}
