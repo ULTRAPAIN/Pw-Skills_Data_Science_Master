{
 "cells": [
  {
   "cell_type": "code",
   "execution_count": null,
   "id": "41ab42fe-56bc-4330-b676-7f5facabb0b4",
   "metadata": {},
   "outputs": [],
   "source": [
    "1:- write a program to accept from the user\n",
    "    and display the grade according to the following criteria\n"
   ]
  },
  {
   "cell_type": "code",
   "execution_count": 2,
   "id": "849fd73e-568d-4ed0-9ad7-aa925270b900",
   "metadata": {},
   "outputs": [
    {
     "name": "stdin",
     "output_type": "stream",
     "text": [
      "Enter your percentage 80\n"
     ]
    },
    {
     "name": "stdout",
     "output_type": "stream",
     "text": [
      "Your Grade is C\n"
     ]
    }
   ],
   "source": [
    "marks=int(input(\"Enter your percentage\"))\n",
    "if marks>90:\n",
    "    print(\"Your Grade is A\")\n",
    "elif marks>80 and marks<=90:\n",
    "    print(\"Your Grade is B\")\n",
    "elif marks>=60 and marks<=80:\n",
    "    print(\"Your Grade is C\")\n",
    "else:\n",
    "    print(\"Your Grade is D\")\n",
    "        "
   ]
  },
  {
   "cell_type": "code",
   "execution_count": 3,
   "id": "4e95caed-2bc9-4f17-a912-871c24a2eed6",
   "metadata": {},
   "outputs": [],
   "source": [
    " 2:- Write a program to accept the cost price of a bike and display the road tax\n",
    "     to be paid according to the following criteria"
   ]
  },
  {
   "cell_type": "code",
   "execution_count": 4,
   "id": "75c5e68b-86e8-4009-b21d-96ee35a4a038",
   "metadata": {},
   "outputs": [
    {
     "name": "stdin",
     "output_type": "stream",
     "text": [
      "Enter Your Cost Price of your Bike 100000\n"
     ]
    },
    {
     "name": "stdout",
     "output_type": "stream",
     "text": [
      "Road Tax = 10%\n"
     ]
    }
   ],
   "source": [
    "cp=int(input(\"Enter Your Cost Price of your Bike\"))\n",
    "if cp>100000:\n",
    "    print(\"Road Tax = 15%\")\n",
    "elif cp>50000 and cp<=100000:\n",
    "    print(\"Road Tax = 10%\")\n",
    "elif cp<=50000:\n",
    "    print(\"Road Tax = 5%\")\n",
    "else:\n",
    "    print(\"Road Tax = Null\")"
   ]
  },
  {
   "cell_type": "code",
   "execution_count": null,
   "id": "d4a0ce0e-4ed2-4634-920c-7d39e7a71b97",
   "metadata": {},
   "outputs": [],
   "source": [
    "3 :- Accept any city from the user and display the monuments of that city"
   ]
  },
  {
   "cell_type": "code",
   "execution_count": 6,
   "id": "ec75bc7d-865a-4b4d-a1ff-7138e0fe3be0",
   "metadata": {},
   "outputs": [
    {
     "name": "stdout",
     "output_type": "stream",
     "text": [
      "{'Delhi': 'Red fort', 'Agra': 'Taj Mahal', 'Jaipur': 'Jal Mahal'}\n"
     ]
    }
   ],
   "source": [
    "d={\"Delhi\":\"Red fort\",\"Agra\":\"Taj Mahal\",\"Jaipur\":\"Jal Mahal\"}\n",
    "print(d)"
   ]
  },
  {
   "cell_type": "code",
   "execution_count": 7,
   "id": "8d4dfd28-f6f6-49b0-8774-4aa47e06af64",
   "metadata": {},
   "outputs": [
    {
     "name": "stdin",
     "output_type": "stream",
     "text": [
      "Enter city name  Delhi\n"
     ]
    },
    {
     "name": "stdout",
     "output_type": "stream",
     "text": [
      "Red fort\n"
     ]
    }
   ],
   "source": [
    "a=input(\"Enter city name \")\n",
    "print(d[a])"
   ]
  },
  {
   "cell_type": "code",
   "execution_count": null,
   "id": "bfc006a3-6cc8-447e-ab18-0e66e6631519",
   "metadata": {},
   "outputs": [],
   "source": [
    "4:- Check how many times a given number can be divide by 3\n",
    "before it is less than or equal to 10"
   ]
  },
  {
   "cell_type": "code",
   "execution_count": 9,
   "id": "89fd226a-2c9a-4a6d-bdac-0e2a854cc493",
   "metadata": {},
   "outputs": [
    {
     "name": "stdin",
     "output_type": "stream",
     "text": [
      "Enter your number 63\n"
     ]
    },
    {
     "name": "stdout",
     "output_type": "stream",
     "text": [
      "2\n"
     ]
    }
   ],
   "source": [
    "a=int(input(\"Enter your number\"))\n",
    "i=0\n",
    "while a>=10:\n",
    "    if a%3==0:\n",
    "        a=a/3\n",
    "        i+=1\n",
    "    else:\n",
    "        continue\n",
    "print(i)"
   ]
  },
  {
   "cell_type": "code",
   "execution_count": null,
   "id": "2bd25d0e-ccea-4ab6-aa06-ca2f339b69b4",
   "metadata": {},
   "outputs": [],
   "source": [
    "5:- Why and when to use a while loop in python give a detailed description with example?"
   ]
  },
  {
   "cell_type": "code",
   "execution_count": null,
   "id": "ecce3744-3d53-462f-9b76-3aadc5cb1df5",
   "metadata": {},
   "outputs": [],
   "source": [
    "# In Python, the while loop is used to execute a block of code repeatedly as long as a given condition is true. The loop continues until the \n",
    "# condition becomes false."
   ]
  },
  {
   "cell_type": "code",
   "execution_count": 18,
   "id": "94a3974f-6145-4a12-9f3a-a0f4db7a0208",
   "metadata": {},
   "outputs": [
    {
     "name": "stdout",
     "output_type": "stream",
     "text": [
      "1\n",
      "2\n",
      "3\n",
      "4\n"
     ]
    }
   ],
   "source": [
    "c=1\n",
    "while c<5:\n",
    "    print(c)\n",
    "    c+= 1"
   ]
  },
  {
   "cell_type": "code",
   "execution_count": null,
   "id": "2b338eb8-c12d-4c78-9de2-02fcae6f69f9",
   "metadata": {},
   "outputs": [],
   "source": [
    "6:-Use nested while loop in python give a detailed descritption with example"
   ]
  },
  {
   "cell_type": "code",
   "execution_count": 20,
   "id": "4023c479-d7b4-46b3-becd-febc6de141a7",
   "metadata": {},
   "outputs": [
    {
     "name": "stdout",
     "output_type": "stream",
     "text": [
      "* \n",
      "* * \n",
      "* * * \n",
      "* * * * \n",
      "* * * * * \n"
     ]
    }
   ],
   "source": [
    "rows=5\n",
    "for i in range(1,rows+1):\n",
    "    j=1\n",
    "    while j<=i:\n",
    "        print(\"*\",end=\" \")\n",
    "        j+=1\n",
    "    print(\"\")"
   ]
  },
  {
   "cell_type": "code",
   "execution_count": 21,
   "id": "2b868938-673b-4cf8-a596-dc3dcd491034",
   "metadata": {},
   "outputs": [
    {
     "name": "stdout",
     "output_type": "stream",
     "text": [
      "* * * * * \n",
      "* * * * \n",
      "* * * \n",
      "* * \n",
      "* \n"
     ]
    }
   ],
   "source": [
    "\n",
    "for i in range(5,0,-1):\n",
    "    j=1\n",
    "    while j<=i:\n",
    "        print(\"*\",end=\" \")\n",
    "        j+=1\n",
    "    print(\"\")"
   ]
  },
  {
   "cell_type": "code",
   "execution_count": 30,
   "id": "9072de7f-c1a5-4c13-a283-3168abe88a87",
   "metadata": {},
   "outputs": [
    {
     "name": "stdout",
     "output_type": "stream",
     "text": [
      "    *\n",
      "    ***\n",
      "    *****\n",
      "    *******\n",
      "    *********\n"
     ]
    }
   ],
   "source": [
    "rows=5\n",
    "for i in range(1,rows+1):\n",
    "    spaces=rows-1\n",
    "    while spaces>0:\n",
    "        print(\" \",end=\"\")\n",
    "        spaces-=1\n",
    "    stars=2*i-1\n",
    "    while stars >0:\n",
    "        print(\"*\",end=\"\")\n",
    "        stars-=1\n",
    "    print(\"\")"
   ]
  },
  {
   "cell_type": "code",
   "execution_count": null,
   "id": "cab110b8-6028-4c90-b6fb-6f80cab168c1",
   "metadata": {},
   "outputs": [],
   "source": [
    "7:- Reverse a while loop to display Numbers from 0 to 1?"
   ]
  },
  {
   "cell_type": "code",
   "execution_count": 37,
   "id": "3c33021c-08b0-4c48-8b04-eb0f4733c490",
   "metadata": {},
   "outputs": [
    {
     "name": "stdout",
     "output_type": "stream",
     "text": [
      "10\n",
      "9\n",
      "8\n",
      "7\n",
      "6\n",
      "5\n",
      "4\n",
      "3\n",
      "2\n",
      "1\n"
     ]
    }
   ],
   "source": [
    "i =10\n",
    "while i<=10:\n",
    "    print(i)\n",
    "    i=i-1\n",
    "    if i==0:\n",
    "        break\n",
    "    else:\n",
    "        continue"
   ]
  },
  {
   "cell_type": "code",
   "execution_count": null,
   "id": "59c43198-a201-425c-898d-b2677ce977eb",
   "metadata": {},
   "outputs": [],
   "source": [
    "8:- same QU"
   ]
  },
  {
   "cell_type": "code",
   "execution_count": null,
   "id": "3730fe93-45a8-4c28-873f-b234592d908c",
   "metadata": {},
   "outputs": [],
   "source": []
  }
 ],
 "metadata": {
  "kernelspec": {
   "display_name": "Python 3 (ipykernel)",
   "language": "python",
   "name": "python3"
  },
  "language_info": {
   "codemirror_mode": {
    "name": "ipython",
    "version": 3
   },
   "file_extension": ".py",
   "mimetype": "text/x-python",
   "name": "python",
   "nbconvert_exporter": "python",
   "pygments_lexer": "ipython3",
   "version": "3.10.8"
  }
 },
 "nbformat": 4,
 "nbformat_minor": 5
}
