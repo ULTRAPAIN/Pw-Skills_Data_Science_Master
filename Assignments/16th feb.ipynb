{
 "cells": [
  {
   "attachments": {},
   "cell_type": "markdown",
   "metadata": {},
   "source": [
    "Q1. What is a database? Differentiate between SQL and NoSQL databases."
   ]
  },
  {
   "attachments": {},
   "cell_type": "markdown",
   "metadata": {},
   "source": [
    "A database is a collection of data that is organized and stored in a structured manner to enable efficient access, retrieval, and manipulation of the data. Databases can be used for a variety of applications, such as storing customer data, tracking inventory, and managing financial transactions.\n",
    "\n",
    "SQL and NoSQL are two types of database management systems (DBMS) that differ in their approach to organizing and storing data.\n",
    "\n",
    "Here are some key differences between SQL and NoSQL databases:\n",
    "\n",
    "Data model: SQL databases use a relational data model, while NoSQL databases use a non-relational or distributed data model.\n",
    "\n",
    "Schema: SQL databases use predefined schemas, while NoSQL databases do not have predefined schemas.\n",
    "\n",
    "Scalability: SQL databases are vertically scalable, meaning they can handle larger amounts of data by adding more resources to a single server. NoSQL databases are horizontally scalable, meaning they can handle larger amounts of data by distributing data across multiple servers.\n",
    "\n",
    "Query language: SQL databases use SQL queries to manipulate and retrieve data, while NoSQL databases use different query languages and APIs.\n",
    "\n",
    "Data consistency: SQL databases ensure strong data consistency and integrity, while NoSQL databases may sacrifice some data consistency for scalability and performance."
   ]
  },
  {
   "attachments": {},
   "cell_type": "markdown",
   "metadata": {},
   "source": [
    "Q2. What is DDL? Explain why CREATE, DROP, ALTER, and TRUNCATE are used with an example."
   ]
  },
  {
   "attachments": {},
   "cell_type": "markdown",
   "metadata": {},
   "source": [
    "DDL stands for Data Definition Language, which is a set of SQL commands used to define and manipulate the structure of a database. DDL commands are used to create, modify, and delete database objects such as tables, indexes, and views.\n",
    "\n",
    "Here are some common DDL commands:\n",
    "\n",
    "CREATE: Used to create a new database object such as a table, index, or view. For example, the following SQL statement creates a new table named \"customers\" with three columns: \"id\", \"name\", and \"email\".\n",
    "\n",
    "DROP: Used to delete a database object such as a table, index, or view. For example, the following SQL statement deletes the \"customers\" table:\n",
    "\n",
    "sql\n",
    "ALTER: Used to modify the structure of an existing database object such as a table or view. For example, the following SQL statement adds a new column named \"phone\" to the \"customers\" table:\n",
    "TRUNCATE: Used to delete all data from a table while preserving the structure of the table. For example, the following SQL statement deletes all data from the \"customers\" table:"
   ]
  },
  {
   "attachments": {},
   "cell_type": "markdown",
   "metadata": {},
   "source": [
    "Q3. What is DML? Explain INSERT, UPDATE, and DELETE with an example."
   ]
  },
  {
   "attachments": {},
   "cell_type": "markdown",
   "metadata": {},
   "source": [
    "DML stands for Data Manipulation Language, which is a set of SQL commands used to manipulate data in a database. DML commands are used to insert, update, and delete data in database tables.\n",
    "\n",
    "Here are some common DML commands:\n",
    "\n",
    "INSERT: Used to add new rows of data to a table. For example, the following SQL statement inserts a new row into the \"customers\" table:\n",
    "\n",
    "UPDATE: Used to modify existing data in a table. For example, the following SQL statement updates the \"email\" value for a specific customer in the \"customers\" table:\n",
    "\n",
    "DELETE: Used to delete data from a table. For example, the following SQL statement deletes a specific row from the \"customers\" table:"
   ]
  },
  {
   "attachments": {},
   "cell_type": "markdown",
   "metadata": {},
   "source": [
    "Q4. What is DQL? Explain SELECT with an example."
   ]
  },
  {
   "attachments": {},
   "cell_type": "markdown",
   "metadata": {},
   "source": [
    "DQL stands for Data Query Language, which is a set of SQL commands used to query data from a database. DQL commands are used to retrieve data from database tables.\n",
    "\n",
    "The most commonly used DQL command is SELECT. SELECT is used to retrieve data from one or more tables in a database based on specified criteria. Here's an example of a SELECT statement:\n",
    "\n",
    "DQL stands for Data Query Language, which is a set of SQL commands used to query data from a database. DQL commands are used to retrieve data from database tables.\n",
    "\n",
    "The most commonly used DQL command is SELECT. SELECT is used to retrieve data from one or more tables in a database based on specified criteria. Here's an example of a SELECT statement:\n",
    "\n",
    "sql\n",
    "Copy code\n",
    "SELECT * FROM customers WHERE age > 30;\n",
    "In this example, the SELECT statement retrieves all columns (indicated by the \"*\" symbol) from the \"customers\" table where the \"age\" column is greater than 30. The result of this statement would be a set of rows from the \"customers\" table where the \"age\" column is greater than 30.\n",
    "\n",
    "The SELECT statement can be customized with various clauses, such as:\n",
    "\n",
    "WHERE: Used to filter the rows returned by the query based on specific conditions.\n",
    "ORDER BY: Used to sort the result set in ascending or descending order based on one or more columns.\n",
    "GROUP BY: Used to group the result set by one or more columns.\n",
    "HAVING: Used to filter the groups returned by the query based on specific conditions.\n",
    "LIMIT: Used to limit the number of rows returned by the query.\n",
    "Here's an example of a SELECT statement with multiple clauses:"
   ]
  },
  {
   "attachments": {},
   "cell_type": "markdown",
   "metadata": {},
   "source": [
    "Q5. Explain Primary Key and Foreign Key."
   ]
  },
  {
   "attachments": {},
   "cell_type": "markdown",
   "metadata": {},
   "source": [
    "In a relational database, a primary key is a column or set of columns that uniquely identifies each row in a table. A primary key must be unique and not null for each row in the table. The primary key is used to enforce the integrity of the data and to ensure that there are no duplicate rows in the table.\n",
    "\n",
    "A foreign key, on the other hand, is a column or set of columns in one table that references the primary key of another table. The foreign key is used to establish a relationship between two tables, allowing data to be linked across multiple tables."
   ]
  },
  {
   "attachments": {},
   "cell_type": "markdown",
   "metadata": {},
   "source": [
    "Q6. Write a python code to connect MySQL to python. Explain the cursor() and execute() method."
   ]
  },
  {
   "cell_type": "code",
   "execution_count": 2,
   "metadata": {},
   "outputs": [],
   "source": [
    "# import mysql.connector\n",
    "# mydb = mysql.connector.connect(\n",
    "#   host=\"localhost\",\n",
    "#   user=\"abc\",\n",
    "#   password=\"password\"\n",
    "# )\n",
    "# print(mydb)\n",
    "# mycursor = mydb.cursor()\n",
    "# mycursor.execute(\"SHOW DATABASES\")\n",
    "# for x in mycursor:\n",
    "#   print(x)"
   ]
  },
  {
   "cell_type": "markdown",
   "metadata": {},
   "source": [
    "Q7. Give the order of execution of SQL clauses in an SQL query."
   ]
  },
  {
   "attachments": {},
   "cell_type": "markdown",
   "metadata": {},
   "source": [
    "The order of execution of SQL clauses in an SQL query is as follows:\n",
    "\n",
    "FROM: Specifies the table or tables from which data will be retrieved.\n",
    "\n",
    "WHERE: Filters the data based on the specified conditions.\n",
    "\n",
    "GROUP BY: Groups the data by specified columns.\n",
    "\n",
    "HAVING: Filters the grouped data based on the specified conditions.\n",
    "\n",
    "SELECT: Retrieves the desired columns from the filtered and grouped data.\n",
    "\n",
    "ORDER BY: Sorts the data based on the specified columns and order.\n",
    "\n",
    "LIMIT/OFFSET: Limits the number of rows returned by the query.\n",
    "\n"
   ]
  }
 ],
 "metadata": {
  "kernelspec": {
   "display_name": "Python 3",
   "language": "python",
   "name": "python3"
  },
  "language_info": {
   "codemirror_mode": {
    "name": "ipython",
    "version": 3
   },
   "file_extension": ".py",
   "mimetype": "text/x-python",
   "name": "python",
   "nbconvert_exporter": "python",
   "pygments_lexer": "ipython3",
   "version": "3.10.10"
  },
  "orig_nbformat": 4
 },
 "nbformat": 4,
 "nbformat_minor": 2
}
