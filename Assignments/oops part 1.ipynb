{
 "cells": [
  {
   "cell_type": "code",
   "execution_count": 2,
   "id": "cb896630-71eb-4f35-86cc-937313418c6b",
   "metadata": {},
   "outputs": [],
   "source": [
    "class dassu:\n",
    "    def welcome(self):\n",
    "        print(\"This is my first class\")\n"
   ]
  },
  {
   "cell_type": "code",
   "execution_count": 3,
   "id": "3aef555e-3d54-4a2f-bbc5-95ef809995ff",
   "metadata": {},
   "outputs": [
    {
     "name": "stdout",
     "output_type": "stream",
     "text": [
      "<class '__main__.dassu'>\n"
     ]
    }
   ],
   "source": [
    "var=dassu()\n",
    "print(type(var))"
   ]
  },
  {
   "cell_type": "code",
   "execution_count": 4,
   "id": "34369aaf-48ab-4799-911e-0471e6a2cb1e",
   "metadata": {},
   "outputs": [
    {
     "name": "stdout",
     "output_type": "stream",
     "text": [
      "This is my first class\n"
     ]
    }
   ],
   "source": [
    "var.welcome()"
   ]
  },
  {
   "cell_type": "code",
   "execution_count": 7,
   "id": "32107447-af14-4d17-8d11-6b1f85ffcdbc",
   "metadata": {},
   "outputs": [],
   "source": [
    "class pwskills:\n",
    "    def __init__(self,Name,RolLNO,Branch,year):\n",
    "        self.Name=Name\n",
    "        self.Rollno=RolLNO\n",
    "        self.Branch=Branch\n",
    "        self.year=year\n",
    "    def display(self):\n",
    "        return self.Name ,self.Rollno ,self.Branch ,self.year"
   ]
  },
  {
   "cell_type": "code",
   "execution_count": 8,
   "id": "7e52cbf4-5f8c-49a6-9d02-6f9308f3d5bf",
   "metadata": {},
   "outputs": [],
   "source": [
    "dassu=pwskills(\"Dashrath\",28,\"AI&DS\",2023)"
   ]
  },
  {
   "cell_type": "code",
   "execution_count": 9,
   "id": "a769ccf4-4c86-4a8d-8e09-3228df65e10e",
   "metadata": {},
   "outputs": [
    {
     "data": {
      "text/plain": [
       "('Dashrath', 28, 'AI&DS', 2023)"
      ]
     },
     "execution_count": 9,
     "metadata": {},
     "output_type": "execute_result"
    }
   ],
   "source": [
    "dassu.display()"
   ]
  },
  {
   "cell_type": "code",
   "execution_count": 11,
   "id": "7298db07-c72e-4818-a558-5b12bb66bc4e",
   "metadata": {},
   "outputs": [
    {
     "data": {
      "text/plain": [
       "28"
      ]
     },
     "execution_count": 11,
     "metadata": {},
     "output_type": "execute_result"
    }
   ],
   "source": [
    "dassu.Rollno"
   ]
  },
  {
   "cell_type": "code",
   "execution_count": 12,
   "id": "67477847-a387-40e1-8694-fc9f407f3b34",
   "metadata": {},
   "outputs": [
    {
     "data": {
      "text/plain": [
       "2023"
      ]
     },
     "execution_count": 12,
     "metadata": {},
     "output_type": "execute_result"
    }
   ],
   "source": [
    "dassu.year"
   ]
  },
  {
   "cell_type": "code",
   "execution_count": 15,
   "id": "f7cee41c-f0fb-4a8d-aa4b-1fc9946be364",
   "metadata": {},
   "outputs": [
    {
     "data": {
      "text/plain": [
       "'Dashrath'"
      ]
     },
     "execution_count": 15,
     "metadata": {},
     "output_type": "execute_result"
    }
   ],
   "source": [
    "dassu.Name"
   ]
  },
  {
   "cell_type": "code",
   "execution_count": null,
   "id": "436923f0-76f9-4391-9e61-c06e8b75615b",
   "metadata": {},
   "outputs": [],
   "source": []
  }
 ],
 "metadata": {
  "kernelspec": {
   "display_name": "Python 3 (ipykernel)",
   "language": "python",
   "name": "python3"
  },
  "language_info": {
   "codemirror_mode": {
    "name": "ipython",
    "version": 3
   },
   "file_extension": ".py",
   "mimetype": "text/x-python",
   "name": "python",
   "nbconvert_exporter": "python",
   "pygments_lexer": "ipython3",
   "version": "3.10.8"
  }
 },
 "nbformat": 4,
 "nbformat_minor": 5
}
