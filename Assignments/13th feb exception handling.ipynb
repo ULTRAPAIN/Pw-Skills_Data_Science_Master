{
 "cells": [
  {
   "attachments": {},
   "cell_type": "markdown",
   "metadata": {},
   "source": [
    " Q:1-->what is an exception in python? write the differnece between exceptions and syntax errors?"
   ]
  },
  {
   "attachments": {},
   "cell_type": "markdown",
   "metadata": {},
   "source": [
    "so basically exception is used to handle the errors which can be generated during programming , there are basically four types of bloack in exception handling \n",
    "These blocks are :- \n",
    "1:- try \n",
    "2:- except\n",
    "3:- finally\n",
    "4:- else "
   ]
  },
  {
   "attachments": {},
   "cell_type": "markdown",
   "metadata": {},
   "source": [
    "with the help of exceptions we can handle the errors , and can continue the program to run but in syntax errors it will stop the program to run . \n",
    "so advantage of exceptions is that in exception , the program execution process does not stop but in syntax errors  the program execution stops."
   ]
  },
  {
   "attachments": {},
   "cell_type": "markdown",
   "metadata": {},
   "source": [
    "Q:2-->what happens when an exception is not handled ?Explain with an example?"
   ]
  },
  {
   "attachments": {},
   "cell_type": "markdown",
   "metadata": {},
   "source": [
    "If an exception is not handled then i will stop the execution of the program where the error has been occured and will not execute further, theefore we should use exception method so that it will not the stop the execution process and will execute the rest of the program.\n",
    "example given below:-"
   ]
  },
  {
   "cell_type": "code",
   "execution_count": 1,
   "metadata": {},
   "outputs": [
    {
     "ename": "ZeroDivisionError",
     "evalue": "division by zero",
     "output_type": "error",
     "traceback": [
      "\u001b[1;31m---------------------------------------------------------------------------\u001b[0m",
      "\u001b[1;31mZeroDivisionError\u001b[0m                         Traceback (most recent call last)",
      "Cell \u001b[1;32mIn[1], line 2\u001b[0m\n\u001b[0;32m      1\u001b[0m a\u001b[39m=\u001b[39m\u001b[39m10\u001b[39m\n\u001b[1;32m----> 2\u001b[0m a\u001b[39m/\u001b[39;49m\u001b[39m0\u001b[39;49m\n",
      "\u001b[1;31mZeroDivisionError\u001b[0m: division by zero"
     ]
    }
   ],
   "source": [
    "a=10\n",
    "a/0"
   ]
  },
  {
   "cell_type": "code",
   "execution_count": 2,
   "metadata": {},
   "outputs": [
    {
     "name": "stdout",
     "output_type": "stream",
     "text": [
      "answer is infinity division by zero\n"
     ]
    }
   ],
   "source": [
    "# in above there is a devison error \n",
    "# now we will try by exception handling\n",
    "try:\n",
    "    a=10\n",
    "    a/0\n",
    "except Exception as e:\n",
    "   print (\"answer is infinity\",e) "
   ]
  },
  {
   "cell_type": "markdown",
   "metadata": {},
   "source": [
    "Q:3--> which python statements are used to handle and catch  the exceptions ?"
   ]
  },
  {
   "attachments": {},
   "cell_type": "markdown",
   "metadata": {},
   "source": [
    "Python has built-in support for handling exceptions through the use of try-except statements.Here, the code inside the try block is executed. If an exception is raised, the program will jump to the corresponding except block and execute the code in it. If no exception is raised, the program will skip over the except blocks and execute the else block (if one is present). The finally block is always executed, whether or not an exception was raised.\n",
    "\n",
    "The ExceptionType is the type of exception that you want to catch. You can catch multiple exception types by including multiple except blocks. If you want to catch all exceptions, you can use the except keyword without specifying an exception type."
   ]
  },
  {
   "cell_type": "markdown",
   "metadata": {},
   "source": []
  },
  {
   "attachments": {},
   "cell_type": "markdown",
   "metadata": {},
   "source": [
    "Q:4--> explain with an example\n",
    "    1:tryand else\n",
    "    2:except\n",
    "    3:raise"
   ]
  },
  {
   "cell_type": "code",
   "execution_count": 3,
   "metadata": {},
   "outputs": [
    {
     "name": "stdout",
     "output_type": "stream",
     "text": [
      "this is the error division by zero\n",
      "in finally block whether exception is raised or not it will executed all its satements with in it\n"
     ]
    }
   ],
   "source": [
    "\n",
    "try:\n",
    "    a=int(input(\"Enter your number\"))\n",
    "    y=1/a\n",
    "except Exception as e:\n",
    "    print(\"this is the error\",e)\n",
    "else: \n",
    "    print(\"This is executed when there is no error\")\n",
    "finally:\n",
    "    print(\"in finally block whether exception is raised or not it will executed all its satements with in it\")    "
   ]
  },
  {
   "cell_type": "code",
   "execution_count": 6,
   "metadata": {},
   "outputs": [
    {
     "name": "stdout",
     "output_type": "stream",
     "text": [
      "This is executed when there is no error\n",
      "in finally block whether exception is raised or not it will executed all its satements with in it\n"
     ]
    }
   ],
   "source": [
    "\n",
    "try:\n",
    "    a=int(input(\"Enter your number\"))\n",
    "    y=1/a\n",
    "except Exception as e:\n",
    "    print(\"this is the error\",e)\n",
    "else: \n",
    "    print(\"This is executed when there is no error\")\n",
    "finally:\n",
    "    print(\"in finally block whether exception is raised or not it will executed all its satements with in it\")"
   ]
  },
  {
   "cell_type": "code",
   "execution_count": 11,
   "metadata": {},
   "outputs": [],
   "source": [
    "class check_age(Exception):\n",
    "    def __init__(self,msg):\n",
    "        self.msg=msg"
   ]
  },
  {
   "cell_type": "code",
   "execution_count": 14,
   "metadata": {},
   "outputs": [],
   "source": [
    "def check_age1(age):\n",
    "    if age<0:\n",
    "        raise check_age(\"AGE IS VERY LESS\")\n",
    "    elif age>150:\n",
    "        raise check_age(\"age is very high\")\n",
    "    else: \n",
    "        raise check_age(\"age is valid\")\n",
    "        "
   ]
  },
  {
   "cell_type": "code",
   "execution_count": 15,
   "metadata": {},
   "outputs": [
    {
     "name": "stdout",
     "output_type": "stream",
     "text": [
      "age is very high\n"
     ]
    }
   ],
   "source": [
    "try:\n",
    "    age=int(input(\"Rnter your age\"))\n",
    "    check_age1(age)\n",
    "except check_age as e:\n",
    "    print(e)\n"
   ]
  },
  {
   "attachments": {},
   "cell_type": "markdown",
   "metadata": {},
   "source": [
    "Q:5-->what are custom exceptions in python? why do we need custom exceptions? explain with an example?"
   ]
  },
  {
   "attachments": {},
   "cell_type": "markdown",
   "metadata": {},
   "source": [
    "Custom exceptions in Python are user-defined exceptions that allow developers to create their own error types to handle specific situations in their programs. Custom exceptions can be raised like any other built-in exception, but they provide more information about the error and allow for more precise error handling.\n",
    "\n",
    "We need custom exceptions in Python when the built-in exceptions provided by the language are not sufficient to handle specific scenarios. By creating custom exceptions, we can define our own error messages and customize the error handling process to our needs."
   ]
  },
  {
   "attachments": {},
   "cell_type": "markdown",
   "metadata": {},
   "source": [
    "Q :6 --> create a custom exception class. use this class to handle an exception?"
   ]
  },
  {
   "cell_type": "code",
   "execution_count": 16,
   "metadata": {},
   "outputs": [],
   "source": [
    "class notenoughbalance(Exception):\n",
    "    def __init__(self,amount,balance):\n",
    "        self.amount=amount\n",
    "        self.balance=balance\n",
    "    def __str__(self):\n",
    "        return \"withdrawl amount of {} is greater than account balance of {}\".format(self.amount,self.balance)\n",
    "    "
   ]
  },
  {
   "cell_type": "code",
   "execution_count": 18,
   "metadata": {},
   "outputs": [],
   "source": [
    "def withdrawl(account_balance,withdrawl_amount):\n",
    "    if withdrawl_amount>account_balance:\n",
    "        raise notenoughbalance(withdrawl_amount,account_balance)\n",
    "    else:\n",
    "        account_balance-=withdrawl_amount\n",
    "        print(\"withdraw is succesfull . New balance is {}.\".format(account_balance))\n"
   ]
  },
  {
   "cell_type": "code",
   "execution_count": 19,
   "metadata": {},
   "outputs": [
    {
     "name": "stdout",
     "output_type": "stream",
     "text": [
      "withdraw is succesfull . New balance is 25000.\n"
     ]
    }
   ],
   "source": [
    "try:\n",
    "    a=int(input(\"ENTYER YOUR BALANACE\"))\n",
    "    b=int(input(\"ENTER YOUR WITHDRAWL AMOUNT\"))\n",
    "    withdrawl(a,b)\n",
    "except notenoughbalance as e:\n",
    "    print(e)"
   ]
  },
  {
   "cell_type": "code",
   "execution_count": 20,
   "metadata": {},
   "outputs": [
    {
     "name": "stdout",
     "output_type": "stream",
     "text": [
      "withdrawl amount of 750000 is greater than account balance of 50000\n"
     ]
    }
   ],
   "source": [
    "try:\n",
    "    a=int(input(\"ENTYER YOUR BALANACE\"))\n",
    "    b=int(input(\"ENTER YOUR WITHDRAWL AMOUNT\"))\n",
    "    withdrawl(a,b)\n",
    "except notenoughbalance as e:\n",
    "    print(e)"
   ]
  },
  {
   "cell_type": "code",
   "execution_count": null,
   "metadata": {},
   "outputs": [],
   "source": []
  }
 ],
 "metadata": {
  "kernelspec": {
   "display_name": "Python 3",
   "language": "python",
   "name": "python3"
  },
  "language_info": {
   "codemirror_mode": {
    "name": "ipython",
    "version": 3
   },
   "file_extension": ".py",
   "mimetype": "text/x-python",
   "name": "python",
   "nbconvert_exporter": "python",
   "pygments_lexer": "ipython3",
   "version": "3.10.10"
  },
  "orig_nbformat": 4,
  "vscode": {
   "interpreter": {
    "hash": "92b0ea29ee03fdf7526b9872fef3438864d3bfc0fd09bb8659462b3933012a13"
   }
  }
 },
 "nbformat": 4,
 "nbformat_minor": 2
}
