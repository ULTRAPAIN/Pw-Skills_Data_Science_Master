{
 "cells": [
  {
   "cell_type": "markdown",
   "id": "e8b18e78-b058-44c9-b5f3-548062372fde",
   "metadata": {},
   "source": [
    "Q1. Which function is used to open a file? What are the different modes of opening a file? Explain each mode\n",
    "of file opening."
   ]
  },
  {
   "cell_type": "markdown",
   "id": "39612b7d-2e9a-4fc4-9403-b74bcd9d6560",
   "metadata": {},
   "source": [
    "In Python, the open() function is used to open a file. The basic syntax of the open() function is as follows:\n",
    "\n",
    "python"
   ]
  },
  {
   "cell_type": "markdown",
   "id": "dfdfdb9d-fe47-4e53-8f28-7604c574bdb1",
   "metadata": {},
   "source": [
    "Here, filename is the name of the file to be opened, and mode is a string specifying the mode in which the file is to be opened.\n",
    "\n",
    "There are several modes of opening a file, including:\n",
    "\n",
    "r: Read mode. Opens the file for reading only.\n",
    "w: Write mode. Opens the file for writing only. Creates a new file or overwrites the existing file.\n",
    "a: Append mode. Opens the file for writing only. The file pointer is at the end of the file, and any new data written to the file is appended to the existing data.\n",
    "x: Exclusive creation mode. Creates a new file but fails if the file already exists.\n",
    "b: Binary mode. Opens the file in binary mode, which is used for non-text files such as image files, audio files, etc.\n",
    "t: Text mode. Opens the file in text mode, which is used for text files.\n",
    "You can use these modes in various combinations. For example, if you want to open a file in binary mode for reading, you can use the mode \"rb\". Similarly, if you want to open a file in text mode for writing and append data to the existing file, you can use the mode \"a+\".\n",
    "\n",
    "Here's a brief explanation of each mode:\n",
    "\n",
    "r: The file is opened for reading only. The file pointer is placed at the beginning of the file. If the file doesn't exist, an error is raised.\n",
    "w: The file is opened for writing only. If the file doesn't exist, a new file is created. If the file already exists, the existing file is truncated (i.e., its contents are deleted) and a new empty file is created.\n",
    "a: The file is opened for writing only, with the file pointer at the end of the file. If the file doesn't exist, a new file is created. If the file already exists, data is appended to the end of the file.\n",
    "x: The file is opened for exclusive creation. If the file already exists, an error is raised. If the file doesn't exist, a new file is created.\n",
    "b: The file is opened in binary mode, which is used for non-text files such as image files, audio files, etc.\n",
    "t: The file is opened in text mode, which is used for text files. This is the default mode.\n",
    "\n",
    "\n"
   ]
  },
  {
   "cell_type": "markdown",
   "id": "8c5488da-9f37-418a-8d1a-436e95a78071",
   "metadata": {},
   "source": [
    "Q2. Why close() function is used? Why is it important to close a file?"
   ]
  },
  {
   "cell_type": "markdown",
   "id": "508ef84c-f046-4d38-91c3-02e0a5357090",
   "metadata": {},
   "source": [
    "It's important to close a file after opening it because it frees up system resources that were allocated to the file when it was opened. When you open a file, the operating system assigns a certain amount of memory to hold the file data and the associated file handles. If you don't close the file after you're done using it, these resources will stay allocated to the file, which can cause issues like running out of memory or file handle limits being reached.\n",
    "\n",
    "Closing a file also ensures that any changes you made to the file are properly saved. If you don't close the file, any changes you made to the file may not be written to disk. This is because the operating system buffers the data in memory and may not write it to disk until the file is closed.\n",
    "\n",
    "Furthermore, leaving files open can lead to data corruption or even data loss if the program crashes or terminates abnormally. When a program closes a file, the operating system can flush any buffered data to disk, ensuring that any changes you made to the file are properly saved.\n",
    "\n",
    "Therefore, it's good practice to always close files after you're done working with them to free up system resources, ensure data integrity, and avoid potential issues."
   ]
  },
  {
   "cell_type": "markdown",
   "id": "134acf84-9ebe-4f50-9b92-8a8a9312db0b",
   "metadata": {},
   "source": [
    "Q3. Write a python program to create a text file. Write ‘I want to become a Data Scientist’ in that file. Then\n",
    "close the file. Open this file and read the content of the file."
   ]
  },
  {
   "cell_type": "code",
   "execution_count": 3,
   "id": "3b75232c-db46-4006-9fe8-6c57eabc0ad3",
   "metadata": {},
   "outputs": [
    {
     "name": "stdout",
     "output_type": "stream",
     "text": [
      "I want to become a data scientist\n"
     ]
    }
   ],
   "source": [
    "with open(\"text1.txt\",\"w\")as f:\n",
    "    f.write(\"I want to become a data scientist\")\n",
    "with open(\"text1.txt\",\"r\")as f:\n",
    "    print(f.read())\n",
    "    f.close()"
   ]
  },
  {
   "cell_type": "markdown",
   "id": "2c798d2c-b1fa-4e72-b817-5a0f5c0a14e0",
   "metadata": {},
   "source": [
    "Q4. Explain the following with python code: read(), readline() and readlines()."
   ]
  },
  {
   "cell_type": "markdown",
   "id": "3decf706-2c3d-4b73-b8fe-e9156051d792",
   "metadata": {},
   "source": [
    "The read() method is used to read the entire contents of a file as a single string.\n",
    "If you use the read() method to read the file, you will get the entire paragraph as a single string:"
   ]
  },
  {
   "cell_type": "markdown",
   "id": "04903907-44d7-42a8-ba72-03b2c7781c66",
   "metadata": {},
   "source": [
    "If you use the readline() method to read the file, you will get the first line of the paragraph:"
   ]
  },
  {
   "cell_type": "markdown",
   "id": "759e68b1-e91f-4128-a34e-6f44519919a8",
   "metadata": {},
   "source": [
    "f you call readline() again, you will get the second line, and so on, until you reach the end of the file.\n",
    "\n",
    "If you use the readlines() method to read the file, you will get a list of lines:"
   ]
  },
  {
   "cell_type": "code",
   "execution_count": 17,
   "id": "d36f0542-7dab-4e64-acae-f6d68c111ff6",
   "metadata": {},
   "outputs": [
    {
     "name": "stdout",
     "output_type": "stream",
     "text": [
      "\"hello myself dashrath patel .\n",
      "I am  currently pursuing my b tech career in artificail intelligence &  data science branch , \n",
      "and now i am currently in second year , this course wll enhance my skill and waiting for interesting projects to solve\"\n"
     ]
    }
   ],
   "source": [
    "with open (\"read.txt\", \"r\") as f:\n",
    "    f.seek(0)\n",
    "    print(f.read())\n",
    "    f.close()"
   ]
  },
  {
   "cell_type": "markdown",
   "id": "56dc6a20-7ae5-4775-b63a-e0f353288a7c",
   "metadata": {},
   "source": [
    "above code is of read() function"
   ]
  },
  {
   "cell_type": "code",
   "execution_count": 20,
   "id": "626473a9-d9a0-4142-80eb-7b3caf61e3cb",
   "metadata": {},
   "outputs": [],
   "source": [
    "with open(\"read.txt\",\"r\")as f:\n",
    "    f.seek(0)\n",
    "    yo=f.readline()\n",
    "    f.close()"
   ]
  },
  {
   "cell_type": "code",
   "execution_count": 21,
   "id": "f669d1ff-55b0-4d66-ae45-6ebea88a86b7",
   "metadata": {},
   "outputs": [
    {
     "data": {
      "text/plain": [
       "'\"hello myself dashrath patel .\\n'"
      ]
     },
     "execution_count": 21,
     "metadata": {},
     "output_type": "execute_result"
    }
   ],
   "source": [
    "yo"
   ]
  },
  {
   "cell_type": "markdown",
   "id": "e30e09c2-275f-4374-a286-005256050048",
   "metadata": {},
   "source": [
    "this above code is of readline function()"
   ]
  },
  {
   "cell_type": "code",
   "execution_count": 22,
   "id": "d09a71cb-56ed-4dfb-a978-790bd37ad4c5",
   "metadata": {},
   "outputs": [],
   "source": [
    "with open(\"read.txt\",\"r\")as f:\n",
    "    f.seek(0)\n",
    "    yo=f.readlines()"
   ]
  },
  {
   "cell_type": "code",
   "execution_count": 23,
   "id": "5271a668-6301-4f3a-b6e4-7b2280fd8dc3",
   "metadata": {},
   "outputs": [
    {
     "data": {
      "text/plain": [
       "['\"hello myself dashrath patel .\\n',\n",
       " 'I am  currently pursuing my b tech career in artificail intelligence &  data science branch , \\n',\n",
       " 'and now i am currently in second year , this course wll enhance my skill and waiting for interesting projects to solve\"']"
      ]
     },
     "execution_count": 23,
     "metadata": {},
     "output_type": "execute_result"
    }
   ],
   "source": [
    "yo"
   ]
  },
  {
   "cell_type": "markdown",
   "id": "681da9ab-699f-4395-afc3-667c8cba626a",
   "metadata": {},
   "source": [
    "this above code is of readlines() function"
   ]
  },
  {
   "cell_type": "markdown",
   "id": "edfb898a-b0b5-45cb-811f-fa4f0be3c411",
   "metadata": {},
   "source": [
    "Q5. Explain why with statement is used with open(). What is the advantage of using with statement and\n",
    "open() together?"
   ]
  },
  {
   "cell_type": "markdown",
   "id": "fb7afd93-39f9-4f1b-971a-f177c31103a3",
   "metadata": {},
   "source": [
    "The with statement in Python is used to create a context in which a particular resource, such as a file, is accessed. When the context ends, the resource is automatically cleaned up, even if an error occurs. The with statement is often used with the open() function to manage file I/O operations.\n",
    "\n",
    "Using with statement with open() has several advantages:\n",
    "\n",
    "Automatic cleanup: The with statement ensures that the file is automatically closed when the block inside the with statement is exited, even if there is an error.\n",
    "\n",
    "Cleaner code: Using with statement makes the code cleaner and more readable, as it eliminates the need to explicitly call the close() method on the file object.\n",
    "\n",
    "Better performance: Using with statement with open() has better performance than opening the file without the with statement, as it reduces the risk of resource leaks and avoids keeping the file open for longer than necessary."
   ]
  },
  {
   "cell_type": "markdown",
   "id": "1f867be4-6b2d-4299-ac3c-49c4122275c6",
   "metadata": {},
   "source": [
    "Q6. Explain the write() and writelines() functions. Give a suitable example."
   ]
  },
  {
   "cell_type": "markdown",
   "id": "d2e1e1b0-2df8-46af-b2fb-763a6e86ad7c",
   "metadata": {},
   "source": [
    "The write() function and the writelines() function are used for writing data to a file in Python.\n",
    "\n",
    "The write() function is used to write a single string to a file. If the file already exists, the write() function will overwrite its contents. If the file does not exist, it will be created.\n",
    "\n",
    "Here's an example that demonstrates the use of write() function:"
   ]
  },
  {
   "cell_type": "code",
   "execution_count": 26,
   "id": "556c1f85-67e9-4e2d-b0cd-f7d70477f4c1",
   "metadata": {},
   "outputs": [],
   "source": [
    "with open('example.txt', 'w') as f:\n",
    "    f.write('Hello, world!')\n"
   ]
  },
  {
   "cell_type": "markdown",
   "id": "c2e81f57-bba7-494c-86f1-2fbe9b4e4964",
   "metadata": {},
   "source": [
    "In this example, the write() function is used to write the string \"Hello, world!\" to a file named example.txt.\n",
    "\n",
    "The writelines() function is used to write a list of strings to a file. Each string in the list is written to a new line in the file. If the file already exists, the writelines() function will overwrite its contents. If the file does not exist, it will be created.\n",
    "\n",
    "Here's an example that demonstrates the use of writelines() function:"
   ]
  },
  {
   "cell_type": "code",
   "execution_count": 27,
   "id": "809d7c9b-5247-4ca1-9367-bbce269e61df",
   "metadata": {},
   "outputs": [],
   "source": [
    "lines = ['line 1\\n', 'line 2\\n', 'line 3\\n']\n",
    "with open('example.txt', 'w') as f:\n",
    "    f.writelines(lines)\n"
   ]
  },
  {
   "cell_type": "code",
   "execution_count": null,
   "id": "1474bb4a-3a80-42a9-bda6-206a3d10a802",
   "metadata": {},
   "outputs": [],
   "source": []
  }
 ],
 "metadata": {
  "kernelspec": {
   "display_name": "Python 3 (ipykernel)",
   "language": "python",
   "name": "python3"
  },
  "language_info": {
   "codemirror_mode": {
    "name": "ipython",
    "version": 3
   },
   "file_extension": ".py",
   "mimetype": "text/x-python",
   "name": "python",
   "nbconvert_exporter": "python",
   "pygments_lexer": "ipython3",
   "version": "3.10.8"
  }
 },
 "nbformat": 4,
 "nbformat_minor": 5
}
