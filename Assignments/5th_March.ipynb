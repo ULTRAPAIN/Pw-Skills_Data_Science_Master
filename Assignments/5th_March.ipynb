{
  "nbformat": 4,
  "nbformat_minor": 0,
  "metadata": {
    "colab": {
      "provenance": []
    },
    "kernelspec": {
      "name": "python3",
      "display_name": "Python 3"
    },
    "language_info": {
      "name": "python"
    }
  },
  "cells": [
    {
      "cell_type": "markdown",
      "source": [
        "Q1. How can you create a Bokeh plot using Python code?"
      ],
      "metadata": {
        "id": "pcgskIsSwHvm"
      }
    },
    {
      "cell_type": "code",
      "execution_count": 8,
      "metadata": {
        "id": "DRcbz4gQv-YT"
      },
      "outputs": [],
      "source": [
        "from bokeh.plotting import figure,output_file,show\n",
        "from bokeh.sampledata.iris import flowers\n",
        "output_file(\"test3.html\")\n",
        "p=figure(title=\"flowers\")\n",
        "p.xaxis.axis_label=\"petal_length\"\n",
        "p.yaxis.axis_label=\"petal_width\"\n",
        "p.circle(flowers[\"petal_length\"],flowers[\"petal_width\"])\n",
        "show(p)"
      ]
    },
    {
      "cell_type": "markdown",
      "source": [
        "Q2. What are glyphs in Bokeh, and how can you add them to a Bokeh plot? Explain with an example."
      ],
      "metadata": {
        "id": "nsvy3Ys2xSGF"
      }
    },
    {
      "cell_type": "code",
      "source": [
        "from bokeh.plotting import figure, show\n",
        "from bokeh.models import ColumnDataSource\n",
        "\n",
        "# Sample data\n",
        "x = [1, 2, 3, 4, 5]\n",
        "y = [6, 7, 2, 4, 5]\n",
        "\n",
        "# Create a ColumnDataSource\n",
        "source = ColumnDataSource(data=dict(x=x, y=y))\n",
        "\n",
        "# Create a figure\n",
        "p = figure(title=\"Glyph Example\", x_axis_label='X', y_axis_label='Y')\n",
        "\n",
        "# Add a circle glyph\n",
        "p.circle('x', 'y', source=source, size=10, color='red')\n",
        "\n",
        "# Add a square glyph\n",
        "p.square('x', 'y', source=source, size=12, color='blue')\n",
        "\n",
        "# Show the plot\n",
        "show(p)\n"
      ],
      "metadata": {
        "id": "CPOt0rn1w7FZ"
      },
      "execution_count": 10,
      "outputs": []
    },
    {
      "cell_type": "markdown",
      "source": [
        "Q3. How can you customize the appearance of a Bokeh plot, including the axes, title, and legend?"
      ],
      "metadata": {
        "id": "KP7TnUCE1XS6"
      }
    },
    {
      "cell_type": "code",
      "source": [
        "from bokeh.plotting import figure, show\n",
        "\n",
        "# Create a figure\n",
        "p = figure(title=\"Customized Plot\", x_axis_label='X', y_axis_label='Y')\n",
        "\n",
        "# Customize the appearance of axes\n",
        "p.xaxis.axis_label_text_color = 'red'\n",
        "p.xaxis.axis_line_width = 2\n",
        "p.yaxis.axis_label_text_font_style = 'italic'\n",
        "p.yaxis.major_tick_line_color = 'blue'\n",
        "\n",
        "# Customize the appearance of the title\n",
        "p.title.text_color = 'green'\n",
        "p.title.text_font_size = '20pt'\n",
        "p.title.align = 'center'\n",
        "\n",
        "# Customize the appearance of the legend\n",
        "p.legend.title = 'Categories'\n",
        "p.legend.label_text_font_style = 'bold'\n",
        "p.legend.label_text_color = 'purple'\n",
        "\n",
        "# Show the plot\n",
        "show(p)\n"
      ],
      "metadata": {
        "colab": {
          "base_uri": "https://localhost:8080/"
        },
        "id": "iEj4ERej1FEA",
        "outputId": "f57de651-7a2c-4f8c-b716-87d0d6dc460f"
      },
      "execution_count": 11,
      "outputs": [
        {
          "output_type": "stream",
          "name": "stderr",
          "text": [
            "/usr/local/lib/python3.10/dist-packages/bokeh/models/plots.py:815: UserWarning: \n",
            "You are attempting to set `plot.legend.title` on a plot that has zero legends added, this will have no effect.\n",
            "\n",
            "Before legend properties can be set, you must add a Legend explicitly, or call a glyph method with a legend parameter set.\n",
            "\n",
            "  warnings.warn(_LEGEND_EMPTY_WARNING % attr)\n",
            "/usr/local/lib/python3.10/dist-packages/bokeh/models/plots.py:815: UserWarning: \n",
            "You are attempting to set `plot.legend.label_text_font_style` on a plot that has zero legends added, this will have no effect.\n",
            "\n",
            "Before legend properties can be set, you must add a Legend explicitly, or call a glyph method with a legend parameter set.\n",
            "\n",
            "  warnings.warn(_LEGEND_EMPTY_WARNING % attr)\n",
            "/usr/local/lib/python3.10/dist-packages/bokeh/models/plots.py:815: UserWarning: \n",
            "You are attempting to set `plot.legend.label_text_color` on a plot that has zero legends added, this will have no effect.\n",
            "\n",
            "Before legend properties can be set, you must add a Legend explicitly, or call a glyph method with a legend parameter set.\n",
            "\n",
            "  warnings.warn(_LEGEND_EMPTY_WARNING % attr)\n",
            "WARNING:bokeh.core.validation.check:W-1000 (MISSING_RENDERERS): Plot has no renderers: Figure(id='1859', ...)\n"
          ]
        }
      ]
    },
    {
      "cell_type": "code",
      "source": [],
      "metadata": {
        "id": "bFuxTWji1ag-"
      },
      "execution_count": null,
      "outputs": []
    },
    {
      "cell_type": "markdown",
      "source": [
        "Q4. What is a Bokeh server, and how can you use it to create interactive plots that can be updated in\n",
        "real time?"
      ],
      "metadata": {
        "id": "4REj8DKI1mAR"
      }
    },
    {
      "cell_type": "markdown",
      "source": [
        "The Bokeh server is a key component of the Bokeh library that allows you to create interactive plots and applications with real-time updates. It enables you to host and serve Bokeh plots as web applications, providing the ability to interact with and update the plots dynamically.\n",
        "\n",
        "When you use the Bokeh server, your Python code runs on the server side, and the Bokeh plots are served as web pages that can be accessed by multiple clients. The server handles events and updates from clients, allowing for interactive and synchronized visualizations.\n",
        "\n",
        "To use the Bokeh server and create interactive plots with real-time updates, you typically follow these steps:\n",
        "\n",
        "Define your plot and data: Create the Bokeh plot and set up the data source.\n",
        "Add interactive elements: Add widgets, buttons, or other interactive elements to the plot, which can trigger events or updates.\n",
        "Define callbacks: Write Python functions (callbacks) that respond to events triggered by user interactions with the plot or widgets.\n",
        "Run the Bokeh server: Start the Bokeh server by running your script or using the bokeh serve command.\n",
        "Access the interactive plot: Open a web browser and navigate to the URL provided by the Bokeh server. This allows you to view and interact with the plot.\n",
        "Update the plot dynamically: Interact with the plot by triggering events or updates through the defined interactive elements. The callbacks respond to these events and update the plot accordingly."
      ],
      "metadata": {
        "id": "U3oxFjK-1pla"
      }
    },
    {
      "cell_type": "markdown",
      "source": [
        "Q5. How can you embed a Bokeh plot into a web page or dashboard using Flask or Django?"
      ],
      "metadata": {
        "id": "i6ODh_Jy1r8w"
      }
    },
    {
      "cell_type": "markdown",
      "source": [
        "from flask import Flask, render_template\n",
        "\n",
        "app = Flask(__name__)\n",
        "\n",
        "@app.route(\"/\")\n",
        "def show_bokeh_plot():\n",
        "    return render_template(\"bokeh_plot.html\")\n",
        "\n",
        "if __name__ == \"__main__\":\n",
        "    app.run()\n"
      ],
      "metadata": {
        "id": "Y5jpQPum1tPx"
      }
    },
    {
      "cell_type": "markdown",
      "source": [],
      "metadata": {
        "id": "BL8bZePY1sB5"
      }
    }
  ]
}