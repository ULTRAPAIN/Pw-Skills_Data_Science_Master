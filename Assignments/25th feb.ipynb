{
 "cells": [
  {
   "cell_type": "markdown",
   "id": "62c2c48b-e655-4f97-8796-a004623142c5",
   "metadata": {},
   "source": [
    "Consider following code to answer further questions:\n",
    "import pandas as pd\n",
    "course_name = [‘Data Science’, ‘Machine Learning’, ‘Big Data’, ‘Data Engineer’]\n",
    "duration = [2,3,6,4]\n",
    "df = pd.DataFrame(data = {‘course_name’ : course_name, ‘duration’ : duration})"
   ]
  },
  {
   "cell_type": "markdown",
   "id": "a8a0a63c-660a-4e7c-a18e-9e7cf660d964",
   "metadata": {},
   "source": [
    "Q1. Write a code to print the data present in the second row of the dataframe, df."
   ]
  },
  {
   "cell_type": "code",
   "execution_count": 3,
   "id": "94e11054-9476-4e41-afc3-bb885bb6a0fb",
   "metadata": {},
   "outputs": [],
   "source": [
    "import pandas as pd\n",
    "course_name = [\"Data Science\", \"Machine Learning\", \"Big Data\", \"Data Engineer\"]\n",
    "duration = [2,3,6,4]\n",
    "df = pd.DataFrame(data = {\"course_name\" : course_name, \"duration\" : duration})"
   ]
  },
  {
   "cell_type": "code",
   "execution_count": 4,
   "id": "4d8ed2aa-36a5-486f-8616-4b8ab108c208",
   "metadata": {},
   "outputs": [],
   "source": [
    "df\n",
    "data = {\"course_name\" : course_name, \"duration\" : duration}"
   ]
  },
  {
   "cell_type": "code",
   "execution_count": 5,
   "id": "729fa382-3715-4dd9-9300-d3c1b2bb1215",
   "metadata": {},
   "outputs": [
    {
     "data": {
      "text/html": [
       "<div>\n",
       "<style scoped>\n",
       "    .dataframe tbody tr th:only-of-type {\n",
       "        vertical-align: middle;\n",
       "    }\n",
       "\n",
       "    .dataframe tbody tr th {\n",
       "        vertical-align: top;\n",
       "    }\n",
       "\n",
       "    .dataframe thead th {\n",
       "        text-align: right;\n",
       "    }\n",
       "</style>\n",
       "<table border=\"1\" class=\"dataframe\">\n",
       "  <thead>\n",
       "    <tr style=\"text-align: right;\">\n",
       "      <th></th>\n",
       "      <th>course_name</th>\n",
       "      <th>duration</th>\n",
       "    </tr>\n",
       "  </thead>\n",
       "  <tbody>\n",
       "    <tr>\n",
       "      <th>1</th>\n",
       "      <td>Machine Learning</td>\n",
       "      <td>3</td>\n",
       "    </tr>\n",
       "  </tbody>\n",
       "</table>\n",
       "</div>"
      ],
      "text/plain": [
       "        course_name  duration\n",
       "1  Machine Learning         3"
      ]
     },
     "execution_count": 5,
     "metadata": {},
     "output_type": "execute_result"
    }
   ],
   "source": [
    "df[1:2]"
   ]
  },
  {
   "cell_type": "markdown",
   "id": "de4bee6c-9cca-4377-98ef-91b045815150",
   "metadata": {},
   "source": [
    "Q2. What is the difference between the functions loc and iloc in pandas.DataFrame?"
   ]
  },
  {
   "cell_type": "markdown",
   "id": "8a42f5ed-8656-458d-95ac-c44095853952",
   "metadata": {},
   "source": [
    "Difference between loc and iloc is that in loc we can access the values of data inside the data frame by just giving the column names , where else in iloc we can aceess the the values through index the columns starting from zero for example given below "
   ]
  },
  {
   "cell_type": "code",
   "execution_count": 6,
   "id": "f772c128-8fce-4818-96b2-2ecf4a9e485f",
   "metadata": {},
   "outputs": [
    {
     "data": {
      "text/plain": [
       "2"
      ]
     },
     "execution_count": 6,
     "metadata": {},
     "output_type": "execute_result"
    }
   ],
   "source": [
    "df.iloc[0,1]"
   ]
  },
  {
   "cell_type": "code",
   "execution_count": 7,
   "id": "0f93ada3-7fda-4571-967d-5df8f5c0948f",
   "metadata": {},
   "outputs": [
    {
     "data": {
      "text/plain": [
       "'Machine Learning'"
      ]
     },
     "execution_count": 7,
     "metadata": {},
     "output_type": "execute_result"
    }
   ],
   "source": [
    "df.loc[1,\"course_name\"]"
   ]
  },
  {
   "cell_type": "markdown",
   "id": "473a4405-f600-47cd-9bc0-ac8cca8b6594",
   "metadata": {},
   "source": [
    "Q3. Reindex the given dataframe using a variable, reindex = [3,0,1,2] and store it in the variable, new_df\n",
    "then find the output for both new_df.loc[2] and new_df.iloc[2]."
   ]
  },
  {
   "cell_type": "code",
   "execution_count": 8,
   "id": "d68898a1-e4d0-451f-9709-feb9413c1b11",
   "metadata": {},
   "outputs": [
    {
     "data": {
      "text/html": [
       "<div>\n",
       "<style scoped>\n",
       "    .dataframe tbody tr th:only-of-type {\n",
       "        vertical-align: middle;\n",
       "    }\n",
       "\n",
       "    .dataframe tbody tr th {\n",
       "        vertical-align: top;\n",
       "    }\n",
       "\n",
       "    .dataframe thead th {\n",
       "        text-align: right;\n",
       "    }\n",
       "</style>\n",
       "<table border=\"1\" class=\"dataframe\">\n",
       "  <thead>\n",
       "    <tr style=\"text-align: right;\">\n",
       "      <th></th>\n",
       "      <th>course_name</th>\n",
       "      <th>duration</th>\n",
       "    </tr>\n",
       "  </thead>\n",
       "  <tbody>\n",
       "    <tr>\n",
       "      <th>0</th>\n",
       "      <td>Data Science</td>\n",
       "      <td>2</td>\n",
       "    </tr>\n",
       "    <tr>\n",
       "      <th>1</th>\n",
       "      <td>Machine Learning</td>\n",
       "      <td>3</td>\n",
       "    </tr>\n",
       "    <tr>\n",
       "      <th>2</th>\n",
       "      <td>Big Data</td>\n",
       "      <td>6</td>\n",
       "    </tr>\n",
       "    <tr>\n",
       "      <th>3</th>\n",
       "      <td>Data Engineer</td>\n",
       "      <td>4</td>\n",
       "    </tr>\n",
       "  </tbody>\n",
       "</table>\n",
       "</div>"
      ],
      "text/plain": [
       "        course_name  duration\n",
       "0      Data Science         2\n",
       "1  Machine Learning         3\n",
       "2          Big Data         6\n",
       "3     Data Engineer         4"
      ]
     },
     "execution_count": 8,
     "metadata": {},
     "output_type": "execute_result"
    }
   ],
   "source": [
    "df"
   ]
  },
  {
   "cell_type": "code",
   "execution_count": 9,
   "id": "b4a2d3ee-bb18-44c8-81de-a65cb33b3ba9",
   "metadata": {},
   "outputs": [],
   "source": [
    "\n",
    "reindex=[3,0,1,2]\n",
    "\n",
    "new_df=pd.DataFrame(data,index=reindex)"
   ]
  },
  {
   "cell_type": "code",
   "execution_count": 10,
   "id": "491e590f-fe46-4193-92ba-6a3e363ed39a",
   "metadata": {},
   "outputs": [
    {
     "data": {
      "text/html": [
       "<div>\n",
       "<style scoped>\n",
       "    .dataframe tbody tr th:only-of-type {\n",
       "        vertical-align: middle;\n",
       "    }\n",
       "\n",
       "    .dataframe tbody tr th {\n",
       "        vertical-align: top;\n",
       "    }\n",
       "\n",
       "    .dataframe thead th {\n",
       "        text-align: right;\n",
       "    }\n",
       "</style>\n",
       "<table border=\"1\" class=\"dataframe\">\n",
       "  <thead>\n",
       "    <tr style=\"text-align: right;\">\n",
       "      <th></th>\n",
       "      <th>course_name</th>\n",
       "      <th>duration</th>\n",
       "    </tr>\n",
       "  </thead>\n",
       "  <tbody>\n",
       "    <tr>\n",
       "      <th>3</th>\n",
       "      <td>Data Science</td>\n",
       "      <td>2</td>\n",
       "    </tr>\n",
       "    <tr>\n",
       "      <th>0</th>\n",
       "      <td>Machine Learning</td>\n",
       "      <td>3</td>\n",
       "    </tr>\n",
       "    <tr>\n",
       "      <th>1</th>\n",
       "      <td>Big Data</td>\n",
       "      <td>6</td>\n",
       "    </tr>\n",
       "    <tr>\n",
       "      <th>2</th>\n",
       "      <td>Data Engineer</td>\n",
       "      <td>4</td>\n",
       "    </tr>\n",
       "  </tbody>\n",
       "</table>\n",
       "</div>"
      ],
      "text/plain": [
       "        course_name  duration\n",
       "3      Data Science         2\n",
       "0  Machine Learning         3\n",
       "1          Big Data         6\n",
       "2     Data Engineer         4"
      ]
     },
     "execution_count": 10,
     "metadata": {},
     "output_type": "execute_result"
    }
   ],
   "source": [
    "new_df"
   ]
  },
  {
   "cell_type": "code",
   "execution_count": 11,
   "id": "12a3f43f-4a95-4c79-add5-b55713472559",
   "metadata": {},
   "outputs": [
    {
     "data": {
      "text/plain": [
       "4"
      ]
     },
     "execution_count": 11,
     "metadata": {},
     "output_type": "execute_result"
    }
   ],
   "source": [
    "new_df.loc[2,\"duration\"]"
   ]
  },
  {
   "cell_type": "code",
   "execution_count": 16,
   "id": "a28186b7-00f4-4390-9a01-6bce92c46f27",
   "metadata": {},
   "outputs": [
    {
     "data": {
      "text/plain": [
       "'Big Data'"
      ]
     },
     "execution_count": 16,
     "metadata": {},
     "output_type": "execute_result"
    }
   ],
   "source": [
    "new_df.iloc[2,0]"
   ]
  },
  {
   "cell_type": "markdown",
   "id": "1d90533f-4c7b-4d9b-b287-b390eaab09eb",
   "metadata": {},
   "source": [
    "the difference between loc and iloc as from the above example is that in loc it gives the result according to the row index where else in i loc it gives according to the the by default index "
   ]
  },
  {
   "cell_type": "markdown",
   "id": "4997c036-e382-428f-9825-bdca33cad7b8",
   "metadata": {},
   "source": [
    "Consider the below code to answer further questions:\n",
    "import pandas as pd\n",
    "import numpy as np\n",
    "columns = ['column_1', 'column_2', 'column_3', 'column_4', 'column_5', 'column_6']\n",
    "indices = [1,2,3,4,5,6]\n",
    "#Creating a dataframe:\n",
    "df1 = pd.DataFrame(np.random.rand(6,6), columns = columns, index = indices)"
   ]
  },
  {
   "cell_type": "code",
   "execution_count": 17,
   "id": "ec9e0cf0-9865-4bbd-928d-90786118eda7",
   "metadata": {},
   "outputs": [],
   "source": [
    "import pandas as pd\n",
    "import numpy as np\n",
    "columns = ['column_1', 'column_2', 'column_3', 'column_4', 'column_5', 'column_6']\n",
    "indices = [1,2,3,4,5,6]\n",
    "#Creating a dataframe:\n",
    "df1 = pd.DataFrame(np.random.rand(6,6), columns = columns, index = indices)"
   ]
  },
  {
   "cell_type": "code",
   "execution_count": 18,
   "id": "f76a8665-baed-44ef-983e-55930d883ca5",
   "metadata": {},
   "outputs": [
    {
     "data": {
      "text/html": [
       "<div>\n",
       "<style scoped>\n",
       "    .dataframe tbody tr th:only-of-type {\n",
       "        vertical-align: middle;\n",
       "    }\n",
       "\n",
       "    .dataframe tbody tr th {\n",
       "        vertical-align: top;\n",
       "    }\n",
       "\n",
       "    .dataframe thead th {\n",
       "        text-align: right;\n",
       "    }\n",
       "</style>\n",
       "<table border=\"1\" class=\"dataframe\">\n",
       "  <thead>\n",
       "    <tr style=\"text-align: right;\">\n",
       "      <th></th>\n",
       "      <th>column_1</th>\n",
       "      <th>column_2</th>\n",
       "      <th>column_3</th>\n",
       "      <th>column_4</th>\n",
       "      <th>column_5</th>\n",
       "      <th>column_6</th>\n",
       "    </tr>\n",
       "  </thead>\n",
       "  <tbody>\n",
       "    <tr>\n",
       "      <th>1</th>\n",
       "      <td>0.976756</td>\n",
       "      <td>0.565535</td>\n",
       "      <td>0.330134</td>\n",
       "      <td>0.210694</td>\n",
       "      <td>0.202082</td>\n",
       "      <td>0.567097</td>\n",
       "    </tr>\n",
       "    <tr>\n",
       "      <th>2</th>\n",
       "      <td>0.680250</td>\n",
       "      <td>0.316158</td>\n",
       "      <td>0.303624</td>\n",
       "      <td>0.740083</td>\n",
       "      <td>0.966767</td>\n",
       "      <td>0.911577</td>\n",
       "    </tr>\n",
       "    <tr>\n",
       "      <th>3</th>\n",
       "      <td>0.943988</td>\n",
       "      <td>0.165738</td>\n",
       "      <td>0.755966</td>\n",
       "      <td>0.493859</td>\n",
       "      <td>0.590845</td>\n",
       "      <td>0.083493</td>\n",
       "    </tr>\n",
       "    <tr>\n",
       "      <th>4</th>\n",
       "      <td>0.506185</td>\n",
       "      <td>0.227961</td>\n",
       "      <td>0.428883</td>\n",
       "      <td>0.933625</td>\n",
       "      <td>0.247541</td>\n",
       "      <td>0.786808</td>\n",
       "    </tr>\n",
       "    <tr>\n",
       "      <th>5</th>\n",
       "      <td>0.597570</td>\n",
       "      <td>0.258452</td>\n",
       "      <td>0.295435</td>\n",
       "      <td>0.279007</td>\n",
       "      <td>0.729786</td>\n",
       "      <td>0.191342</td>\n",
       "    </tr>\n",
       "    <tr>\n",
       "      <th>6</th>\n",
       "      <td>0.323192</td>\n",
       "      <td>0.330677</td>\n",
       "      <td>0.114910</td>\n",
       "      <td>0.779696</td>\n",
       "      <td>0.963044</td>\n",
       "      <td>0.027837</td>\n",
       "    </tr>\n",
       "  </tbody>\n",
       "</table>\n",
       "</div>"
      ],
      "text/plain": [
       "   column_1  column_2  column_3  column_4  column_5  column_6\n",
       "1  0.976756  0.565535  0.330134  0.210694  0.202082  0.567097\n",
       "2  0.680250  0.316158  0.303624  0.740083  0.966767  0.911577\n",
       "3  0.943988  0.165738  0.755966  0.493859  0.590845  0.083493\n",
       "4  0.506185  0.227961  0.428883  0.933625  0.247541  0.786808\n",
       "5  0.597570  0.258452  0.295435  0.279007  0.729786  0.191342\n",
       "6  0.323192  0.330677  0.114910  0.779696  0.963044  0.027837"
      ]
     },
     "execution_count": 18,
     "metadata": {},
     "output_type": "execute_result"
    }
   ],
   "source": [
    "df1"
   ]
  },
  {
   "cell_type": "markdown",
   "id": "63df0353-1360-4d6f-9ef9-cf46390ccd49",
   "metadata": {},
   "source": [
    "Q4. Write a code to find the following statistical measurements for the above dataframe df1:\n",
    "(i) mean of each and every column present in the dataframe.\n",
    "(ii) standard deviation of column, ‘column_2’"
   ]
  },
  {
   "cell_type": "code",
   "execution_count": 25,
   "id": "e9dcc4d2-4f63-4962-bb67-275cd4f50068",
   "metadata": {},
   "outputs": [
    {
     "data": {
      "text/html": [
       "<div>\n",
       "<style scoped>\n",
       "    .dataframe tbody tr th:only-of-type {\n",
       "        vertical-align: middle;\n",
       "    }\n",
       "\n",
       "    .dataframe tbody tr th {\n",
       "        vertical-align: top;\n",
       "    }\n",
       "\n",
       "    .dataframe thead th {\n",
       "        text-align: right;\n",
       "    }\n",
       "</style>\n",
       "<table border=\"1\" class=\"dataframe\">\n",
       "  <thead>\n",
       "    <tr style=\"text-align: right;\">\n",
       "      <th></th>\n",
       "      <th>column_1</th>\n",
       "      <th>column_2</th>\n",
       "      <th>column_3</th>\n",
       "      <th>column_4</th>\n",
       "      <th>column_5</th>\n",
       "      <th>column_6</th>\n",
       "    </tr>\n",
       "  </thead>\n",
       "  <tbody>\n",
       "    <tr>\n",
       "      <th>mean</th>\n",
       "      <td>0.671324</td>\n",
       "      <td>0.310753</td>\n",
       "      <td>0.371492</td>\n",
       "      <td>0.572827</td>\n",
       "      <td>0.616677</td>\n",
       "      <td>0.428026</td>\n",
       "    </tr>\n",
       "  </tbody>\n",
       "</table>\n",
       "</div>"
      ],
      "text/plain": [
       "      column_1  column_2  column_3  column_4  column_5  column_6\n",
       "mean  0.671324  0.310753  0.371492  0.572827  0.616677  0.428026"
      ]
     },
     "execution_count": 25,
     "metadata": {},
     "output_type": "execute_result"
    }
   ],
   "source": [
    "df1.describe()[1:2]"
   ]
  },
  {
   "cell_type": "code",
   "execution_count": 27,
   "id": "da169913-660a-46ea-8a73-3510422c4fe3",
   "metadata": {},
   "outputs": [
    {
     "data": {
      "text/html": [
       "<div>\n",
       "<style scoped>\n",
       "    .dataframe tbody tr th:only-of-type {\n",
       "        vertical-align: middle;\n",
       "    }\n",
       "\n",
       "    .dataframe tbody tr th {\n",
       "        vertical-align: top;\n",
       "    }\n",
       "\n",
       "    .dataframe thead th {\n",
       "        text-align: right;\n",
       "    }\n",
       "</style>\n",
       "<table border=\"1\" class=\"dataframe\">\n",
       "  <thead>\n",
       "    <tr style=\"text-align: right;\">\n",
       "      <th></th>\n",
       "      <th>column_1</th>\n",
       "      <th>column_2</th>\n",
       "      <th>column_3</th>\n",
       "      <th>column_4</th>\n",
       "      <th>column_5</th>\n",
       "      <th>column_6</th>\n",
       "    </tr>\n",
       "  </thead>\n",
       "  <tbody>\n",
       "    <tr>\n",
       "      <th>std</th>\n",
       "      <td>0.253622</td>\n",
       "      <td>0.138535</td>\n",
       "      <td>0.214033</td>\n",
       "      <td>0.291428</td>\n",
       "      <td>0.3359</td>\n",
       "      <td>0.378618</td>\n",
       "    </tr>\n",
       "  </tbody>\n",
       "</table>\n",
       "</div>"
      ],
      "text/plain": [
       "     column_1  column_2  column_3  column_4  column_5  column_6\n",
       "std  0.253622  0.138535  0.214033  0.291428    0.3359  0.378618"
      ]
     },
     "execution_count": 27,
     "metadata": {},
     "output_type": "execute_result"
    }
   ],
   "source": [
    "df1.describe()[2:3]"
   ]
  },
  {
   "cell_type": "markdown",
   "id": "96b56fb6-b570-4eca-a29f-2bfc8560e66d",
   "metadata": {},
   "source": [
    "Q5. Replace the data present in the second row of column, ‘column_2’ by a string variable then find the\n",
    "mean of column, column_2.\n",
    "If you are getting errors in executing it then explain why.\n",
    "[Hint: To replace the data use df1.loc[] and equate this to string data of your choice.]"
   ]
  },
  {
   "cell_type": "code",
   "execution_count": 28,
   "id": "935d6e40-b28a-4fb4-8b22-a904935580df",
   "metadata": {},
   "outputs": [
    {
     "data": {
      "text/html": [
       "<div>\n",
       "<style scoped>\n",
       "    .dataframe tbody tr th:only-of-type {\n",
       "        vertical-align: middle;\n",
       "    }\n",
       "\n",
       "    .dataframe tbody tr th {\n",
       "        vertical-align: top;\n",
       "    }\n",
       "\n",
       "    .dataframe thead th {\n",
       "        text-align: right;\n",
       "    }\n",
       "</style>\n",
       "<table border=\"1\" class=\"dataframe\">\n",
       "  <thead>\n",
       "    <tr style=\"text-align: right;\">\n",
       "      <th></th>\n",
       "      <th>column_1</th>\n",
       "      <th>column_2</th>\n",
       "      <th>column_3</th>\n",
       "      <th>column_4</th>\n",
       "      <th>column_5</th>\n",
       "      <th>column_6</th>\n",
       "    </tr>\n",
       "  </thead>\n",
       "  <tbody>\n",
       "    <tr>\n",
       "      <th>1</th>\n",
       "      <td>0.976756</td>\n",
       "      <td>0.565535</td>\n",
       "      <td>0.330134</td>\n",
       "      <td>0.210694</td>\n",
       "      <td>0.202082</td>\n",
       "      <td>0.567097</td>\n",
       "    </tr>\n",
       "    <tr>\n",
       "      <th>2</th>\n",
       "      <td>0.680250</td>\n",
       "      <td>0.316158</td>\n",
       "      <td>0.303624</td>\n",
       "      <td>0.740083</td>\n",
       "      <td>0.966767</td>\n",
       "      <td>0.911577</td>\n",
       "    </tr>\n",
       "    <tr>\n",
       "      <th>3</th>\n",
       "      <td>0.943988</td>\n",
       "      <td>0.165738</td>\n",
       "      <td>0.755966</td>\n",
       "      <td>0.493859</td>\n",
       "      <td>0.590845</td>\n",
       "      <td>0.083493</td>\n",
       "    </tr>\n",
       "    <tr>\n",
       "      <th>4</th>\n",
       "      <td>0.506185</td>\n",
       "      <td>0.227961</td>\n",
       "      <td>0.428883</td>\n",
       "      <td>0.933625</td>\n",
       "      <td>0.247541</td>\n",
       "      <td>0.786808</td>\n",
       "    </tr>\n",
       "    <tr>\n",
       "      <th>5</th>\n",
       "      <td>0.597570</td>\n",
       "      <td>0.258452</td>\n",
       "      <td>0.295435</td>\n",
       "      <td>0.279007</td>\n",
       "      <td>0.729786</td>\n",
       "      <td>0.191342</td>\n",
       "    </tr>\n",
       "    <tr>\n",
       "      <th>6</th>\n",
       "      <td>0.323192</td>\n",
       "      <td>0.330677</td>\n",
       "      <td>0.114910</td>\n",
       "      <td>0.779696</td>\n",
       "      <td>0.963044</td>\n",
       "      <td>0.027837</td>\n",
       "    </tr>\n",
       "  </tbody>\n",
       "</table>\n",
       "</div>"
      ],
      "text/plain": [
       "   column_1  column_2  column_3  column_4  column_5  column_6\n",
       "1  0.976756  0.565535  0.330134  0.210694  0.202082  0.567097\n",
       "2  0.680250  0.316158  0.303624  0.740083  0.966767  0.911577\n",
       "3  0.943988  0.165738  0.755966  0.493859  0.590845  0.083493\n",
       "4  0.506185  0.227961  0.428883  0.933625  0.247541  0.786808\n",
       "5  0.597570  0.258452  0.295435  0.279007  0.729786  0.191342\n",
       "6  0.323192  0.330677  0.114910  0.779696  0.963044  0.027837"
      ]
     },
     "execution_count": 28,
     "metadata": {},
     "output_type": "execute_result"
    }
   ],
   "source": [
    "df1"
   ]
  },
  {
   "cell_type": "code",
   "execution_count": 33,
   "id": "04383b3b-52cd-4501-8b9c-1f65bf1ff90a",
   "metadata": {},
   "outputs": [],
   "source": [
    "df1.loc[2,\"column_2\"]=\"dassu\""
   ]
  },
  {
   "cell_type": "code",
   "execution_count": 34,
   "id": "bee99c94-f435-4efc-9374-67ff53c4500f",
   "metadata": {},
   "outputs": [
    {
     "data": {
      "text/html": [
       "<div>\n",
       "<style scoped>\n",
       "    .dataframe tbody tr th:only-of-type {\n",
       "        vertical-align: middle;\n",
       "    }\n",
       "\n",
       "    .dataframe tbody tr th {\n",
       "        vertical-align: top;\n",
       "    }\n",
       "\n",
       "    .dataframe thead th {\n",
       "        text-align: right;\n",
       "    }\n",
       "</style>\n",
       "<table border=\"1\" class=\"dataframe\">\n",
       "  <thead>\n",
       "    <tr style=\"text-align: right;\">\n",
       "      <th></th>\n",
       "      <th>column_1</th>\n",
       "      <th>column_2</th>\n",
       "      <th>column_3</th>\n",
       "      <th>column_4</th>\n",
       "      <th>column_5</th>\n",
       "      <th>column_6</th>\n",
       "    </tr>\n",
       "  </thead>\n",
       "  <tbody>\n",
       "    <tr>\n",
       "      <th>1</th>\n",
       "      <td>0.976756</td>\n",
       "      <td>0.565535</td>\n",
       "      <td>0.330134</td>\n",
       "      <td>0.210694</td>\n",
       "      <td>0.202082</td>\n",
       "      <td>0.567097</td>\n",
       "    </tr>\n",
       "    <tr>\n",
       "      <th>2</th>\n",
       "      <td>0.680250</td>\n",
       "      <td>dassu</td>\n",
       "      <td>0.303624</td>\n",
       "      <td>0.740083</td>\n",
       "      <td>0.966767</td>\n",
       "      <td>0.911577</td>\n",
       "    </tr>\n",
       "    <tr>\n",
       "      <th>3</th>\n",
       "      <td>0.943988</td>\n",
       "      <td>0.165738</td>\n",
       "      <td>0.755966</td>\n",
       "      <td>0.493859</td>\n",
       "      <td>0.590845</td>\n",
       "      <td>0.083493</td>\n",
       "    </tr>\n",
       "    <tr>\n",
       "      <th>4</th>\n",
       "      <td>0.506185</td>\n",
       "      <td>0.227961</td>\n",
       "      <td>0.428883</td>\n",
       "      <td>0.933625</td>\n",
       "      <td>0.247541</td>\n",
       "      <td>0.786808</td>\n",
       "    </tr>\n",
       "    <tr>\n",
       "      <th>5</th>\n",
       "      <td>0.597570</td>\n",
       "      <td>0.258452</td>\n",
       "      <td>0.295435</td>\n",
       "      <td>0.279007</td>\n",
       "      <td>0.729786</td>\n",
       "      <td>0.191342</td>\n",
       "    </tr>\n",
       "    <tr>\n",
       "      <th>6</th>\n",
       "      <td>0.323192</td>\n",
       "      <td>0.330677</td>\n",
       "      <td>0.114910</td>\n",
       "      <td>0.779696</td>\n",
       "      <td>0.963044</td>\n",
       "      <td>0.027837</td>\n",
       "    </tr>\n",
       "  </tbody>\n",
       "</table>\n",
       "</div>"
      ],
      "text/plain": [
       "   column_1  column_2  column_3  column_4  column_5  column_6\n",
       "1  0.976756  0.565535  0.330134  0.210694  0.202082  0.567097\n",
       "2  0.680250     dassu  0.303624  0.740083  0.966767  0.911577\n",
       "3  0.943988  0.165738  0.755966  0.493859  0.590845  0.083493\n",
       "4  0.506185  0.227961  0.428883  0.933625  0.247541  0.786808\n",
       "5  0.597570  0.258452  0.295435  0.279007  0.729786  0.191342\n",
       "6  0.323192  0.330677  0.114910  0.779696  0.963044  0.027837"
      ]
     },
     "execution_count": 34,
     "metadata": {},
     "output_type": "execute_result"
    }
   ],
   "source": [
    "df1"
   ]
  },
  {
   "cell_type": "code",
   "execution_count": 36,
   "id": "b0947bb0-2270-44d5-8080-45018be90063",
   "metadata": {},
   "outputs": [
    {
     "data": {
      "text/plain": [
       "<pandas.core.groupby.generic.DataFrameGroupBy object at 0x7f204b818220>"
      ]
     },
     "execution_count": 36,
     "metadata": {},
     "output_type": "execute_result"
    }
   ],
   "source": [
    "df1.groupby(\"column_2\")"
   ]
  },
  {
   "cell_type": "code",
   "execution_count": 37,
   "id": "c276aa47-f2c7-4217-9a74-6a3db70b0c82",
   "metadata": {},
   "outputs": [
    {
     "name": "stderr",
     "output_type": "stream",
     "text": [
      "/tmp/ipykernel_400/2053335143.py:1: FutureWarning: The default value of numeric_only in DataFrame.mean is deprecated. In a future version, it will default to False. In addition, specifying 'numeric_only=None' is deprecated. Select only valid columns or specify the value of numeric_only to silence this warning.\n",
      "  df1.mean()\n"
     ]
    },
    {
     "data": {
      "text/plain": [
       "column_1    0.671324\n",
       "column_3    0.371492\n",
       "column_4    0.572827\n",
       "column_5    0.616677\n",
       "column_6    0.428026\n",
       "dtype: float64"
      ]
     },
     "execution_count": 37,
     "metadata": {},
     "output_type": "execute_result"
    }
   ],
   "source": [
    "df1.mean()"
   ]
  },
  {
   "cell_type": "markdown",
   "id": "56ad6f7a-da41-4706-acdb-9abb39af3bda",
   "metadata": {},
   "source": [
    "so it is not able to calculate the mean of column_2 because it consists of string data , and we cannot calcualte the mean of string value , it is applied on numerical (integer) values only.1"
   ]
  },
  {
   "cell_type": "markdown",
   "id": "ff6e7cb9-9990-4161-895e-2d9ec63e300e",
   "metadata": {},
   "source": [
    "Q6. What do you understand about the windows function in pandas and list the types of windows\n",
    "functions?"
   ]
  },
  {
   "cell_type": "markdown",
   "id": "e7796148-a990-4894-a3b1-f778541b1087",
   "metadata": {},
   "source": [
    "In pandas, the windows functions are a group of operations that allow you to perform calculations and transformations on a specific subset of data within a sliding window"
   ]
  },
  {
   "cell_type": "markdown",
   "id": "8b1b5c1c-2d79-43ff-b7c1-b6c2a03d79ca",
   "metadata": {},
   "source": [
    "Rolling Window Functions:\n",
    "\n",
    "Rolling window functions operate on a fixed-size sliding window of data.\n",
    "They compute statistics or apply transformations to the values within the window.\n",
    "The window moves forward by one observation at a time."
   ]
  },
  {
   "cell_type": "markdown",
   "id": "0b8d1e5e-b57f-42c4-9e48-1cc6bdc43fed",
   "metadata": {},
   "source": [
    "Expanding Window Functions:\n",
    "\n",
    "Expanding window functions calculate statistics or apply transformations to an expanding window of data.\n",
    "The window starts from the beginning of the data and grows with each new observation.\n",
    "These functions can help track the cumulative values or growth over time."
   ]
  },
  {
   "cell_type": "markdown",
   "id": "9c693c9c-7b93-4055-82bd-4fbbe9521296",
   "metadata": {},
   "source": [
    "Q7. Write a code to print only the current month and year at the time of answering this question.\n",
    "[Hint: Use pandas.datetime function]"
   ]
  },
  {
   "cell_type": "code",
   "execution_count": 42,
   "id": "e1c971b1-e4a3-4456-8506-78f8f024ae62",
   "metadata": {},
   "outputs": [],
   "source": [
    "current_date_time=pd.to_datetime('today')"
   ]
  },
  {
   "cell_type": "code",
   "execution_count": 45,
   "id": "8d8b33eb-532f-4234-a09b-bbc84cc580e2",
   "metadata": {},
   "outputs": [
    {
     "name": "stdout",
     "output_type": "stream",
     "text": [
      "Current month of this year is 6\n"
     ]
    }
   ],
   "source": [
    "print(f\"Current month of this year is {current_date_time.month}\")"
   ]
  },
  {
   "cell_type": "code",
   "execution_count": 46,
   "id": "db53bfbd-af56-44f2-b2c7-a9d943293eca",
   "metadata": {},
   "outputs": [
    {
     "name": "stdout",
     "output_type": "stream",
     "text": [
      "Current month of this year is 2023\n"
     ]
    }
   ],
   "source": [
    "print(f\"Current month of this year is {current_date_time.year}\")"
   ]
  },
  {
   "cell_type": "code",
   "execution_count": 51,
   "id": "d75bad70-19d6-44aa-b79b-72ebd02fdbde",
   "metadata": {},
   "outputs": [
    {
     "name": "stdout",
     "output_type": "stream",
     "text": [
      "Current day of this year is 24\n"
     ]
    }
   ],
   "source": [
    "print(f\"Current day of this year is {current_date_time.day}\")"
   ]
  },
  {
   "cell_type": "code",
   "execution_count": 54,
   "id": "672c2f7b-fb79-4055-a89d-90d8d3c3e162",
   "metadata": {},
   "outputs": [
    {
     "name": "stdout",
     "output_type": "stream",
     "text": [
      "Current time of this year is Sat Jun 24 12:17:24 2023\n"
     ]
    }
   ],
   "source": [
    "print(f\"Current time of this year is {current_date_time.ctime()}\")"
   ]
  },
  {
   "cell_type": "code",
   "execution_count": 66,
   "id": "574c6d98-f115-4bd8-bda0-d30faa71851c",
   "metadata": {},
   "outputs": [
    {
     "name": "stdout",
     "output_type": "stream",
     "text": [
      "Current date of this year is 2023-06-24\n"
     ]
    }
   ],
   "source": [
    "print(f\"Current date of this year is {current_date_time.date()}\")"
   ]
  },
  {
   "cell_type": "markdown",
   "id": "75cc0890-1ad4-4002-92bb-5d8ee465b295",
   "metadata": {},
   "source": [
    "Q8. Write a Python program that takes in two dates as input (in the format YYYY-MM-DD) and\n",
    "calculates the difference between them in days, hours, and minutes using Pandas time delta. The\n",
    "program should prompt the user to enter the dates and display the result."
   ]
  },
  {
   "cell_type": "code",
   "execution_count": 70,
   "id": "aa7436a4-c8b6-456e-8150-9fe56455cef4",
   "metadata": {},
   "outputs": [
    {
     "name": "stdin",
     "output_type": "stream",
     "text": [
      "Enter the start date (YYYY-MM-DD):  2023-06-01\n",
      "Enter the end date (YYYY-MM-DD):  2023-06-07\n"
     ]
    },
    {
     "name": "stdout",
     "output_type": "stream",
     "text": [
      "Time difference:\n",
      "Days: 6\n",
      "Hours: 0\n",
      "Minutes: 0\n"
     ]
    }
   ],
   "source": [
    "import pandas as pd\n",
    "\n",
    "# Prompt the user to enter the dates\n",
    "start_date = input(\"Enter the start date (YYYY-MM-DD): \")\n",
    "end_date = input(\"Enter the end date (YYYY-MM-DD): \")\n",
    "\n",
    "# Convert the input dates to pandas datetime objects\n",
    "start_date = pd.to_datetime(start_date)\n",
    "end_date = pd.to_datetime(end_date)\n",
    "\n",
    "# Calculate the difference between the dates\n",
    "time_difference = end_date - start_date\n",
    "\n",
    "# Extract the days, hours, and minutes from the time difference\n",
    "days = time_difference.days\n",
    "hours = time_difference.seconds // 3600\n",
    "minutes = (time_difference.seconds // 60) % 60\n",
    "\n",
    "# Display the result\n",
    "print(\"Time difference:\")\n",
    "print(f\"Days: {days}\")\n",
    "print(f\"Hours: {hours}\")\n",
    "print(f\"Minutes: {minutes}\")\n"
   ]
  },
  {
   "cell_type": "markdown",
   "id": "e7d7ca1d-62bb-40bb-ac60-c6243437a52e",
   "metadata": {},
   "source": [
    "Q9. Write a Python program that reads a CSV file containing categorical data and converts a specified\n",
    "column to a categorical data type. The program should prompt the user to enter the file path, column\n",
    "name, and category order, and then display the sorted data."
   ]
  },
  {
   "cell_type": "code",
   "execution_count": null,
   "id": "17c9c946-f121-405d-973e-baa17db7ef72",
   "metadata": {},
   "outputs": [],
   "source": []
  }
 ],
 "metadata": {
  "kernelspec": {
   "display_name": "Python 3 (ipykernel)",
   "language": "python",
   "name": "python3"
  },
  "language_info": {
   "codemirror_mode": {
    "name": "ipython",
    "version": 3
   },
   "file_extension": ".py",
   "mimetype": "text/x-python",
   "name": "python",
   "nbconvert_exporter": "python",
   "pygments_lexer": "ipython3",
   "version": "3.10.8"
  }
 },
 "nbformat": 4,
 "nbformat_minor": 5
}
