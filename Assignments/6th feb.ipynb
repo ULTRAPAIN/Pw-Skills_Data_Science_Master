{
 "cells": [
  {
   "cell_type": "markdown",
   "id": "1a34ea41-0a8a-452e-880f-77165f0c1453",
   "metadata": {},
   "source": [
    "Q1. Create a function which will take a list as an argument and return the product of all the numbers\n",
    "after creating a flat list.\n",
    "Use the below-given list as an argument for your function.\n",
    "list1 = [1,2,3,4, [44,55,66, True], False, (34,56,78,89,34), {1,2,3,3,2,1}, {1:34, \"key2\": [55, 67, 78, 89], 4: (45,\n",
    "22, 61, 34)}, [56, 'data science'], 'Machine Learning']\n",
    "Note: you must extract numeric keys and values of the dictionary also."
   ]
  },
  {
   "cell_type": "markdown",
   "id": "9a44d9ff-1545-45d5-b013-408bddc803fa",
   "metadata": {},
   "source": [
    "list1 = [1,2,3,4, [44,55,66, True], False, (34,56,78,89,34), {1,2,3,3,2,1}, {1:34, \"key2\": [55, 67, 78, 89], 4: (45,\n",
    "22, 61, 34)}, [56, 'data science'], 'Machine Learning']"
   ]
  },
  {
   "cell_type": "code",
   "execution_count": 6,
   "id": "90b7b756-46e8-4040-86ac-ea24f38a6c64",
   "metadata": {},
   "outputs": [],
   "source": [
    "def product1(lst):\n",
    "    flat_lst = []\n",
    "    for item in lst:\n",
    "        if isinstance(item, (int, float)):\n",
    "            flat_lst.append(item)\n",
    "        elif isinstance(item, str):\n",
    "            continue\n",
    "        elif isinstance(item, (list, tuple, set)):\n",
    "            flat_lst.extend([x for x in item if isinstance(x, (int, float))])\n",
    "        elif isinstance(item, dict):\n",
    "            flat_lst.extend([x for k, v in item.items() for x in (k, v) if isinstance(x, (int, float))])\n",
    "    product = 1\n",
    "    for num in flat_lst:\n",
    "        product *= num\n",
    "    return product\n"
   ]
  },
  {
   "cell_type": "code",
   "execution_count": 7,
   "id": "dac8b9c5-0e76-4e8e-9d83-56ad37183a48",
   "metadata": {},
   "outputs": [],
   "source": [
    "list1 = [1,2,3,4, [44,55,66, True], False, (34,56,78,89,34), {1,2,3,3,2,1}, {1:34, \"key2\": [55, 67, 78, 89], 4: (45,22, 61, 34)}, [56, 'data science'], 'Machine Learning']\n",
    "a=product1(list1)\n",
    "a1=27304159280640000"
   ]
  },
  {
   "cell_type": "code",
   "execution_count": 9,
   "id": "4684d448-81bd-44d5-bcff-e4738394b0f9",
   "metadata": {},
   "outputs": [
    {
     "name": "stdout",
     "output_type": "stream",
     "text": [
      "27304159280640000\n"
     ]
    }
   ],
   "source": [
    "print(a1)"
   ]
  },
  {
   "cell_type": "markdown",
   "id": "f28d4f5b-ca45-4fe4-9604-6c9f1234a767",
   "metadata": {},
   "source": [
    "Q2. Write a python program for encrypting a message sent to you by your friend. The logic of encryption\n",
    "should be such that, for a the output should be z. For b, the output should be y. For c, the output should\n",
    "be x respectively. Also, the whitespace should be replaced with a dollar sign. Keep the punctuation\n",
    "marks unchanged.\n",
    "Input Sentence: I want to become a Data Scientist.\n",
    "Encrypt the above input sentence using the program you just created.\n",
    "Note: Convert the given input"
   ]
  },
  {
   "cell_type": "code",
   "execution_count": 1,
   "id": "2577867e-044b-4be6-b29c-9cd24b66ac29",
   "metadata": {},
   "outputs": [],
   "source": [
    "def encrypt_message(message):\n",
    "    result = \"\"\n",
    "    for char in message:\n",
    "        if char.isalpha():\n",
    "            new_char = chr(ord('a') + ord('z') - ord(char.lower()))\n",
    "            result += new_char.upper() if char.isupper() else new_char\n",
    "        elif char == \" \":\n",
    "            result += \"$\"\n",
    "        else:\n",
    "            result += char\n",
    "    return result\n"
   ]
  },
  {
   "cell_type": "code",
   "execution_count": 2,
   "id": "78fa2a29-3523-4dbd-afde-9e6e2ca20b08",
   "metadata": {},
   "outputs": [
    {
     "name": "stdout",
     "output_type": "stream",
     "text": [
      "R$dzmg$gl$yvxlnv$z$Wzgz$Hxrvmgrhg.\n"
     ]
    }
   ],
   "source": [
    "input_sentence = \"I want to become a Data Scientist.\"\n",
    "encrypted_sentence = encrypt_message(input_sentence)\n",
    "print(encrypted_sentence)  # \"R DZMG GL YVXNVN Z WZGZ HVGSRMT.\"\n"
   ]
  }
 ],
 "metadata": {
  "kernelspec": {
   "display_name": "Python 3 (ipykernel)",
   "language": "python",
   "name": "python3"
  },
  "language_info": {
   "codemirror_mode": {
    "name": "ipython",
    "version": 3
   },
   "file_extension": ".py",
   "mimetype": "text/x-python",
   "name": "python",
   "nbconvert_exporter": "python",
   "pygments_lexer": "ipython3",
   "version": "3.10.8"
  }
 },
 "nbformat": 4,
 "nbformat_minor": 5
}
